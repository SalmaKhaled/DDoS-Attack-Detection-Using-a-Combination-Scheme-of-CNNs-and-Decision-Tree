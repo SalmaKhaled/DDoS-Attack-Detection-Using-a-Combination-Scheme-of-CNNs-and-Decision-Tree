{
  "nbformat": 4,
  "nbformat_minor": 0,
  "metadata": {
    "colab": {
      "name": "Group_Omar_Xception_Retrain.ipynb",
      "provenance": [],
      "collapsed_sections": [],
      "machine_shape": "hm"
    },
    "kernelspec": {
      "name": "python3",
      "display_name": "Python 3"
    },
    "language_info": {
      "name": "python"
    },
    "accelerator": "GPU"
  },
  "cells": [
    {
      "cell_type": "markdown",
      "source": [
        "# Run All"
      ],
      "metadata": {
        "id": "eJSAdT36FMgt"
      }
    },
    {
      "cell_type": "code",
      "execution_count": 1,
      "metadata": {
        "colab": {
          "base_uri": "https://localhost:8080/"
        },
        "id": "F30xFY9NEBnC",
        "outputId": "fce87cb8-dcd3-4fc1-cbde-be2a7740d881"
      },
      "outputs": [
        {
          "output_type": "stream",
          "name": "stdout",
          "text": [
            "Drive already mounted at /content/gdrive; to attempt to forcibly remount, call drive.mount(\"/content/gdrive\", force_remount=True).\n"
          ]
        }
      ],
      "source": [
        "from google.colab import drive\n",
        "drive.mount('/content/gdrive')"
      ]
    },
    {
      "cell_type": "code",
      "source": [
        "from sklearn import datasets #Import scikit-learn dataset library\n",
        "import numpy as np\n",
        "from sklearn.model_selection import train_test_split\n",
        "from sklearn import svm\n",
        "from sklearn.neural_network import MLPClassifier\n",
        "from sklearn import metrics\n",
        "import pandas as pd\n",
        "from sklearn.ensemble import RandomForestClassifier\n",
        "from sklearn import tree\n",
        "import matplotlib.pyplot as plt\n",
        "from sklearn import preprocessing\n",
        "from sklearn.model_selection import StratifiedShuffleSplit\n",
        "from sklearn.metrics import accuracy_score, classification_report\n",
        "import os\n",
        "from sklearn import svm\n",
        "import tensorflow as tf\n",
        "import tensorflow.keras\n",
        "from tensorflow.keras.models import Model\n",
        "from tensorflow.keras.layers import Dense, Flatten, Conv2D, MaxPooling2D, Activation, Dropout\n",
        "# from tensorflow.keras import backend as K"
      ],
      "metadata": {
        "id": "NyIyEfi8ELtU"
      },
      "execution_count": 2,
      "outputs": []
    },
    {
      "cell_type": "code",
      "source": [
        "tf.random.set_seed(42)"
      ],
      "metadata": {
        "id": "aUi-jEHWqJJy"
      },
      "execution_count": 3,
      "outputs": []
    },
    {
      "cell_type": "code",
      "source": [
        "def norm_features(X):\n",
        "    hmm2 = np.empty([983484, 66])\n",
        "    count = 0\n",
        "    for col in X:\n",
        "        hmm = []\n",
        "        min = X[col].min()\n",
        "        max = X[col].max()\n",
        "        for i in X[col]:\n",
        "            xnew = ((i - min) / (max - min)) * 255\n",
        "            hmm.append(xnew)\n",
        "        hmm2[:,count] = np.array(hmm)\n",
        "        #break\n",
        "        count += 1\n",
        "    return hmm2"
      ],
      "metadata": {
        "id": "lGJS8GiaEToA"
      },
      "execution_count": 4,
      "outputs": []
    },
    {
      "cell_type": "code",
      "source": [
        "# 66 x 66 x 3 each 198 sample will be an image\n",
        "def conv_img(X):\n",
        "    img = np.empty([4967,66,66,3])\n",
        "    i = 0\n",
        "    for j in range(4967):\n",
        "        for c in range(3):\n",
        "            for k in range(66):\n",
        "                img[j,:,k,c] = X[i,:]\n",
        "                i += 1\n",
        "    return img"
      ],
      "metadata": {
        "id": "LEqsHj_aEYJH"
      },
      "execution_count": 5,
      "outputs": []
    },
    {
      "cell_type": "code",
      "source": [
        "X = pd.read_csv('/content/gdrive/MyDrive/AI_for_CS/X_preprocessed.csv')"
      ],
      "metadata": {
        "id": "odsYhjIsEPCI"
      },
      "execution_count": 6,
      "outputs": []
    },
    {
      "cell_type": "code",
      "source": [
        "X = X.drop(columns = ['Unnamed: 0'])"
      ],
      "metadata": {
        "id": "UT5DzVGcEcOj"
      },
      "execution_count": 7,
      "outputs": []
    },
    {
      "cell_type": "code",
      "source": [
        "y = pd.read_csv('/content/gdrive/MyDrive/AI_for_CS/y_preprocessed.csv')\n",
        "y = y[\"Label\"]\n",
        "df = X.join(y)\n",
        "df = df.sort_values(by=['Label']) #sort for images\n",
        "X = df.drop(columns = ['Label'])"
      ],
      "metadata": {
        "id": "NS9zLXTNU19Z"
      },
      "execution_count": 8,
      "outputs": []
    },
    {
      "cell_type": "code",
      "source": [
        "X.shape"
      ],
      "metadata": {
        "colab": {
          "base_uri": "https://localhost:8080/"
        },
        "id": "PkP_yahgEwY1",
        "outputId": "c9275361-88d7-482d-ea6a-7edb97cbea20"
      },
      "execution_count": 9,
      "outputs": [
        {
          "output_type": "execute_result",
          "data": {
            "text/plain": [
              "(983484, 66)"
            ]
          },
          "metadata": {},
          "execution_count": 9
        }
      ]
    },
    {
      "cell_type": "code",
      "source": [
        "norm = norm_features(X)"
      ],
      "metadata": {
        "id": "P0LYtAxPEhR9"
      },
      "execution_count": 10,
      "outputs": []
    },
    {
      "cell_type": "code",
      "source": [
        "img = conv_img(norm)\n",
        "img.shape"
      ],
      "metadata": {
        "colab": {
          "base_uri": "https://localhost:8080/"
        },
        "id": "tlyLroJbEj2l",
        "outputId": "f0862475-65c0-4e3e-eb36-3e92295cfbe2"
      },
      "execution_count": 11,
      "outputs": [
        {
          "output_type": "execute_result",
          "data": {
            "text/plain": [
              "(4967, 66, 66, 3)"
            ]
          },
          "metadata": {},
          "execution_count": 11
        }
      ]
    },
    {
      "cell_type": "code",
      "source": [
        "imageA = img[10]\n",
        "plt.imshow(imageA) #benign"
      ],
      "metadata": {
        "colab": {
          "base_uri": "https://localhost:8080/",
          "height": 302
        },
        "id": "np63YkQyElos",
        "outputId": "75164d25-05f8-40a6-84f0-32e97143fbc4"
      },
      "execution_count": 12,
      "outputs": [
        {
          "output_type": "stream",
          "name": "stderr",
          "text": [
            "Clipping input data to the valid range for imshow with RGB data ([0..1] for floats or [0..255] for integers).\n"
          ]
        },
        {
          "output_type": "execute_result",
          "data": {
            "text/plain": [
              "<matplotlib.image.AxesImage at 0x7f90ea54f210>"
            ]
          },
          "metadata": {},
          "execution_count": 12
        },
        {
          "output_type": "display_data",
          "data": {
            "image/png": "[encoded data removed]",
            "text/plain": [
              "<Figure size 432x288 with 1 Axes>"
            ]
          },
          "metadata": {
            "needs_background": "light"
          }
        }
      ]
    },
    {
      "cell_type": "code",
      "source": [
        "y = 150 * [0] + 486 * [1] + 494 * [2] + 488 * [3] + 503 * [4] + 480 * [5] + 503 * [6] + 499 * [7] + 494 * [8] + 433 * [9] + 437 * [10] \n",
        "print(len(y))"
      ],
      "metadata": {
        "colab": {
          "base_uri": "https://localhost:8080/"
        },
        "id": "KJESDPebEpgk",
        "outputId": "a1f9dc59-48b4-4706-8cb2-016afe86791c"
      },
      "execution_count": 13,
      "outputs": [
        {
          "output_type": "stream",
          "name": "stdout",
          "text": [
            "4967\n"
          ]
        }
      ]
    },
    {
      "cell_type": "code",
      "source": [
        "import cv2\n",
        "images = []\n",
        "for image in img:\n",
        "  images.append(cv2.resize(image, (71,71), interpolation = cv2.INTER_AREA)) #to be applicable with Xception\n",
        "images = np.array(images)\n",
        "images.shape"
      ],
      "metadata": {
        "colab": {
          "base_uri": "https://localhost:8080/"
        },
        "id": "X4v4tFhycxOG",
        "outputId": "5b89e328-20b5-42e5-9dba-c6f3e451d519"
      },
      "execution_count": 14,
      "outputs": [
        {
          "output_type": "execute_result",
          "data": {
            "text/plain": [
              "(4967, 71, 71, 3)"
            ]
          },
          "metadata": {},
          "execution_count": 14
        }
      ]
    },
    {
      "cell_type": "code",
      "source": [
        "indices = list(range(len(images)))\n",
        "nClasses = 11\n",
        "# Use Keras' handy utils\n",
        "split = train_test_split(images, y, indices, test_size=0.2, random_state=42)\n",
        "(trainX, validateX, trainY, validateY, indices_train, indices_test) = split\n",
        "y_train_k = tensorflow.keras.utils.to_categorical(trainY, num_classes=nClasses)\n",
        "y_val_k = tensorflow.keras.utils.to_categorical(validateY, num_classes=nClasses)"
      ],
      "metadata": {
        "id": "D2OTpxHREpfL"
      },
      "execution_count": 15,
      "outputs": []
    },
    {
      "cell_type": "markdown",
      "source": [
        "# Don't run just for illustration xD"
      ],
      "metadata": {
        "id": "DCPI1g_FFJUg"
      }
    },
    {
      "cell_type": "code",
      "source": [
        "from tensorflow.keras.applications import Xception\n",
        "XceptionModel = tf.keras.applications.Xception(\n",
        "                include_top=False,\n",
        "                weights='imagenet',\n",
        "                input_shape=(71, 71, 3),\n",
        "                classes=11,\n",
        "                classifier_activation=\"softmax\")"
      ],
      "metadata": {
        "id": "NuVxhBgqYSZE"
      },
      "execution_count": 16,
      "outputs": []
    },
    {
      "cell_type": "code",
      "source": [
        "print(XceptionModel.summary())"
      ],
      "metadata": {
        "id": "xdFTwBiZduqf",
        "colab": {
          "base_uri": "https://localhost:8080/"
        },
        "outputId": "d58bc1cc-6788-4c9e-a4e7-2d921efeb8d2"
      },
      "execution_count": 17,
      "outputs": [
        {
          "output_type": "stream",
          "name": "stdout",
          "text": [
            "Model: \"xception\"\n",
            "__________________________________________________________________________________________________\n",
            " Layer (type)                   Output Shape         Param #     Connected to                     \n",
            "==================================================================================================\n",
            " input_1 (InputLayer)           [(None, 71, 71, 3)]  0           []                               \n",
            "                                                                                                  \n",
            " block1_conv1 (Conv2D)          (None, 35, 35, 32)   864         ['input_1[0][0]']                \n",
            "                                                                                                  \n",
            " block1_conv1_bn (BatchNormaliz  (None, 35, 35, 32)  128         ['block1_conv1[0][0]']           \n",
            " ation)                                                                                           \n",
            "                                                                                                  \n",
            " block1_conv1_act (Activation)  (None, 35, 35, 32)   0           ['block1_conv1_bn[0][0]']        \n",
            "                                                                                                  \n",
            " block1_conv2 (Conv2D)          (None, 33, 33, 64)   18432       ['block1_conv1_act[0][0]']       \n",
            "                                                                                                  \n",
            " block1_conv2_bn (BatchNormaliz  (None, 33, 33, 64)  256         ['block1_conv2[0][0]']           \n",
            " ation)                                                                                           \n",
            "                                                                                                  \n",
            " block1_conv2_act (Activation)  (None, 33, 33, 64)   0           ['block1_conv2_bn[0][0]']        \n",
            "                                                                                                  \n",
            " block2_sepconv1 (SeparableConv  (None, 33, 33, 128)  8768       ['block1_conv2_act[0][0]']       \n",
            " 2D)                                                                                              \n",
            "                                                                                                  \n",
            " block2_sepconv1_bn (BatchNorma  (None, 33, 33, 128)  512        ['block2_sepconv1[0][0]']        \n",
            " lization)                                                                                        \n",
            "                                                                                                  \n",
            " block2_sepconv2_act (Activatio  (None, 33, 33, 128)  0          ['block2_sepconv1_bn[0][0]']     \n",
            " n)                                                                                               \n",
            "                                                                                                  \n",
            " block2_sepconv2 (SeparableConv  (None, 33, 33, 128)  17536      ['block2_sepconv2_act[0][0]']    \n",
            " 2D)                                                                                              \n",
            "                                                                                                  \n",
            " block2_sepconv2_bn (BatchNorma  (None, 33, 33, 128)  512        ['block2_sepconv2[0][0]']        \n",
            " lization)                                                                                        \n",
            "                                                                                                  \n",
            " conv2d (Conv2D)                (None, 17, 17, 128)  8192        ['block1_conv2_act[0][0]']       \n",
            "                                                                                                  \n",
            " block2_pool (MaxPooling2D)     (None, 17, 17, 128)  0           ['block2_sepconv2_bn[0][0]']     \n",
            "                                                                                                  \n",
            " batch_normalization (BatchNorm  (None, 17, 17, 128)  512        ['conv2d[0][0]']                 \n",
            " alization)                                                                                       \n",
            "                                                                                                  \n",
            " add (Add)                      (None, 17, 17, 128)  0           ['block2_pool[0][0]',            \n",
            "                                                                  'batch_normalization[0][0]']    \n",
            "                                                                                                  \n",
            " block3_sepconv1_act (Activatio  (None, 17, 17, 128)  0          ['add[0][0]']                    \n",
            " n)                                                                                               \n",
            "                                                                                                  \n",
            " block3_sepconv1 (SeparableConv  (None, 17, 17, 256)  33920      ['block3_sepconv1_act[0][0]']    \n",
            " 2D)                                                                                              \n",
            "                                                                                                  \n",
            " block3_sepconv1_bn (BatchNorma  (None, 17, 17, 256)  1024       ['block3_sepconv1[0][0]']        \n",
            " lization)                                                                                        \n",
            "                                                                                                  \n",
            " block3_sepconv2_act (Activatio  (None, 17, 17, 256)  0          ['block3_sepconv1_bn[0][0]']     \n",
            " n)                                                                                               \n",
            "                                                                                                  \n",
            " block3_sepconv2 (SeparableConv  (None, 17, 17, 256)  67840      ['block3_sepconv2_act[0][0]']    \n",
            " 2D)                                                                                              \n",
            "                                                                                                  \n",
            " block3_sepconv2_bn (BatchNorma  (None, 17, 17, 256)  1024       ['block3_sepconv2[0][0]']        \n",
            " lization)                                                                                        \n",
            "                                                                                                  \n",
            " conv2d_1 (Conv2D)              (None, 9, 9, 256)    32768       ['add[0][0]']                    \n",
            "                                                                                                  \n",
            " block3_pool (MaxPooling2D)     (None, 9, 9, 256)    0           ['block3_sepconv2_bn[0][0]']     \n",
            "                                                                                                  \n",
            " batch_normalization_1 (BatchNo  (None, 9, 9, 256)   1024        ['conv2d_1[0][0]']               \n",
            " rmalization)                                                                                     \n",
            "                                                                                                  \n",
            " add_1 (Add)                    (None, 9, 9, 256)    0           ['block3_pool[0][0]',            \n",
            "                                                                  'batch_normalization_1[0][0]']  \n",
            "                                                                                                  \n",
            " block4_sepconv1_act (Activatio  (None, 9, 9, 256)   0           ['add_1[0][0]']                  \n",
            " n)                                                                                               \n",
            "                                                                                                  \n",
            " block4_sepconv1 (SeparableConv  (None, 9, 9, 728)   188672      ['block4_sepconv1_act[0][0]']    \n",
            " 2D)                                                                                              \n",
            "                                                                                                  \n",
            " block4_sepconv1_bn (BatchNorma  (None, 9, 9, 728)   2912        ['block4_sepconv1[0][0]']        \n",
            " lization)                                                                                        \n",
            "                                                                                                  \n",
            " block4_sepconv2_act (Activatio  (None, 9, 9, 728)   0           ['block4_sepconv1_bn[0][0]']     \n",
            " n)                                                                                               \n",
            "                                                                                                  \n",
            " block4_sepconv2 (SeparableConv  (None, 9, 9, 728)   536536      ['block4_sepconv2_act[0][0]']    \n",
            " 2D)                                                                                              \n",
            "                                                                                                  \n",
            " block4_sepconv2_bn (BatchNorma  (None, 9, 9, 728)   2912        ['block4_sepconv2[0][0]']        \n",
            " lization)                                                                                        \n",
            "                                                                                                  \n",
            " conv2d_2 (Conv2D)              (None, 5, 5, 728)    186368      ['add_1[0][0]']                  \n",
            "                                                                                                  \n",
            " block4_pool (MaxPooling2D)     (None, 5, 5, 728)    0           ['block4_sepconv2_bn[0][0]']     \n",
            "                                                                                                  \n",
            " batch_normalization_2 (BatchNo  (None, 5, 5, 728)   2912        ['conv2d_2[0][0]']               \n",
            " rmalization)                                                                                     \n",
            "                                                                                                  \n",
            " add_2 (Add)                    (None, 5, 5, 728)    0           ['block4_pool[0][0]',            \n",
            "                                                                  'batch_normalization_2[0][0]']  \n",
            "                                                                                                  \n",
            " block5_sepconv1_act (Activatio  (None, 5, 5, 728)   0           ['add_2[0][0]']                  \n",
            " n)                                                                                               \n",
            "                                                                                                  \n",
            " block5_sepconv1 (SeparableConv  (None, 5, 5, 728)   536536      ['block5_sepconv1_act[0][0]']    \n",
            " 2D)                                                                                              \n",
            "                                                                                                  \n",
            " block5_sepconv1_bn (BatchNorma  (None, 5, 5, 728)   2912        ['block5_sepconv1[0][0]']        \n",
            " lization)                                                                                        \n",
            "                                                                                                  \n",
            " block5_sepconv2_act (Activatio  (None, 5, 5, 728)   0           ['block5_sepconv1_bn[0][0]']     \n",
            " n)                                                                                               \n",
            "                                                                                                  \n",
            " block5_sepconv2 (SeparableConv  (None, 5, 5, 728)   536536      ['block5_sepconv2_act[0][0]']    \n",
            " 2D)                                                                                              \n",
            "                                                                                                  \n",
            " block5_sepconv2_bn (BatchNorma  (None, 5, 5, 728)   2912        ['block5_sepconv2[0][0]']        \n",
            " lization)                                                                                        \n",
            "                                                                                                  \n",
            " block5_sepconv3_act (Activatio  (None, 5, 5, 728)   0           ['block5_sepconv2_bn[0][0]']     \n",
            " n)                                                                                               \n",
            "                                                                                                  \n",
            " block5_sepconv3 (SeparableConv  (None, 5, 5, 728)   536536      ['block5_sepconv3_act[0][0]']    \n",
            " 2D)                                                                                              \n",
            "                                                                                                  \n",
            " block5_sepconv3_bn (BatchNorma  (None, 5, 5, 728)   2912        ['block5_sepconv3[0][0]']        \n",
            " lization)                                                                                        \n",
            "                                                                                                  \n",
            " add_3 (Add)                    (None, 5, 5, 728)    0           ['block5_sepconv3_bn[0][0]',     \n",
            "                                                                  'add_2[0][0]']                  \n",
            "                                                                                                  \n",
            " block6_sepconv1_act (Activatio  (None, 5, 5, 728)   0           ['add_3[0][0]']                  \n",
            " n)                                                                                               \n",
            "                                                                                                  \n",
            " block6_sepconv1 (SeparableConv  (None, 5, 5, 728)   536536      ['block6_sepconv1_act[0][0]']    \n",
            " 2D)                                                                                              \n",
            "                                                                                                  \n",
            " block6_sepconv1_bn (BatchNorma  (None, 5, 5, 728)   2912        ['block6_sepconv1[0][0]']        \n",
            " lization)                                                                                        \n",
            "                                                                                                  \n",
            " block6_sepconv2_act (Activatio  (None, 5, 5, 728)   0           ['block6_sepconv1_bn[0][0]']     \n",
            " n)                                                                                               \n",
            "                                                                                                  \n",
            " block6_sepconv2 (SeparableConv  (None, 5, 5, 728)   536536      ['block6_sepconv2_act[0][0]']    \n",
            " 2D)                                                                                              \n",
            "                                                                                                  \n",
            " block6_sepconv2_bn (BatchNorma  (None, 5, 5, 728)   2912        ['block6_sepconv2[0][0]']        \n",
            " lization)                                                                                        \n",
            "                                                                                                  \n",
            " block6_sepconv3_act (Activatio  (None, 5, 5, 728)   0           ['block6_sepconv2_bn[0][0]']     \n",
            " n)                                                                                               \n",
            "                                                                                                  \n",
            " block6_sepconv3 (SeparableConv  (None, 5, 5, 728)   536536      ['block6_sepconv3_act[0][0]']    \n",
            " 2D)                                                                                              \n",
            "                                                                                                  \n",
            " block6_sepconv3_bn (BatchNorma  (None, 5, 5, 728)   2912        ['block6_sepconv3[0][0]']        \n",
            " lization)                                                                                        \n",
            "                                                                                                  \n",
            " add_4 (Add)                    (None, 5, 5, 728)    0           ['block6_sepconv3_bn[0][0]',     \n",
            "                                                                  'add_3[0][0]']                  \n",
            "                                                                                                  \n",
            " block7_sepconv1_act (Activatio  (None, 5, 5, 728)   0           ['add_4[0][0]']                  \n",
            " n)                                                                                               \n",
            "                                                                                                  \n",
            " block7_sepconv1 (SeparableConv  (None, 5, 5, 728)   536536      ['block7_sepconv1_act[0][0]']    \n",
            " 2D)                                                                                              \n",
            "                                                                                                  \n",
            " block7_sepconv1_bn (BatchNorma  (None, 5, 5, 728)   2912        ['block7_sepconv1[0][0]']        \n",
            " lization)                                                                                        \n",
            "                                                                                                  \n",
            " block7_sepconv2_act (Activatio  (None, 5, 5, 728)   0           ['block7_sepconv1_bn[0][0]']     \n",
            " n)                                                                                               \n",
            "                                                                                                  \n",
            " block7_sepconv2 (SeparableConv  (None, 5, 5, 728)   536536      ['block7_sepconv2_act[0][0]']    \n",
            " 2D)                                                                                              \n",
            "                                                                                                  \n",
            " block7_sepconv2_bn (BatchNorma  (None, 5, 5, 728)   2912        ['block7_sepconv2[0][0]']        \n",
            " lization)                                                                                        \n",
            "                                                                                                  \n",
            " block7_sepconv3_act (Activatio  (None, 5, 5, 728)   0           ['block7_sepconv2_bn[0][0]']     \n",
            " n)                                                                                               \n",
            "                                                                                                  \n",
            " block7_sepconv3 (SeparableConv  (None, 5, 5, 728)   536536      ['block7_sepconv3_act[0][0]']    \n",
            " 2D)                                                                                              \n",
            "                                                                                                  \n",
            " block7_sepconv3_bn (BatchNorma  (None, 5, 5, 728)   2912        ['block7_sepconv3[0][0]']        \n",
            " lization)                                                                                        \n",
            "                                                                                                  \n",
            " add_5 (Add)                    (None, 5, 5, 728)    0           ['block7_sepconv3_bn[0][0]',     \n",
            "                                                                  'add_4[0][0]']                  \n",
            "                                                                                                  \n",
            " block8_sepconv1_act (Activatio  (None, 5, 5, 728)   0           ['add_5[0][0]']                  \n",
            " n)                                                                                               \n",
            "                                                                                                  \n",
            " block8_sepconv1 (SeparableConv  (None, 5, 5, 728)   536536      ['block8_sepconv1_act[0][0]']    \n",
            " 2D)                                                                                              \n",
            "                                                                                                  \n",
            " block8_sepconv1_bn (BatchNorma  (None, 5, 5, 728)   2912        ['block8_sepconv1[0][0]']        \n",
            " lization)                                                                                        \n",
            "                                                                                                  \n",
            " block8_sepconv2_act (Activatio  (None, 5, 5, 728)   0           ['block8_sepconv1_bn[0][0]']     \n",
            " n)                                                                                               \n",
            "                                                                                                  \n",
            " block8_sepconv2 (SeparableConv  (None, 5, 5, 728)   536536      ['block8_sepconv2_act[0][0]']    \n",
            " 2D)                                                                                              \n",
            "                                                                                                  \n",
            " block8_sepconv2_bn (BatchNorma  (None, 5, 5, 728)   2912        ['block8_sepconv2[0][0]']        \n",
            " lization)                                                                                        \n",
            "                                                                                                  \n",
            " block8_sepconv3_act (Activatio  (None, 5, 5, 728)   0           ['block8_sepconv2_bn[0][0]']     \n",
            " n)                                                                                               \n",
            "                                                                                                  \n",
            " block8_sepconv3 (SeparableConv  (None, 5, 5, 728)   536536      ['block8_sepconv3_act[0][0]']    \n",
            " 2D)                                                                                              \n",
            "                                                                                                  \n",
            " block8_sepconv3_bn (BatchNorma  (None, 5, 5, 728)   2912        ['block8_sepconv3[0][0]']        \n",
            " lization)                                                                                        \n",
            "                                                                                                  \n",
            " add_6 (Add)                    (None, 5, 5, 728)    0           ['block8_sepconv3_bn[0][0]',     \n",
            "                                                                  'add_5[0][0]']                  \n",
            "                                                                                                  \n",
            " block9_sepconv1_act (Activatio  (None, 5, 5, 728)   0           ['add_6[0][0]']                  \n",
            " n)                                                                                               \n",
            "                                                                                                  \n",
            " block9_sepconv1 (SeparableConv  (None, 5, 5, 728)   536536      ['block9_sepconv1_act[0][0]']    \n",
            " 2D)                                                                                              \n",
            "                                                                                                  \n",
            " block9_sepconv1_bn (BatchNorma  (None, 5, 5, 728)   2912        ['block9_sepconv1[0][0]']        \n",
            " lization)                                                                                        \n",
            "                                                                                                  \n",
            " block9_sepconv2_act (Activatio  (None, 5, 5, 728)   0           ['block9_sepconv1_bn[0][0]']     \n",
            " n)                                                                                               \n",
            "                                                                                                  \n",
            " block9_sepconv2 (SeparableConv  (None, 5, 5, 728)   536536      ['block9_sepconv2_act[0][0]']    \n",
            " 2D)                                                                                              \n",
            "                                                                                                  \n",
            " block9_sepconv2_bn (BatchNorma  (None, 5, 5, 728)   2912        ['block9_sepconv2[0][0]']        \n",
            " lization)                                                                                        \n",
            "                                                                                                  \n",
            " block9_sepconv3_act (Activatio  (None, 5, 5, 728)   0           ['block9_sepconv2_bn[0][0]']     \n",
            " n)                                                                                               \n",
            "                                                                                                  \n",
            " block9_sepconv3 (SeparableConv  (None, 5, 5, 728)   536536      ['block9_sepconv3_act[0][0]']    \n",
            " 2D)                                                                                              \n",
            "                                                                                                  \n",
            " block9_sepconv3_bn (BatchNorma  (None, 5, 5, 728)   2912        ['block9_sepconv3[0][0]']        \n",
            " lization)                                                                                        \n",
            "                                                                                                  \n",
            " add_7 (Add)                    (None, 5, 5, 728)    0           ['block9_sepconv3_bn[0][0]',     \n",
            "                                                                  'add_6[0][0]']                  \n",
            "                                                                                                  \n",
            " block10_sepconv1_act (Activati  (None, 5, 5, 728)   0           ['add_7[0][0]']                  \n",
            " on)                                                                                              \n",
            "                                                                                                  \n",
            " block10_sepconv1 (SeparableCon  (None, 5, 5, 728)   536536      ['block10_sepconv1_act[0][0]']   \n",
            " v2D)                                                                                             \n",
            "                                                                                                  \n",
            " block10_sepconv1_bn (BatchNorm  (None, 5, 5, 728)   2912        ['block10_sepconv1[0][0]']       \n",
            " alization)                                                                                       \n",
            "                                                                                                  \n",
            " block10_sepconv2_act (Activati  (None, 5, 5, 728)   0           ['block10_sepconv1_bn[0][0]']    \n",
            " on)                                                                                              \n",
            "                                                                                                  \n",
            " block10_sepconv2 (SeparableCon  (None, 5, 5, 728)   536536      ['block10_sepconv2_act[0][0]']   \n",
            " v2D)                                                                                             \n",
            "                                                                                                  \n",
            " block10_sepconv2_bn (BatchNorm  (None, 5, 5, 728)   2912        ['block10_sepconv2[0][0]']       \n",
            " alization)                                                                                       \n",
            "                                                                                                  \n",
            " block10_sepconv3_act (Activati  (None, 5, 5, 728)   0           ['block10_sepconv2_bn[0][0]']    \n",
            " on)                                                                                              \n",
            "                                                                                                  \n",
            " block10_sepconv3 (SeparableCon  (None, 5, 5, 728)   536536      ['block10_sepconv3_act[0][0]']   \n",
            " v2D)                                                                                             \n",
            "                                                                                                  \n",
            " block10_sepconv3_bn (BatchNorm  (None, 5, 5, 728)   2912        ['block10_sepconv3[0][0]']       \n",
            " alization)                                                                                       \n",
            "                                                                                                  \n",
            " add_8 (Add)                    (None, 5, 5, 728)    0           ['block10_sepconv3_bn[0][0]',    \n",
            "                                                                  'add_7[0][0]']                  \n",
            "                                                                                                  \n",
            " block11_sepconv1_act (Activati  (None, 5, 5, 728)   0           ['add_8[0][0]']                  \n",
            " on)                                                                                              \n",
            "                                                                                                  \n",
            " block11_sepconv1 (SeparableCon  (None, 5, 5, 728)   536536      ['block11_sepconv1_act[0][0]']   \n",
            " v2D)                                                                                             \n",
            "                                                                                                  \n",
            " block11_sepconv1_bn (BatchNorm  (None, 5, 5, 728)   2912        ['block11_sepconv1[0][0]']       \n",
            " alization)                                                                                       \n",
            "                                                                                                  \n",
            " block11_sepconv2_act (Activati  (None, 5, 5, 728)   0           ['block11_sepconv1_bn[0][0]']    \n",
            " on)                                                                                              \n",
            "                                                                                                  \n",
            " block11_sepconv2 (SeparableCon  (None, 5, 5, 728)   536536      ['block11_sepconv2_act[0][0]']   \n",
            " v2D)                                                                                             \n",
            "                                                                                                  \n",
            " block11_sepconv2_bn (BatchNorm  (None, 5, 5, 728)   2912        ['block11_sepconv2[0][0]']       \n",
            " alization)                                                                                       \n",
            "                                                                                                  \n",
            " block11_sepconv3_act (Activati  (None, 5, 5, 728)   0           ['block11_sepconv2_bn[0][0]']    \n",
            " on)                                                                                              \n",
            "                                                                                                  \n",
            " block11_sepconv3 (SeparableCon  (None, 5, 5, 728)   536536      ['block11_sepconv3_act[0][0]']   \n",
            " v2D)                                                                                             \n",
            "                                                                                                  \n",
            " block11_sepconv3_bn (BatchNorm  (None, 5, 5, 728)   2912        ['block11_sepconv3[0][0]']       \n",
            " alization)                                                                                       \n",
            "                                                                                                  \n",
            " add_9 (Add)                    (None, 5, 5, 728)    0           ['block11_sepconv3_bn[0][0]',    \n",
            "                                                                  'add_8[0][0]']                  \n",
            "                                                                                                  \n",
            " block12_sepconv1_act (Activati  (None, 5, 5, 728)   0           ['add_9[0][0]']                  \n",
            " on)                                                                                              \n",
            "                                                                                                  \n",
            " block12_sepconv1 (SeparableCon  (None, 5, 5, 728)   536536      ['block12_sepconv1_act[0][0]']   \n",
            " v2D)                                                                                             \n",
            "                                                                                                  \n",
            " block12_sepconv1_bn (BatchNorm  (None, 5, 5, 728)   2912        ['block12_sepconv1[0][0]']       \n",
            " alization)                                                                                       \n",
            "                                                                                                  \n",
            " block12_sepconv2_act (Activati  (None, 5, 5, 728)   0           ['block12_sepconv1_bn[0][0]']    \n",
            " on)                                                                                              \n",
            "                                                                                                  \n",
            " block12_sepconv2 (SeparableCon  (None, 5, 5, 728)   536536      ['block12_sepconv2_act[0][0]']   \n",
            " v2D)                                                                                             \n",
            "                                                                                                  \n",
            " block12_sepconv2_bn (BatchNorm  (None, 5, 5, 728)   2912        ['block12_sepconv2[0][0]']       \n",
            " alization)                                                                                       \n",
            "                                                                                                  \n",
            " block12_sepconv3_act (Activati  (None, 5, 5, 728)   0           ['block12_sepconv2_bn[0][0]']    \n",
            " on)                                                                                              \n",
            "                                                                                                  \n",
            " block12_sepconv3 (SeparableCon  (None, 5, 5, 728)   536536      ['block12_sepconv3_act[0][0]']   \n",
            " v2D)                                                                                             \n",
            "                                                                                                  \n",
            " block12_sepconv3_bn (BatchNorm  (None, 5, 5, 728)   2912        ['block12_sepconv3[0][0]']       \n",
            " alization)                                                                                       \n",
            "                                                                                                  \n",
            " add_10 (Add)                   (None, 5, 5, 728)    0           ['block12_sepconv3_bn[0][0]',    \n",
            "                                                                  'add_9[0][0]']                  \n",
            "                                                                                                  \n",
            " block13_sepconv1_act (Activati  (None, 5, 5, 728)   0           ['add_10[0][0]']                 \n",
            " on)                                                                                              \n",
            "                                                                                                  \n",
            " block13_sepconv1 (SeparableCon  (None, 5, 5, 728)   536536      ['block13_sepconv1_act[0][0]']   \n",
            " v2D)                                                                                             \n",
            "                                                                                                  \n",
            " block13_sepconv1_bn (BatchNorm  (None, 5, 5, 728)   2912        ['block13_sepconv1[0][0]']       \n",
            " alization)                                                                                       \n",
            "                                                                                                  \n",
            " block13_sepconv2_act (Activati  (None, 5, 5, 728)   0           ['block13_sepconv1_bn[0][0]']    \n",
            " on)                                                                                              \n",
            "                                                                                                  \n",
            " block13_sepconv2 (SeparableCon  (None, 5, 5, 1024)  752024      ['block13_sepconv2_act[0][0]']   \n",
            " v2D)                                                                                             \n",
            "                                                                                                  \n",
            " block13_sepconv2_bn (BatchNorm  (None, 5, 5, 1024)  4096        ['block13_sepconv2[0][0]']       \n",
            " alization)                                                                                       \n",
            "                                                                                                  \n",
            " conv2d_3 (Conv2D)              (None, 3, 3, 1024)   745472      ['add_10[0][0]']                 \n",
            "                                                                                                  \n",
            " block13_pool (MaxPooling2D)    (None, 3, 3, 1024)   0           ['block13_sepconv2_bn[0][0]']    \n",
            "                                                                                                  \n",
            " batch_normalization_3 (BatchNo  (None, 3, 3, 1024)  4096        ['conv2d_3[0][0]']               \n",
            " rmalization)                                                                                     \n",
            "                                                                                                  \n",
            " add_11 (Add)                   (None, 3, 3, 1024)   0           ['block13_pool[0][0]',           \n",
            "                                                                  'batch_normalization_3[0][0]']  \n",
            "                                                                                                  \n",
            " block14_sepconv1 (SeparableCon  (None, 3, 3, 1536)  1582080     ['add_11[0][0]']                 \n",
            " v2D)                                                                                             \n",
            "                                                                                                  \n",
            " block14_sepconv1_bn (BatchNorm  (None, 3, 3, 1536)  6144        ['block14_sepconv1[0][0]']       \n",
            " alization)                                                                                       \n",
            "                                                                                                  \n",
            " block14_sepconv1_act (Activati  (None, 3, 3, 1536)  0           ['block14_sepconv1_bn[0][0]']    \n",
            " on)                                                                                              \n",
            "                                                                                                  \n",
            " block14_sepconv2 (SeparableCon  (None, 3, 3, 2048)  3159552     ['block14_sepconv1_act[0][0]']   \n",
            " v2D)                                                                                             \n",
            "                                                                                                  \n",
            " block14_sepconv2_bn (BatchNorm  (None, 3, 3, 2048)  8192        ['block14_sepconv2[0][0]']       \n",
            " alization)                                                                                       \n",
            "                                                                                                  \n",
            " block14_sepconv2_act (Activati  (None, 3, 3, 2048)  0           ['block14_sepconv2_bn[0][0]']    \n",
            " on)                                                                                              \n",
            "                                                                                                  \n",
            "==================================================================================================\n",
            "Total params: 20,861,480\n",
            "Trainable params: 20,806,952\n",
            "Non-trainable params: 54,528\n",
            "__________________________________________________________________________________________________\n",
            "None\n"
          ]
        }
      ]
    },
    {
      "cell_type": "code",
      "source": [
        "from keras.layers import Dropout, BatchNormalization\n",
        "for layer in XceptionModel.layers:\n",
        "    layer.trainable = True\n",
        "\n",
        "# last layers output\n",
        "x = XceptionModel.layers[-1].output\n",
        "\n",
        "x = Flatten(name='flatten')(x)\n",
        "x = Dense(1024, activation='relu', name='fc1')(x)\n",
        "x = BatchNormalization()(x)\n",
        "x = Dropout(.2)(x)\n",
        "x = Dense(1024, activation='relu', name='fc2')(x)\n",
        "x = BatchNormalization()(x)\n",
        "x = Dropout(.2)(x)\n",
        "x = Dense(1024, activation='relu', name='fc3')(x)\n",
        "\n",
        "x = Dense(11, activation='softmax', name='predictions')(x) # lazm output 11 3shan l classes\n",
        "from tensorflow.keras.models import Model\n",
        "Xception_transfer = Model(inputs=XceptionModel.input, outputs=x)"
      ],
      "metadata": {
        "id": "BlRlTJWWdWV4"
      },
      "execution_count": 18,
      "outputs": []
    },
    {
      "cell_type": "code",
      "source": [
        "#print(Xception_transfer.summary())"
      ],
      "metadata": {
        "id": "Gi2CDPdJeg5l"
      },
      "execution_count": 19,
      "outputs": []
    },
    {
      "cell_type": "code",
      "source": [
        "batchSize = 64\n",
        "nEpochs = 12\n",
        "    \n",
        "rmsprop = tf.keras.optimizers.Adam(learning_rate=0.0001)\n",
        "Xception_transfer.compile(loss='categorical_crossentropy', \n",
        "                           optimizer=rmsprop, \n",
        "                           metrics=['accuracy'])\n",
        "\n",
        "\n",
        "history = Xception_transfer.fit(trainX, y_train_k, batch_size=batchSize, epochs=nEpochs, verbose=1, \n",
        "                                 validation_data=(validateX, y_val_k))  # dol mn l split l fo2\n"
      ],
      "metadata": {
        "colab": {
          "base_uri": "https://localhost:8080/"
        },
        "id": "J8NbEMpxGJuM",
        "outputId": "9f4286a3-dcc4-484e-d6d2-c4d7545da7b8"
      },
      "execution_count": 20,
      "outputs": [
        {
          "output_type": "stream",
          "name": "stdout",
          "text": [
            "Epoch 1/12\n",
            "63/63 [==============================] - 16s 129ms/step - loss: 0.8189 - accuracy: 0.7078 - val_loss: 2.2258 - val_accuracy: 0.1519\n",
            "Epoch 2/12\n",
            "63/63 [==============================] - 7s 106ms/step - loss: 0.2580 - accuracy: 0.8910 - val_loss: 2.2724 - val_accuracy: 0.1590\n",
            "Epoch 3/12\n",
            "63/63 [==============================] - 7s 106ms/step - loss: 0.2121 - accuracy: 0.9044 - val_loss: 1.6275 - val_accuracy: 0.4225\n",
            "Epoch 4/12\n",
            "63/63 [==============================] - 7s 106ms/step - loss: 0.1876 - accuracy: 0.9184 - val_loss: 0.5665 - val_accuracy: 0.7998\n",
            "Epoch 5/12\n",
            "63/63 [==============================] - 7s 106ms/step - loss: 0.1690 - accuracy: 0.9330 - val_loss: 0.2351 - val_accuracy: 0.8883\n",
            "Epoch 6/12\n",
            "63/63 [==============================] - 7s 107ms/step - loss: 0.1246 - accuracy: 0.9519 - val_loss: 0.2468 - val_accuracy: 0.9064\n",
            "Epoch 7/12\n",
            "63/63 [==============================] - 7s 107ms/step - loss: 0.1440 - accuracy: 0.9441 - val_loss: 0.3340 - val_accuracy: 0.8954\n",
            "Epoch 8/12\n",
            "63/63 [==============================] - 7s 107ms/step - loss: 0.1049 - accuracy: 0.9607 - val_loss: 0.3485 - val_accuracy: 0.9054\n",
            "Epoch 9/12\n",
            "63/63 [==============================] - 7s 106ms/step - loss: 0.1157 - accuracy: 0.9625 - val_loss: 0.2668 - val_accuracy: 0.9155\n",
            "Epoch 10/12\n",
            "63/63 [==============================] - 7s 107ms/step - loss: 0.0729 - accuracy: 0.9756 - val_loss: 0.2782 - val_accuracy: 0.9215\n",
            "Epoch 11/12\n",
            "63/63 [==============================] - 7s 106ms/step - loss: 0.0578 - accuracy: 0.9776 - val_loss: 0.4281 - val_accuracy: 0.9024\n",
            "Epoch 12/12\n",
            "63/63 [==============================] - 7s 106ms/step - loss: 0.0502 - accuracy: 0.9814 - val_loss: 0.3720 - val_accuracy: 0.9105\n"
          ]
        }
      ]
    },
    {
      "cell_type": "code",
      "source": [
        "y_prob = Xception_transfer.predict(validateX)\n",
        "y_probtrain = Xception_transfer.predict(trainX)"
      ],
      "metadata": {
        "id": "fX7zPFiwGWiG"
      },
      "execution_count": 38,
      "outputs": []
    },
    {
      "cell_type": "code",
      "source": [
        "y_pred = y_prob.argmax(axis=-1)"
      ],
      "metadata": {
        "id": "Wwz1dfdHGyFL"
      },
      "execution_count": 39,
      "outputs": []
    },
    {
      "cell_type": "code",
      "source": [
        "print(\"Report : \\n\",classification_report(validateY, y_pred))"
      ],
      "metadata": {
        "id": "kFk0M8gKG1fL",
        "colab": {
          "base_uri": "https://localhost:8080/"
        },
        "outputId": "ceb1c968-f7b0-4f49-f1f1-19a81df915b0"
      },
      "execution_count": 40,
      "outputs": [
        {
          "output_type": "stream",
          "name": "stdout",
          "text": [
            "Report : \n",
            "               precision    recall  f1-score   support\n",
            "\n",
            "           0       1.00      0.97      0.99        35\n",
            "           1       0.99      0.98      0.99       106\n",
            "           2       0.99      1.00      1.00       105\n",
            "           3       1.00      0.99      0.99        98\n",
            "           4       1.00      1.00      1.00        99\n",
            "           5       1.00      0.99      0.99        96\n",
            "           6       0.99      1.00      0.99        95\n",
            "           7       0.55      0.80      0.65        79\n",
            "           8       0.76      0.51      0.61       102\n",
            "           9       0.92      0.88      0.90        88\n",
            "          10       0.88      0.92      0.90        91\n",
            "\n",
            "    accuracy                           0.91       994\n",
            "   macro avg       0.92      0.91      0.91       994\n",
            "weighted avg       0.92      0.91      0.91       994\n",
            "\n"
          ]
        }
      ]
    },
    {
      "cell_type": "code",
      "source": [
        ""
      ],
      "metadata": {
        "id": "dk25VmigWgYd"
      },
      "execution_count": 23,
      "outputs": []
    },
    {
      "cell_type": "code",
      "source": [
        "# dictionary keys seems to have changed in version 2\n",
        "k = ''\n",
        "if 'accuracy' in history.history :\n",
        "    k = 'accuracy'    \n",
        "\n",
        "if 'acc' in history.history :\n",
        "    k = 'acc'\n",
        "    \n",
        "if k != '' :    \n",
        "    plt.plot(history.history[k])\n",
        "    plt.plot(history.history['val_'+k])\n",
        "    plt.title('Model Accuracy')\n",
        "    plt.ylabel('Accuracy')\n",
        "    plt.xlabel('Epoch')\n",
        "    plt.legend(['train', 'validate'], loc='upper left')\n",
        "    plt.show()"
      ],
      "metadata": {
        "id": "v0nHXBQeJxe-"
      },
      "execution_count": 42,
      "outputs": []
    },
    {
      "cell_type": "code",
      "source": [
        "plt.plot(history.history['loss'])\n",
        "plt.plot(history.history['val_loss'])\n",
        "plt.title('Model loss')\n",
        "plt.ylabel('Loss')\n",
        "plt.xlabel('Epoch')\n",
        "plt.legend(['train', 'validate'], loc='upper left')\n",
        "plt.show()"
      ],
      "metadata": {
        "colab": {
          "base_uri": "https://localhost:8080/",
          "height": 295
        },
        "id": "jio5WLLP2Pir",
        "outputId": "5c0ee07b-654c-43f7-a317-d21cda652566"
      },
      "execution_count": 25,
      "outputs": [
        {
          "output_type": "display_data",
          "data": {
            "image/png": "[encoded data removed]",
            "text/plain": [
              "<Figure size 432x288 with 1 Axes>"
            ]
          },
          "metadata": {
            "needs_background": "light"
          }
        }
      ]
    },
    {
      "cell_type": "code",
      "source": [
        "Xception_prob = np.append(y_probtrain, y_prob, axis=0)"
      ],
      "metadata": {
        "id": "Apf0jmylC5ru"
      },
      "execution_count": 26,
      "outputs": []
    },
    {
      "cell_type": "code",
      "source": [
        "Xception_prob.shape"
      ],
      "metadata": {
        "colab": {
          "base_uri": "https://localhost:8080/"
        },
        "id": "Arogb1ntDBfp",
        "outputId": "ffad6139-e9a2-4917-d279-31b0e1e0661a"
      },
      "execution_count": 27,
      "outputs": [
        {
          "output_type": "execute_result",
          "data": {
            "text/plain": [
              "(4967, 11)"
            ]
          },
          "metadata": {},
          "execution_count": 27
        }
      ]
    },
    {
      "cell_type": "code",
      "source": [
        "full_index =  indices_train + indices_test"
      ],
      "metadata": {
        "id": "Dcr6zFVDDDdd"
      },
      "execution_count": 28,
      "outputs": []
    },
    {
      "cell_type": "code",
      "source": [
        "len(full_index)"
      ],
      "metadata": {
        "colab": {
          "base_uri": "https://localhost:8080/"
        },
        "id": "I0555lrxD__i",
        "outputId": "a0f48737-ba2d-48ca-b5e8-1c4983a0cc9d"
      },
      "execution_count": 29,
      "outputs": [
        {
          "output_type": "execute_result",
          "data": {
            "text/plain": [
              "4967"
            ]
          },
          "metadata": {},
          "execution_count": 29
        }
      ]
    },
    {
      "cell_type": "code",
      "source": [
        "sorted_Prob = [x for _,x in sorted(zip(full_index, Xception_prob))]"
      ],
      "metadata": {
        "id": "R4VsBkaVEFfq"
      },
      "execution_count": 30,
      "outputs": []
    },
    {
      "cell_type": "code",
      "source": [
        "sorted_Prob = np.array(sorted_Prob)"
      ],
      "metadata": {
        "id": "r4AWnNFZEHLV"
      },
      "execution_count": 31,
      "outputs": []
    },
    {
      "cell_type": "code",
      "source": [
        "sorted_Prob.shape"
      ],
      "metadata": {
        "colab": {
          "base_uri": "https://localhost:8080/"
        },
        "id": "mlEYKvZqEJGl",
        "outputId": "73c473be-04f7-4690-c120-0f7ec2e8b4fa"
      },
      "execution_count": 32,
      "outputs": [
        {
          "output_type": "execute_result",
          "data": {
            "text/plain": [
              "(4967, 11)"
            ]
          },
          "metadata": {},
          "execution_count": 32
        }
      ]
    },
    {
      "cell_type": "code",
      "source": [
        "from numpy import savetxt\n",
        "savetxt('Probabilities_Xception_final.csv', sorted_Prob, delimiter=',')"
      ],
      "metadata": {
        "id": "9_eJIAKIEKzs"
      },
      "execution_count": 33,
      "outputs": []
    },
    {
      "cell_type": "code",
      "source": [
        "!cp Probabilities_Xception_final.csv \"/content/gdrive/MyDrive/AI_for_CS\""
      ],
      "metadata": {
        "id": "0fsKasHpEU3m"
      },
      "execution_count": 34,
      "outputs": []
    },
    {
      "cell_type": "markdown",
      "source": [
        ""
      ],
      "metadata": {
        "id": "wLvlISipkN34"
      }
    },
    {
      "cell_type": "code",
      "source": [
        "from tensorflow.keras.applications import Xception\n",
        "XceptionModel_Reg = tf.keras.applications.Xception(\n",
        "                include_top=False,\n",
        "                weights=None,\n",
        "                input_shape=(71, 71, 3),\n",
        "                classes=1,\n",
        "                classifier_activation=None)"
      ],
      "metadata": {
        "id": "OVIUM0WmkKg4"
      },
      "execution_count": 35,
      "outputs": []
    },
    {
      "cell_type": "code",
      "source": [
        "from keras.layers import Dropout, BatchNormalization\n",
        "for layer in XceptionModel_Reg.layers:\n",
        "    layer.trainable = True\n",
        "\n",
        "# last layers output\n",
        "x = XceptionModel_Reg.layers[10].output\n",
        "# Flatten as before\n",
        "\n",
        "# Classification block\n",
        "x = Flatten(name='flatten')(x)\n",
        "x = BatchNormalization()(x)\n",
        "x = Dense(1, activation='linear', name='predictions')(x) # lazm output 11 3shan l classes\n",
        "from tensorflow.keras.models import Model\n",
        "Xception_transfer_Reg = Model(inputs=XceptionModel_Reg.input, outputs=x)"
      ],
      "metadata": {
        "id": "CiDQ5tlvG3gS"
      },
      "execution_count": 36,
      "outputs": []
    },
    {
      "cell_type": "code",
      "source": [
        "batchSize = 128\n",
        "nEpochs = 32\n",
        "mse = tf.keras.losses.MeanSquaredError()\n",
        "\n",
        "adam = tf.keras.optimizers.Adam(learning_rate=0.0001)\n",
        "Xception_transfer_Reg.compile(loss=mse, \n",
        "                           optimizer=adam)\n",
        "\n",
        "\n",
        "history = Xception_transfer_Reg.fit(trainX, y_train_k, batch_size=batchSize, epochs=nEpochs, verbose=1, \n",
        "                                 validation_data=(validateX, y_val_k))  # dol mn l split l fo2"
      ],
      "metadata": {
        "colab": {
          "base_uri": "https://localhost:8080/"
        },
        "id": "Isd9uV8WFoer",
        "outputId": "af19a8e4-3335-4835-879a-eb9a69ef20ce"
      },
      "execution_count": 37,
      "outputs": [
        {
          "output_type": "stream",
          "name": "stdout",
          "text": [
            "Epoch 1/32\n",
            "32/32 [==============================] - 4s 76ms/step - loss: 1.5478 - val_loss: 0.0830\n",
            "Epoch 2/32\n",
            "32/32 [==============================] - 2s 66ms/step - loss: 0.3657 - val_loss: 0.0896\n",
            "Epoch 3/32\n",
            "32/32 [==============================] - 2s 67ms/step - loss: 0.2360 - val_loss: 0.0925\n",
            "Epoch 4/32\n",
            "32/32 [==============================] - 2s 66ms/step - loss: 0.1924 - val_loss: 0.1016\n",
            "Epoch 5/32\n",
            "32/32 [==============================] - 2s 67ms/step - loss: 0.1614 - val_loss: 0.1131\n",
            "Epoch 6/32\n",
            "32/32 [==============================] - 2s 67ms/step - loss: 0.1637 - val_loss: 0.1375\n",
            "Epoch 7/32\n",
            "32/32 [==============================] - 2s 66ms/step - loss: 0.1578 - val_loss: 0.1281\n",
            "Epoch 8/32\n",
            "32/32 [==============================] - 2s 66ms/step - loss: 0.1752 - val_loss: 0.2209\n",
            "Epoch 9/32\n",
            "32/32 [==============================] - 2s 66ms/step - loss: 0.1827 - val_loss: 0.1223\n",
            "Epoch 10/32\n",
            "32/32 [==============================] - 2s 67ms/step - loss: 0.2247 - val_loss: 0.1812\n",
            "Epoch 11/32\n",
            "32/32 [==============================] - 2s 67ms/step - loss: 0.1958 - val_loss: 0.1590\n",
            "Epoch 12/32\n",
            "32/32 [==============================] - 2s 67ms/step - loss: 0.1791 - val_loss: 0.2706\n",
            "Epoch 13/32\n",
            "32/32 [==============================] - 2s 66ms/step - loss: 0.1603 - val_loss: 0.1319\n",
            "Epoch 14/32\n",
            "32/32 [==============================] - 2s 66ms/step - loss: 0.1512 - val_loss: 0.1583\n",
            "Epoch 15/32\n",
            "32/32 [==============================] - 2s 66ms/step - loss: 0.1884 - val_loss: 0.1690\n",
            "Epoch 16/32\n",
            "32/32 [==============================] - 2s 66ms/step - loss: 0.1525 - val_loss: 0.1487\n",
            "Epoch 17/32\n",
            "32/32 [==============================] - 2s 66ms/step - loss: 0.1313 - val_loss: 0.1650\n",
            "Epoch 18/32\n",
            "32/32 [==============================] - 2s 66ms/step - loss: 0.1100 - val_loss: 0.1586\n",
            "Epoch 19/32\n",
            "32/32 [==============================] - 2s 66ms/step - loss: 0.1129 - val_loss: 0.1702\n",
            "Epoch 20/32\n",
            "32/32 [==============================] - 2s 66ms/step - loss: 0.1207 - val_loss: 0.1402\n",
            "Epoch 21/32\n",
            "32/32 [==============================] - 2s 66ms/step - loss: 0.1085 - val_loss: 0.1457\n",
            "Epoch 22/32\n",
            "32/32 [==============================] - 2s 66ms/step - loss: 0.1140 - val_loss: 0.1390\n",
            "Epoch 23/32\n",
            "32/32 [==============================] - 2s 66ms/step - loss: 0.1080 - val_loss: 0.1449\n",
            "Epoch 24/32\n",
            "32/32 [==============================] - 2s 67ms/step - loss: 0.1129 - val_loss: 0.1822\n",
            "Epoch 25/32\n",
            "32/32 [==============================] - 2s 66ms/step - loss: 0.1422 - val_loss: 0.2585\n",
            "Epoch 26/32\n",
            "32/32 [==============================] - 2s 66ms/step - loss: 0.1475 - val_loss: 0.2204\n",
            "Epoch 27/32\n",
            "32/32 [==============================] - 2s 67ms/step - loss: 0.1572 - val_loss: 0.1803\n",
            "Epoch 28/32\n",
            "32/32 [==============================] - 2s 67ms/step - loss: 0.1355 - val_loss: 0.1803\n",
            "Epoch 29/32\n",
            "32/32 [==============================] - 2s 66ms/step - loss: 0.1344 - val_loss: 0.1670\n",
            "Epoch 30/32\n",
            "32/32 [==============================] - 2s 66ms/step - loss: 0.1274 - val_loss: 0.3728\n",
            "Epoch 31/32\n",
            "32/32 [==============================] - 2s 66ms/step - loss: 0.1537 - val_loss: 1.0477\n",
            "Epoch 32/32\n",
            "32/32 [==============================] - 2s 66ms/step - loss: 1.0522 - val_loss: 0.7427\n"
          ]
        }
      ]
    }
  ]
}