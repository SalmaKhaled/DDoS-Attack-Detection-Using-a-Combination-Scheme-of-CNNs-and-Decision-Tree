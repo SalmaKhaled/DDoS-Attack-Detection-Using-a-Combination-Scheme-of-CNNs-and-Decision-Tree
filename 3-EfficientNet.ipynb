{
  "nbformat": 4,
  "nbformat_minor": 5,
  "metadata": {
    "accelerator": "GPU",
    "colab": {
      "name": "Final AiforCs_project.ipynb",
      "provenance": [],
      "collapsed_sections": [],
      "machine_shape": "hm"
    },
    "kernelspec": {
      "display_name": "Python 3 (ipykernel)",
      "language": "python",
      "name": "python3"
    },
    "language_info": {
      "codemirror_mode": {
        "name": "ipython",
        "version": 3
      },
      "file_extension": ".py",
      "mimetype": "text/x-python",
      "name": "python",
      "nbconvert_exporter": "python",
      "pygments_lexer": "ipython3",
      "version": "3.8.11"
    }
  },
  "cells": [
    {
      "cell_type": "markdown",
      "metadata": {
        "id": "c5cec3d6"
      },
      "source": [
        "# AI for CS project"
      ],
      "id": "c5cec3d6"
    },
    {
      "cell_type": "markdown",
      "metadata": {
        "id": "e467a443"
      },
      "source": [
        "| Name | Mail | ID |\n",
        "| --- | --- | --- |\n",
        "| Ahmed Mahmoud Mohamed Farag | afara109@uottawa.ca | 300266868 |\n",
        "| --- | --- | --- |\n",
        "| Omar Ahmed Abdelbasset Haridy | ohari043@uottawa.ca | 300267038 |\n",
        "| --- | --- | --- |\n",
        "| Mayar Amr Mohamed Attawiya | matta057@uottawa.ca | 300267050 |\n",
        "| --- | --- | --- |\n",
        "| Salma Khaled Mohamed Elgendy | selge047@uottawa.ca | 300267042 |"
      ],
      "id": "e467a443"
    },
    {
      "cell_type": "markdown",
      "metadata": {
        "id": "af690f55"
      },
      "source": [
        "\n",
        "## Data loading and investigation"
      ],
      "id": "af690f55"
    },
    {
      "cell_type": "code",
      "metadata": {
        "id": "qTy6QkfzERZt",
        "colab": {
          "base_uri": "https://localhost:8080/"
        },
        "outputId": "0d11c05d-b9fa-41a5-b4c5-6753d75b298a"
      },
      "source": [
        "from google.colab import drive\n",
        "drive.mount('/content/gdrive')"
      ],
      "id": "qTy6QkfzERZt",
      "execution_count": 1,
      "outputs": [
        {
          "output_type": "stream",
          "name": "stdout",
          "text": [
            "Mounted at /content/gdrive\n"
          ]
        }
      ]
    },
    {
      "cell_type": "code",
      "metadata": {
        "id": "1acd3e22"
      },
      "source": [
        "from sklearn import datasets #Import scikit-learn dataset library\n",
        "import numpy as np\n",
        "from sklearn.model_selection import train_test_split\n",
        "from sklearn import svm\n",
        "from sklearn.neural_network import MLPClassifier\n",
        "from sklearn import metrics\n",
        "import pandas as pd\n",
        "from sklearn.ensemble import RandomForestClassifier\n",
        "from sklearn import tree\n",
        "import matplotlib.pyplot as plt\n",
        "from sklearn import preprocessing\n",
        "from sklearn.model_selection import StratifiedShuffleSplit\n",
        "from sklearn.metrics import accuracy_score, classification_report\n",
        "import os\n",
        "from sklearn import svm\n",
        "import tensorflow as tf\n",
        "import tensorflow.keras\n",
        "from tensorflow.keras.models import Model\n",
        "from tensorflow.keras.layers import Dense, Flatten, Conv2D, MaxPooling2D, Activation, Dropout\n",
        "# from tensorflow.keras import backend as K"
      ],
      "id": "1acd3e22",
      "execution_count": 2,
      "outputs": []
    },
    {
      "cell_type": "code",
      "source": [
        "tf.random.set_seed(42)"
      ],
      "metadata": {
        "id": "rtsnfoGh3_0k"
      },
      "id": "rtsnfoGh3_0k",
      "execution_count": 3,
      "outputs": []
    },
    {
      "cell_type": "code",
      "source": [
        "X = pd.read_csv('/content/gdrive/MyDrive/AI_for_CS/X_preprocessed.csv')"
      ],
      "metadata": {
        "id": "2C23UpBfDa_9"
      },
      "id": "2C23UpBfDa_9",
      "execution_count": 4,
      "outputs": []
    },
    {
      "cell_type": "code",
      "source": [
        "y = pd.read_csv('/content/gdrive/MyDrive/AI_for_CS/y_preprocessed.csv')"
      ],
      "metadata": {
        "id": "9YoLG-ziJ--c"
      },
      "id": "9YoLG-ziJ--c",
      "execution_count": 5,
      "outputs": []
    },
    {
      "cell_type": "code",
      "source": [
        "y = y[\"Label\"]"
      ],
      "metadata": {
        "id": "fFrNzj5DKevI"
      },
      "id": "fFrNzj5DKevI",
      "execution_count": 6,
      "outputs": []
    },
    {
      "cell_type": "code",
      "source": [
        "X = X.drop(columns = ['Unnamed: 0'])"
      ],
      "metadata": {
        "id": "58-tjVjoDeZv"
      },
      "id": "58-tjVjoDeZv",
      "execution_count": 7,
      "outputs": []
    },
    {
      "cell_type": "code",
      "source": [
        "X.shape"
      ],
      "metadata": {
        "colab": {
          "base_uri": "https://localhost:8080/"
        },
        "id": "ruZvy9mZDgUC",
        "outputId": "eb59c930-edf6-45cf-86b5-bbdb38535a9d"
      },
      "id": "ruZvy9mZDgUC",
      "execution_count": 8,
      "outputs": [
        {
          "output_type": "execute_result",
          "data": {
            "text/plain": [
              "(983484, 66)"
            ]
          },
          "metadata": {},
          "execution_count": 8
        }
      ]
    },
    {
      "cell_type": "code",
      "source": [
        "df = X.join(y)"
      ],
      "metadata": {
        "id": "T2tNyqyMJ-ep"
      },
      "id": "T2tNyqyMJ-ep",
      "execution_count": 9,
      "outputs": []
    },
    {
      "cell_type": "code",
      "source": [
        "df = df.sort_values(by=['Label']) #sort for images"
      ],
      "metadata": {
        "id": "OTNoA978KhfL"
      },
      "id": "OTNoA978KhfL",
      "execution_count": 10,
      "outputs": []
    },
    {
      "cell_type": "code",
      "source": [
        "df['Label'].value_counts()"
      ],
      "metadata": {
        "colab": {
          "base_uri": "https://localhost:8080/"
        },
        "id": "xIpy7G93KnBa",
        "outputId": "2a975aaa-608f-4d1e-9ace-966fb13776c8"
      },
      "id": "xIpy7G93KnBa",
      "execution_count": 11,
      "outputs": [
        {
          "output_type": "execute_result",
          "data": {
            "text/plain": [
              "6     99626\n",
              "4     99524\n",
              "7     98720\n",
              "2     97914\n",
              "8     97804\n",
              "3     96547\n",
              "1     96203\n",
              "5     95060\n",
              "10    86619\n",
              "9     85829\n",
              "0     29638\n",
              "Name: Label, dtype: int64"
            ]
          },
          "metadata": {},
          "execution_count": 11
        }
      ]
    },
    {
      "cell_type": "code",
      "source": [
        "X = df.drop(columns = ['Label'])"
      ],
      "metadata": {
        "id": "IOh2EOZZKxof"
      },
      "id": "IOh2EOZZKxof",
      "execution_count": 12,
      "outputs": []
    },
    {
      "cell_type": "code",
      "metadata": {
        "id": "f4ef453f"
      },
      "source": [
        "def norm_features(X):\n",
        "    hmm2 = np.empty([len(X), 66])\n",
        "    count = 0\n",
        "    for col in X:\n",
        "        hmm = []\n",
        "        min = X[col].min()\n",
        "        max = X[col].max()\n",
        "        for i in X[col]:\n",
        "            xnew = ((i - min) / (max - min)) * 255\n",
        "            hmm.append(xnew)\n",
        "        hmm2[:,count] = np.array(hmm)\n",
        "        #break\n",
        "        count += 1\n",
        "    return hmm2"
      ],
      "id": "f4ef453f",
      "execution_count": 13,
      "outputs": []
    },
    {
      "cell_type": "code",
      "metadata": {
        "id": "e3d99fe7"
      },
      "source": [
        "# 66 x 66 x 3 each 198 sample will be an image\n",
        "def conv_img(X):\n",
        "    img = np.empty([4967,66,66,3])\n",
        "    i = 0\n",
        "    for j in range(4967):\n",
        "        for c in range(3):\n",
        "            for k in range(66):\n",
        "                img[j,:,k,c] = X[i,:]\n",
        "                i += 1\n",
        "    return img"
      ],
      "id": "e3d99fe7",
      "execution_count": 14,
      "outputs": []
    },
    {
      "cell_type": "code",
      "metadata": {
        "id": "QFu0wdhd3DYX"
      },
      "source": [
        "norm = norm_features(X)"
      ],
      "id": "QFu0wdhd3DYX",
      "execution_count": 15,
      "outputs": []
    },
    {
      "cell_type": "code",
      "metadata": {
        "colab": {
          "base_uri": "https://localhost:8080/"
        },
        "id": "SRXb-sPY9w30",
        "outputId": "c3305efc-120c-431c-b907-ac6a5e8965de"
      },
      "source": [
        "img = conv_img(norm)\n",
        "img.shape"
      ],
      "id": "SRXb-sPY9w30",
      "execution_count": 16,
      "outputs": [
        {
          "output_type": "execute_result",
          "data": {
            "text/plain": [
              "(4967, 66, 66, 3)"
            ]
          },
          "metadata": {},
          "execution_count": 16
        }
      ]
    },
    {
      "cell_type": "code",
      "source": [
        "indices = list(range(len(img)))"
      ],
      "metadata": {
        "id": "AcZuP9N4D00e"
      },
      "id": "AcZuP9N4D00e",
      "execution_count": 17,
      "outputs": []
    },
    {
      "cell_type": "code",
      "source": [
        "len(indices)"
      ],
      "metadata": {
        "colab": {
          "base_uri": "https://localhost:8080/"
        },
        "id": "ir4LHVbCD1mg",
        "outputId": "89fe891e-e5ef-412b-d3a7-a452038627df"
      },
      "id": "ir4LHVbCD1mg",
      "execution_count": 18,
      "outputs": [
        {
          "output_type": "execute_result",
          "data": {
            "text/plain": [
              "4967"
            ]
          },
          "metadata": {},
          "execution_count": 18
        }
      ]
    },
    {
      "cell_type": "code",
      "metadata": {
        "colab": {
          "base_uri": "https://localhost:8080/",
          "height": 303
        },
        "id": "tesjJyQ7Mu-D",
        "outputId": "a437444e-45bd-4b17-a41a-967946b325d0"
      },
      "source": [
        "imageA = img[10]\n",
        "plt.imshow(imageA) #benign"
      ],
      "id": "tesjJyQ7Mu-D",
      "execution_count": 19,
      "outputs": [
        {
          "output_type": "stream",
          "name": "stderr",
          "text": [
            "Clipping input data to the valid range for imshow with RGB data ([0..1] for floats or [0..255] for integers).\n"
          ]
        },
        {
          "output_type": "execute_result",
          "data": {
            "text/plain": [
              "<matplotlib.image.AxesImage at 0x7f408103a690>"
            ]
          },
          "metadata": {},
          "execution_count": 19
        },
        {
          "output_type": "display_data",
          "data": {
            "image/png": "[encoded data removed]",
            "text/plain": [
              "<Figure size 432x288 with 1 Axes>"
            ]
          },
          "metadata": {
            "needs_background": "light"
          }
        }
      ]
    },
    {
      "cell_type": "code",
      "metadata": {
        "colab": {
          "base_uri": "https://localhost:8080/",
          "height": 303
        },
        "id": "IeuYRb5DV1iB",
        "outputId": "1fcf7ac0-927a-4d26-85eb-68a4d3de7d23"
      },
      "source": [
        "dns = img[1239]\n",
        "plt.imshow(dns)"
      ],
      "id": "IeuYRb5DV1iB",
      "execution_count": 20,
      "outputs": [
        {
          "output_type": "stream",
          "name": "stderr",
          "text": [
            "Clipping input data to the valid range for imshow with RGB data ([0..1] for floats or [0..255] for integers).\n"
          ]
        },
        {
          "output_type": "execute_result",
          "data": {
            "text/plain": [
              "<matplotlib.image.AxesImage at 0x7f40813f6950>"
            ]
          },
          "metadata": {},
          "execution_count": 20
        },
        {
          "output_type": "display_data",
          "data": {
            "image/png": "[encoded data removed]",
            "text/plain": [
              "<Figure size 432x288 with 1 Axes>"
            ]
          },
          "metadata": {
            "needs_background": "light"
          }
        }
      ]
    },
    {
      "cell_type": "code",
      "metadata": {
        "colab": {
          "base_uri": "https://localhost:8080/",
          "height": 303
        },
        "id": "-3tWAUXkV444",
        "outputId": "cd5c2575-f09b-4368-877c-2dece8230c9a"
      },
      "source": [
        "ldab = img[2996]\n",
        "plt.imshow(ldab)"
      ],
      "id": "-3tWAUXkV444",
      "execution_count": 21,
      "outputs": [
        {
          "output_type": "stream",
          "name": "stderr",
          "text": [
            "Clipping input data to the valid range for imshow with RGB data ([0..1] for floats or [0..255] for integers).\n"
          ]
        },
        {
          "output_type": "execute_result",
          "data": {
            "text/plain": [
              "<matplotlib.image.AxesImage at 0x7f4081332450>"
            ]
          },
          "metadata": {},
          "execution_count": 21
        },
        {
          "output_type": "display_data",
          "data": {
            "image/png": "[encoded data removed]",
            "text/plain": [
              "<Figure size 432x288 with 1 Axes>"
            ]
          },
          "metadata": {
            "needs_background": "light"
          }
        }
      ]
    },
    {
      "cell_type": "code",
      "metadata": {
        "colab": {
          "base_uri": "https://localhost:8080/",
          "height": 303
        },
        "id": "YRjg6kNHz4da",
        "outputId": "e83d8dc2-0c5b-4dea-93c6-fd51aee5572c"
      },
      "source": [
        "syn = img[4900]\n",
        "plt.imshow(syn)"
      ],
      "id": "YRjg6kNHz4da",
      "execution_count": 22,
      "outputs": [
        {
          "output_type": "stream",
          "name": "stderr",
          "text": [
            "Clipping input data to the valid range for imshow with RGB data ([0..1] for floats or [0..255] for integers).\n"
          ]
        },
        {
          "output_type": "execute_result",
          "data": {
            "text/plain": [
              "<matplotlib.image.AxesImage at 0x7f4081a61990>"
            ]
          },
          "metadata": {},
          "execution_count": 22
        },
        {
          "output_type": "display_data",
          "data": {
            "image/png": "[encoded data removed]",
            "text/plain": [
              "<Figure size 432x288 with 1 Axes>"
            ]
          },
          "metadata": {
            "needs_background": "light"
          }
        }
      ]
    },
    {
      "cell_type": "code",
      "metadata": {
        "colab": {
          "base_uri": "https://localhost:8080/"
        },
        "id": "AHxjbAkOZJ6w",
        "outputId": "e32c28fe-a8d3-45d3-a5fd-b088da8a9f81"
      },
      "source": [
        "y = 150 * [0] + 486 * [1] + 494 * [2] + 488 * [3] + 503 * [4] + 480 * [5] + 503 * [6] + 499 * [7] + 494 * [8] + 433 * [9] + 437 * [10] \n",
        "print(len(y))"
      ],
      "id": "AHxjbAkOZJ6w",
      "execution_count": 23,
      "outputs": [
        {
          "output_type": "stream",
          "name": "stdout",
          "text": [
            "4967\n"
          ]
        }
      ]
    },
    {
      "cell_type": "code",
      "source": [
        "import cv2\n",
        "images = []\n",
        "for image in img:\n",
        "  images.append(cv2.resize(image, (224,224), interpolation = cv2.INTER_AREA)) #to be applicable with efficientnet\n",
        "images = np.array(images)"
      ],
      "metadata": {
        "id": "GZVnx0FHpwiK"
      },
      "id": "GZVnx0FHpwiK",
      "execution_count": 24,
      "outputs": []
    },
    {
      "cell_type": "code",
      "source": [
        "images.shape"
      ],
      "metadata": {
        "colab": {
          "base_uri": "https://localhost:8080/"
        },
        "id": "1ecYCBsfqdfg",
        "outputId": "565e0801-1665-4e02-c235-d08ffb5b69ff"
      },
      "id": "1ecYCBsfqdfg",
      "execution_count": 25,
      "outputs": [
        {
          "output_type": "execute_result",
          "data": {
            "text/plain": [
              "(4967, 224, 224, 3)"
            ]
          },
          "metadata": {},
          "execution_count": 25
        }
      ]
    },
    {
      "cell_type": "code",
      "metadata": {
        "id": "UnVbYMejSJUB"
      },
      "source": [
        "nClasses = 11\n",
        "# Use Keras' handy utils\n",
        "split = train_test_split(images, y, indices, test_size=0.2, random_state=42)\n",
        "(trainX, validateX, trainY, validateY, indices_train, indices_test) = split\n",
        "y_train_k = tensorflow.keras.utils.to_categorical(trainY, num_classes=nClasses)\n",
        "y_val_k = tensorflow.keras.utils.to_categorical(validateY, num_classes=nClasses)"
      ],
      "id": "UnVbYMejSJUB",
      "execution_count": 26,
      "outputs": []
    },
    {
      "cell_type": "code",
      "metadata": {
        "colab": {
          "base_uri": "https://localhost:8080/"
        },
        "id": "2o_xbAYxHL3V",
        "outputId": "c5bb448a-9ae8-4ec2-806d-f0cb75f79bcf"
      },
      "source": [
        "import itertools\n",
        "import os\n",
        "\n",
        "import matplotlib.pylab as plt\n",
        "import numpy as np\n",
        "\n",
        "import tensorflow as tf\n",
        "import tensorflow_hub as hub\n",
        "\n",
        "print('TF version:', tf.__version__)\n",
        "print('Hub version:', hub.__version__)\n",
        "print('Phsical devices:', tf.config.list_physical_devices())\n",
        "\n",
        "def get_hub_url_and_isize(model_name, ckpt_type, hub_type):\n",
        "  if ckpt_type == '1k':\n",
        "    ckpt_type = ''  # json doesn't support empty string\n",
        "  else:\n",
        "    ckpt_type = '-' + ckpt_type  # add '-' as prefix\n",
        "  \n",
        "  hub_url_map = {\n",
        "    'efficientnetv2-b0': f'gs://cloud-tpu-checkpoints/efficientnet/v2/hub/efficientnetv2-b0/{hub_type}',\n",
        "    'efficientnetv2-b1': f'gs://cloud-tpu-checkpoints/efficientnet/v2/hub/efficientnetv2-b1/{hub_type}',\n",
        "    'efficientnetv2-b2': f'gs://cloud-tpu-checkpoints/efficientnet/v2/hub/efficientnetv2-b2/{hub_type}',\n",
        "    'efficientnetv2-b3': f'gs://cloud-tpu-checkpoints/efficientnet/v2/hub/efficientnetv2-b3/{hub_type}',\n",
        "    'efficientnetv2-s':  f'gs://cloud-tpu-checkpoints/efficientnet/v2/hub/efficientnetv2-s/{hub_type}',\n",
        "    'efficientnetv2-m':  f'gs://cloud-tpu-checkpoints/efficientnet/v2/hub/efficientnetv2-m/{hub_type}',\n",
        "    'efficientnetv2-l':  f'gs://cloud-tpu-checkpoints/efficientnet/v2/hub/efficientnetv2-l/{hub_type}',\n",
        "\n",
        "    'efficientnetv2-b0-21k': f'gs://cloud-tpu-checkpoints/efficientnet/v2/hub/efficientnetv2-b0-21k/{hub_type}',\n",
        "    'efficientnetv2-b1-21k': f'gs://cloud-tpu-checkpoints/efficientnet/v2/hub/efficientnetv2-b1-21k/{hub_type}',\n",
        "    'efficientnetv2-b2-21k': f'gs://cloud-tpu-checkpoints/efficientnet/v2/hub/efficientnetv2-b2-21k/{hub_type}',\n",
        "    'efficientnetv2-b3-21k': f'gs://cloud-tpu-checkpoints/efficientnet/v2/hub/efficientnetv2-b3-21k/{hub_type}',\n",
        "    'efficientnetv2-s-21k':  f'gs://cloud-tpu-checkpoints/efficientnet/v2/hub/efficientnetv2-s-21k/{hub_type}',\n",
        "    'efficientnetv2-m-21k':  f'gs://cloud-tpu-checkpoints/efficientnet/v2/hub/efficientnetv2-m-21k/{hub_type}',\n",
        "    'efficientnetv2-l-21k':  f'gs://cloud-tpu-checkpoints/efficientnet/v2/hub/efficientnetv2-l-21k/{hub_type}',\n",
        "    'efficientnetv2-xl-21k':  f'gs://cloud-tpu-checkpoints/efficientnet/v2/hub/efficientnetv2-xl-21k/{hub_type}',\n",
        "\n",
        "    'efficientnetv2-b0-21k-ft1k': f'gs://cloud-tpu-checkpoints/efficientnet/v2/hub/efficientnetv2-b0-21k-ft1k/{hub_type}',\n",
        "    'efficientnetv2-b1-21k-ft1k': f'gs://cloud-tpu-checkpoints/efficientnet/v2/hub/efficientnetv2-b1-21k-ft1k/{hub_type}',\n",
        "    'efficientnetv2-b2-21k-ft1k': f'gs://cloud-tpu-checkpoints/efficientnet/v2/hub/efficientnetv2-b2-21k-ft1k/{hub_type}',\n",
        "    'efficientnetv2-b3-21k-ft1k': f'gs://cloud-tpu-checkpoints/efficientnet/v2/hub/efficientnetv2-b3-21k-ft1k/{hub_type}',\n",
        "    'efficientnetv2-s-21k-ft1k':  f'gs://cloud-tpu-checkpoints/efficientnet/v2/hub/efficientnetv2-s-21k-ft1k/{hub_type}',\n",
        "    'efficientnetv2-m-21k-ft1k':  f'gs://cloud-tpu-checkpoints/efficientnet/v2/hub/efficientnetv2-m-21k-ft1k/{hub_type}',\n",
        "    'efficientnetv2-l-21k-ft1k':  f'gs://cloud-tpu-checkpoints/efficientnet/v2/hub/efficientnetv2-l-21k-ft1k/{hub_type}',\n",
        "    'efficientnetv2-xl-21k-ft1k':  f'gs://cloud-tpu-checkpoints/efficientnet/v2/hub/efficientnetv2-xl-21k-ft1k/{hub_type}',\n",
        "      \n",
        "    # efficientnetv1\n",
        "    'efficientnet_b0': f'https://tfhub.dev/tensorflow/efficientnet/b0/{hub_type}/1',\n",
        "    'efficientnet_b1': f'https://tfhub.dev/tensorflow/efficientnet/b1/{hub_type}/1',\n",
        "    'efficientnet_b2': f'https://tfhub.dev/tensorflow/efficientnet/b2/{hub_type}/1',\n",
        "    'efficientnet_b3': f'https://tfhub.dev/tensorflow/efficientnet/b3/{hub_type}/1',\n",
        "    'efficientnet_b4': f'https://tfhub.dev/tensorflow/efficientnet/b4/{hub_type}/1',\n",
        "    'efficientnet_b5': f'https://tfhub.dev/tensorflow/efficientnet/b5/{hub_type}/1',\n",
        "    'efficientnet_b6': f'https://tfhub.dev/tensorflow/efficientnet/b6/{hub_type}/1',\n",
        "    'efficientnet_b7': f'https://tfhub.dev/tensorflow/efficientnet/b7/{hub_type}/1',\n",
        "  }\n",
        "  \n",
        "  image_size_map = {\n",
        "    'efficientnetv2-b0': 224,\n",
        "    'efficientnetv2-b1': 240,\n",
        "    'efficientnetv2-b2': 260,\n",
        "    'efficientnetv2-b3': 300,\n",
        "    'efficientnetv2-s':  384,\n",
        "    'efficientnetv2-m':  480,\n",
        "    'efficientnetv2-l':  480,\n",
        "    'efficientnetv2-xl':  512,\n",
        "  \n",
        "    'efficientnet_b0': 224,\n",
        "    'efficientnet_b1': 240,\n",
        "    'efficientnet_b2': 260,\n",
        "    'efficientnet_b3': 300,\n",
        "    'efficientnet_b4': 380,\n",
        "    'efficientnet_b5': 456,\n",
        "    'efficientnet_b6': 528,\n",
        "    'efficientnet_b7': 600,\n",
        "  }\n",
        "  \n",
        "  hub_url = hub_url_map.get(model_name + ckpt_type)\n",
        "  image_size = image_size_map.get(model_name, 224)\n",
        "  return hub_url, image_size\n",
        "\n",
        "\n",
        "def get_imagenet_labels(filename):\n",
        "  labels = []\n",
        "  with open(filename, 'r') as f:\n",
        "    for line in f:\n",
        "      labels.append(line.split('\\t')[1][:-1])  # split and remove line break.\n",
        "  return labels\n"
      ],
      "id": "2o_xbAYxHL3V",
      "execution_count": 27,
      "outputs": [
        {
          "output_type": "stream",
          "name": "stdout",
          "text": [
            "TF version: 2.7.0\n",
            "Hub version: 0.12.0\n",
            "Phsical devices: [PhysicalDevice(name='/physical_device:CPU:0', device_type='CPU'), PhysicalDevice(name='/physical_device:GPU:0', device_type='GPU')]\n"
          ]
        }
      ]
    },
    {
      "cell_type": "code",
      "metadata": {
        "id": "xyHM0X0dFNB7"
      },
      "source": [
        "# Build model\n",
        "import tensorflow_hub as hub\n",
        "model_name = 'efficientnetv2-b0' #@param {type:'string'}\n",
        "ckpt_type = '1k'   # @param ['21k', '21k-ft1k', '1k']\n",
        "hub_type = 'feature-vector' # @param ['feature-vector']\n",
        "batch_size =  128#@param {type:\"integer\"}\n",
        "hub_url, image_size = get_hub_url_and_isize(model_name, ckpt_type, hub_type)"
      ],
      "id": "xyHM0X0dFNB7",
      "execution_count": 28,
      "outputs": []
    },
    {
      "cell_type": "code",
      "metadata": {
        "colab": {
          "base_uri": "https://localhost:8080/"
        },
        "id": "otJgpqkrG8_K",
        "outputId": "f5c802b7-9c2b-4648-897e-b291bd298264"
      },
      "source": [
        "print(image_size)"
      ],
      "id": "otJgpqkrG8_K",
      "execution_count": 29,
      "outputs": [
        {
          "output_type": "stream",
          "name": "stdout",
          "text": [
            "224\n"
          ]
        }
      ]
    },
    {
      "cell_type": "code",
      "metadata": {
        "colab": {
          "base_uri": "https://localhost:8080/",
          "height": 304
        },
        "id": "8jwsPlnvI6Kp",
        "outputId": "8ed2a07a-36aa-4b83-cdbe-1fca085cc95a"
      },
      "source": [
        "plt.imshow(images[2599])"
      ],
      "id": "8jwsPlnvI6Kp",
      "execution_count": 30,
      "outputs": [
        {
          "output_type": "stream",
          "name": "stderr",
          "text": [
            "Clipping input data to the valid range for imshow with RGB data ([0..1] for floats or [0..255] for integers).\n"
          ]
        },
        {
          "output_type": "execute_result",
          "data": {
            "text/plain": [
              "<matplotlib.image.AxesImage at 0x7f40819a7190>"
            ]
          },
          "metadata": {},
          "execution_count": 30
        },
        {
          "output_type": "display_data",
          "data": {
            "image/png": "[encoded data removed]",
            "text/plain": [
              "<Figure size 432x288 with 1 Axes>"
            ]
          },
          "metadata": {
            "needs_background": "light"
          }
        }
      ]
    },
    {
      "cell_type": "code",
      "metadata": {
        "colab": {
          "base_uri": "https://localhost:8080/"
        },
        "id": "cgHHu0W_Jt_G",
        "outputId": "8ab9056e-8cf2-41e2-9a8c-ae5731ccb2fe"
      },
      "source": [
        "# whether to finetune the whole model or just the top layer.\n",
        "do_fine_tuning = True #@param {type:\"boolean\"}\n",
        "num_epochs =  23#@param {type:\"integer\"}\n",
        "\n",
        "tf.keras.backend.clear_session()\n",
        "model = tf.keras.Sequential([\n",
        "    # Explicitly define the input shape so the model can be properly\n",
        "    # loaded by the TFLiteConverter\n",
        "    tf.keras.layers.InputLayer(input_shape=[image_size, image_size, 3]),\n",
        "    hub.KerasLayer(hub_url, trainable=do_fine_tuning),\n",
        "    tf.keras.layers.Dropout(rate=0.2),\n",
        "    tf.keras.layers.Dense(11,\n",
        "                          kernel_regularizer=tf.keras.regularizers.l2(0.0001))\n",
        "])\n",
        "model.build((None, image_size, image_size, 3))\n",
        "model.summary()\n",
        "\n",
        "model.compile(\n",
        "  optimizer=tf.keras.optimizers.SGD(learning_rate=0.001, momentum=0.9), \n",
        "  loss=tf.keras.losses.CategoricalCrossentropy(from_logits=True, label_smoothing=0.1),\n",
        "  metrics=['accuracy'])\n",
        "\n",
        "history = model.fit(\n",
        "    trainX, y_train_k, batch_size=batch_size, epochs=num_epochs, verbose=1, validation_data=(validateX, y_val_k))"
      ],
      "id": "cgHHu0W_Jt_G",
      "execution_count": 31,
      "outputs": [
        {
          "output_type": "stream",
          "name": "stdout",
          "text": [
            "Model: \"sequential\"\n",
            "_________________________________________________________________\n",
            " Layer (type)                Output Shape              Param #   \n",
            "=================================================================\n",
            " keras_layer (KerasLayer)    (None, 1280)              5919312   \n",
            "                                                                 \n",
            " dropout (Dropout)           (None, 1280)              0         \n",
            "                                                                 \n",
            " dense (Dense)               (None, 11)                14091     \n",
            "                                                                 \n",
            "=================================================================\n",
            "Total params: 5,933,403\n",
            "Trainable params: 5,872,795\n",
            "Non-trainable params: 60,608\n",
            "_________________________________________________________________\n",
            "Epoch 1/23\n",
            "32/32 [==============================] - 32s 437ms/step - loss: 2.2123 - accuracy: 0.2945 - val_loss: 1.8493 - val_accuracy: 0.7193\n",
            "Epoch 2/23\n",
            "32/32 [==============================] - 11s 359ms/step - loss: 1.6091 - accuracy: 0.7395 - val_loss: 1.2097 - val_accuracy: 0.8823\n",
            "Epoch 3/23\n",
            "32/32 [==============================] - 12s 360ms/step - loss: 1.1688 - accuracy: 0.8512 - val_loss: 0.8509 - val_accuracy: 0.8913\n",
            "Epoch 4/23\n",
            "32/32 [==============================] - 12s 361ms/step - loss: 0.9344 - accuracy: 0.8701 - val_loss: 0.7527 - val_accuracy: 0.8934\n",
            "Epoch 5/23\n",
            "32/32 [==============================] - 11s 360ms/step - loss: 0.8269 - accuracy: 0.8792 - val_loss: 0.7150 - val_accuracy: 0.9014\n",
            "Epoch 6/23\n",
            "32/32 [==============================] - 12s 361ms/step - loss: 0.7835 - accuracy: 0.8825 - val_loss: 0.6864 - val_accuracy: 0.9014\n",
            "Epoch 7/23\n",
            "32/32 [==============================] - 11s 360ms/step - loss: 0.7549 - accuracy: 0.8903 - val_loss: 0.6916 - val_accuracy: 0.9125\n",
            "Epoch 8/23\n",
            "32/32 [==============================] - 12s 375ms/step - loss: 0.7426 - accuracy: 0.8960 - val_loss: 0.6785 - val_accuracy: 0.9044\n",
            "Epoch 9/23\n",
            "32/32 [==============================] - 11s 358ms/step - loss: 0.7287 - accuracy: 0.8998 - val_loss: 0.6772 - val_accuracy: 0.9165\n",
            "Epoch 10/23\n",
            "32/32 [==============================] - 12s 360ms/step - loss: 0.7231 - accuracy: 0.9033 - val_loss: 0.6754 - val_accuracy: 0.9095\n",
            "Epoch 11/23\n",
            "32/32 [==============================] - 11s 358ms/step - loss: 0.7182 - accuracy: 0.9064 - val_loss: 0.6744 - val_accuracy: 0.9155\n",
            "Epoch 12/23\n",
            "32/32 [==============================] - 12s 360ms/step - loss: 0.7122 - accuracy: 0.9059 - val_loss: 0.6686 - val_accuracy: 0.9266\n",
            "Epoch 13/23\n",
            "32/32 [==============================] - 12s 361ms/step - loss: 0.7068 - accuracy: 0.9096 - val_loss: 0.6631 - val_accuracy: 0.9336\n",
            "Epoch 14/23\n",
            "32/32 [==============================] - 12s 360ms/step - loss: 0.7011 - accuracy: 0.9182 - val_loss: 0.6680 - val_accuracy: 0.9235\n",
            "Epoch 15/23\n",
            "32/32 [==============================] - 11s 360ms/step - loss: 0.6988 - accuracy: 0.9184 - val_loss: 0.6654 - val_accuracy: 0.9175\n",
            "Epoch 16/23\n",
            "32/32 [==============================] - 11s 360ms/step - loss: 0.6944 - accuracy: 0.9232 - val_loss: 0.6618 - val_accuracy: 0.9276\n",
            "Epoch 17/23\n",
            "32/32 [==============================] - 11s 359ms/step - loss: 0.6913 - accuracy: 0.9207 - val_loss: 0.6582 - val_accuracy: 0.9326\n",
            "Epoch 18/23\n",
            "32/32 [==============================] - 12s 361ms/step - loss: 0.6885 - accuracy: 0.9247 - val_loss: 0.6603 - val_accuracy: 0.9286\n",
            "Epoch 19/23\n",
            "32/32 [==============================] - 11s 359ms/step - loss: 0.6844 - accuracy: 0.9270 - val_loss: 0.6537 - val_accuracy: 0.9286\n",
            "Epoch 20/23\n",
            "32/32 [==============================] - 11s 359ms/step - loss: 0.6797 - accuracy: 0.9290 - val_loss: 0.6562 - val_accuracy: 0.9286\n",
            "Epoch 21/23\n",
            "32/32 [==============================] - 11s 360ms/step - loss: 0.6838 - accuracy: 0.9250 - val_loss: 0.6513 - val_accuracy: 0.9356\n",
            "Epoch 22/23\n",
            "32/32 [==============================] - 12s 361ms/step - loss: 0.6774 - accuracy: 0.9298 - val_loss: 0.6528 - val_accuracy: 0.9286\n",
            "Epoch 23/23\n",
            "32/32 [==============================] - 11s 359ms/step - loss: 0.6739 - accuracy: 0.9358 - val_loss: 0.6494 - val_accuracy: 0.9376\n"
          ]
        }
      ]
    },
    {
      "cell_type": "code",
      "metadata": {
        "id": "XuhYs6u3OWa8"
      },
      "source": [
        "y_prob = model.predict(validateX)"
      ],
      "id": "XuhYs6u3OWa8",
      "execution_count": 32,
      "outputs": []
    },
    {
      "cell_type": "code",
      "metadata": {
        "id": "1W_ofP5ZOggY"
      },
      "source": [
        "y_pred = y_prob.argmax(axis=-1)"
      ],
      "id": "1W_ofP5ZOggY",
      "execution_count": 33,
      "outputs": []
    },
    {
      "cell_type": "code",
      "metadata": {
        "colab": {
          "base_uri": "https://localhost:8080/"
        },
        "id": "2URgyJNoOjkt",
        "outputId": "314ddae8-12a6-4f67-adb8-4eb133cef57d"
      },
      "source": [
        "print(\"Report : \\n\",classification_report(validateY, y_pred))"
      ],
      "id": "2URgyJNoOjkt",
      "execution_count": 34,
      "outputs": [
        {
          "output_type": "stream",
          "name": "stdout",
          "text": [
            "Report : \n",
            "               precision    recall  f1-score   support\n",
            "\n",
            "           0       1.00      1.00      1.00        35\n",
            "           1       0.99      1.00      1.00       106\n",
            "           2       1.00      1.00      1.00       105\n",
            "           3       1.00      1.00      1.00        98\n",
            "           4       1.00      1.00      1.00        99\n",
            "           5       1.00      1.00      1.00        96\n",
            "           6       1.00      0.99      0.99        95\n",
            "           7       0.65      0.72      0.68        79\n",
            "           8       0.76      0.70      0.73       102\n",
            "           9       0.93      0.99      0.96        88\n",
            "          10       0.99      0.92      0.95        91\n",
            "\n",
            "    accuracy                           0.94       994\n",
            "   macro avg       0.94      0.94      0.94       994\n",
            "weighted avg       0.94      0.94      0.94       994\n",
            "\n"
          ]
        }
      ]
    },
    {
      "cell_type": "code",
      "source": [
        "# dictionary keys seems to have changed in version 2\n",
        "k = ''\n",
        "if 'accuracy' in history.history :\n",
        "    k = 'accuracy'    \n",
        "\n",
        "if 'acc' in history.history :\n",
        "    k = 'acc'\n",
        "    \n",
        "if k != '' :    \n",
        "    plt.plot(history.history[k])\n",
        "    plt.plot(history.history['val_'+k])\n",
        "    plt.title('Model Accuracy')\n",
        "    plt.ylabel('Accuracy')\n",
        "    plt.xlabel('Epoch')\n",
        "    plt.legend(['train', 'validate'], loc='upper left')\n",
        "    plt.show()"
      ],
      "metadata": {
        "id": "v0nHXBQeJxe-",
        "colab": {
          "base_uri": "https://localhost:8080/",
          "height": 295
        },
        "outputId": "4b980d74-fad5-4980-c3df-0b85a2c3383b"
      },
      "id": "v0nHXBQeJxe-",
      "execution_count": 35,
      "outputs": [
        {
          "output_type": "display_data",
          "data": {
            "image/png": "[encoded data removed]",
            "text/plain": [
              "<Figure size 432x288 with 1 Axes>"
            ]
          },
          "metadata": {
            "needs_background": "light"
          }
        }
      ]
    },
    {
      "cell_type": "code",
      "source": [
        "plt.plot(history.history['loss'])\n",
        "plt.plot(history.history['val_loss'])\n",
        "plt.title('Model loss')\n",
        "plt.ylabel('Loss')\n",
        "plt.xlabel('Epoch')\n",
        "plt.legend(['train', 'validate'], loc='upper left')\n",
        "plt.show()"
      ],
      "metadata": {
        "colab": {
          "base_uri": "https://localhost:8080/",
          "height": 295
        },
        "id": "jio5WLLP2Pir",
        "outputId": "07efc1bb-b3ea-4805-9b64-f569d0110a5a"
      },
      "id": "jio5WLLP2Pir",
      "execution_count": 36,
      "outputs": [
        {
          "output_type": "display_data",
          "data": {
            "image/png": "[encoded data removed]",
            "text/plain": [
              "<Figure size 432x288 with 1 Axes>"
            ]
          },
          "metadata": {
            "needs_background": "light"
          }
        }
      ]
    },
    {
      "cell_type": "code",
      "source": [
        "y_probtrain = model.predict(trainX)"
      ],
      "metadata": {
        "id": "sTNjZhRcUt1a"
      },
      "id": "sTNjZhRcUt1a",
      "execution_count": 37,
      "outputs": []
    },
    {
      "cell_type": "code",
      "source": [
        "EfficientNet_prob = np.append(y_probtrain, y_prob, axis=0)"
      ],
      "metadata": {
        "id": "Apf0jmylC5ru"
      },
      "id": "Apf0jmylC5ru",
      "execution_count": 38,
      "outputs": []
    },
    {
      "cell_type": "code",
      "source": [
        "EfficientNet_prob.shape"
      ],
      "metadata": {
        "colab": {
          "base_uri": "https://localhost:8080/"
        },
        "id": "Arogb1ntDBfp",
        "outputId": "ebf790be-dc40-49e8-dd1f-166108dcdc25"
      },
      "id": "Arogb1ntDBfp",
      "execution_count": 39,
      "outputs": [
        {
          "output_type": "execute_result",
          "data": {
            "text/plain": [
              "(4967, 11)"
            ]
          },
          "metadata": {},
          "execution_count": 39
        }
      ]
    },
    {
      "cell_type": "code",
      "source": [
        "full_index =  indices_train + indices_test"
      ],
      "metadata": {
        "id": "Dcr6zFVDDDdd"
      },
      "id": "Dcr6zFVDDDdd",
      "execution_count": 40,
      "outputs": []
    },
    {
      "cell_type": "code",
      "source": [
        "len(full_index)"
      ],
      "metadata": {
        "colab": {
          "base_uri": "https://localhost:8080/"
        },
        "id": "I0555lrxD__i",
        "outputId": "3b620b1f-9bfd-4802-b0e3-2af2ea4c9030"
      },
      "id": "I0555lrxD__i",
      "execution_count": 41,
      "outputs": [
        {
          "output_type": "execute_result",
          "data": {
            "text/plain": [
              "4967"
            ]
          },
          "metadata": {},
          "execution_count": 41
        }
      ]
    },
    {
      "cell_type": "code",
      "source": [
        "sorted_Prob = [x for _,x in sorted(zip(full_index, EfficientNet_prob))]"
      ],
      "metadata": {
        "id": "R4VsBkaVEFfq"
      },
      "id": "R4VsBkaVEFfq",
      "execution_count": 42,
      "outputs": []
    },
    {
      "cell_type": "code",
      "source": [
        "sorted_Prob = np.array(sorted_Prob)"
      ],
      "metadata": {
        "id": "r4AWnNFZEHLV"
      },
      "id": "r4AWnNFZEHLV",
      "execution_count": 43,
      "outputs": []
    },
    {
      "cell_type": "code",
      "source": [
        "sorted_Prob.shape"
      ],
      "metadata": {
        "colab": {
          "base_uri": "https://localhost:8080/"
        },
        "id": "mlEYKvZqEJGl",
        "outputId": "bdec7fd6-2698-4318-a14e-4797761f0534"
      },
      "id": "mlEYKvZqEJGl",
      "execution_count": 44,
      "outputs": [
        {
          "output_type": "execute_result",
          "data": {
            "text/plain": [
              "(4967, 11)"
            ]
          },
          "metadata": {},
          "execution_count": 44
        }
      ]
    },
    {
      "cell_type": "code",
      "source": [
        "from numpy import savetxt\n",
        "savetxt('Probabilities_EfficientNet_final.csv', sorted_Prob, delimiter=',')"
      ],
      "metadata": {
        "id": "9_eJIAKIEKzs"
      },
      "id": "9_eJIAKIEKzs",
      "execution_count": 45,
      "outputs": []
    },
    {
      "cell_type": "code",
      "source": [
        "!cp Probabilities_EfficientNet_final.csv \"/content/gdrive/MyDrive/AI_for_CS\""
      ],
      "metadata": {
        "id": "0fsKasHpEU3m"
      },
      "id": "0fsKasHpEU3m",
      "execution_count": 46,
      "outputs": []
    },
    {
      "cell_type": "code",
      "source": [
        ""
      ],
      "metadata": {
        "id": "JWLEwkXiEPVr"
      },
      "id": "JWLEwkXiEPVr",
      "execution_count": 46,
      "outputs": []
    },
    {
      "cell_type": "code",
      "metadata": {
        "id": "kb17UkP1RCKe"
      },
      "source": [
        ""
      ],
      "id": "kb17UkP1RCKe",
      "execution_count": 46,
      "outputs": []
    }
  ]
}