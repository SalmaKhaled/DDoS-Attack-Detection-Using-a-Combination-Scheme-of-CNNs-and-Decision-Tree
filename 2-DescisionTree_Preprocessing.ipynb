{
  "cells": [
    {
      "cell_type": "markdown",
      "metadata": {
        "id": "c5cec3d6"
      },
      "source": [
        "# AI for CS project"
      ],
      "id": "c5cec3d6"
    },
    {
      "cell_type": "markdown",
      "metadata": {
        "id": "e467a443"
      },
      "source": [
        "| Name | Mail | ID |\n",
        "| --- | --- | --- |\n",
        "| Ahmed Mahmoud Mohamed Farag | afara109@uottawa.ca | 300266868 |\n",
        "| --- | --- | --- |\n",
        "| Omar Ahmed Abdelbasset Haridy | ohari043@uottawa.ca | 300267038 |\n",
        "| --- | --- | --- |\n",
        "| Mayar Amr Mohamed Attawiya | matta057@uottawa.ca | 300267050 |\n",
        "| --- | --- | --- |\n",
        "| Salma Khaled Mohamed Elgendy | selge047@uottawa.ca | 300267042 |"
      ],
      "id": "e467a443"
    },
    {
      "cell_type": "markdown",
      "metadata": {
        "id": "af690f55"
      },
      "source": [
        "## Data loading and investigation"
      ],
      "id": "af690f55"
    },
    {
      "cell_type": "code",
      "execution_count": null,
      "metadata": {
        "id": "qTy6QkfzERZt",
        "colab": {
          "base_uri": "https://localhost:8080/"
        },
        "outputId": "7e352b9b-77fb-42de-c24d-bf0c92902816"
      },
      "outputs": [
        {
          "output_type": "stream",
          "name": "stdout",
          "text": [
            "Mounted at /content/gdrive\n"
          ]
        }
      ],
      "source": [
        "from google.colab import drive\n",
        "drive.mount('/content/gdrive')"
      ],
      "id": "qTy6QkfzERZt"
    },
    {
      "cell_type": "code",
      "execution_count": null,
      "metadata": {
        "id": "1acd3e22"
      },
      "outputs": [],
      "source": [
        "from sklearn import datasets #Import scikit-learn dataset library\n",
        "import numpy as np\n",
        "from sklearn.model_selection import train_test_split\n",
        "from sklearn import svm\n",
        "from sklearn.neural_network import MLPClassifier\n",
        "from sklearn import metrics\n",
        "import pandas as pd\n",
        "from sklearn.ensemble import RandomForestClassifier\n",
        "from sklearn import tree\n",
        "import matplotlib.pyplot as plt\n",
        "from sklearn import preprocessing\n",
        "from sklearn.model_selection import StratifiedShuffleSplit\n",
        "from sklearn.metrics import accuracy_score, classification_report\n",
        "import os\n",
        "from sklearn import svm\n",
        "from sklearn.tree import DecisionTreeClassifier"
      ],
      "id": "1acd3e22"
    },
    {
      "cell_type": "code",
      "execution_count": null,
      "metadata": {
        "colab": {
          "base_uri": "https://localhost:8080/"
        },
        "id": "jON4cXpBxLuK",
        "outputId": "37f7ed60-e6e6-4dfe-b47b-78763a6146a9"
      },
      "outputs": [
        {
          "output_type": "stream",
          "name": "stderr",
          "text": [
            "/usr/local/lib/python3.7/dist-packages/IPython/core/interactiveshell.py:2718: DtypeWarning: Columns (86) have mixed types.Specify dtype option on import or set low_memory=False.\n",
            "  interactivity=interactivity, compiler=compiler, result=result)\n"
          ]
        }
      ],
      "source": [
        "df = pd.read_csv('/content/gdrive/MyDrive/AI_for_CS/Subset.csv')"
      ],
      "id": "jON4cXpBxLuK"
    },
    {
      "cell_type": "code",
      "execution_count": null,
      "metadata": {
        "colab": {
          "base_uri": "https://localhost:8080/"
        },
        "id": "TQKN1998lwRf",
        "outputId": "2ad8228e-3609-44c3-941e-fc871bfdc4d5"
      },
      "outputs": [
        {
          "output_type": "execute_result",
          "data": {
            "text/plain": [
              "(1029900, 89)"
            ]
          },
          "metadata": {},
          "execution_count": 4
        }
      ],
      "source": [
        "df.shape"
      ],
      "id": "TQKN1998lwRf"
    },
    {
      "cell_type": "code",
      "execution_count": null,
      "metadata": {
        "colab": {
          "base_uri": "https://localhost:8080/",
          "height": 384
        },
        "id": "aa17f503",
        "outputId": "3c2ba690-efbe-49be-8764-57f04ccfb6ac"
      },
      "outputs": [
        {
          "output_type": "execute_result",
          "data": {
            "text/html": [
              "<div>\n",
              "<style scoped>\n",
              "    .dataframe tbody tr th:only-of-type {\n",
              "        vertical-align: middle;\n",
              "    }\n",
              "\n",
              "    .dataframe tbody tr th {\n",
              "        vertical-align: top;\n",
              "    }\n",
              "\n",
              "    .dataframe thead th {\n",
              "        text-align: right;\n",
              "    }\n",
              "</style>\n",
              "<table border=\"1\" class=\"dataframe\">\n",
              "  <thead>\n",
              "    <tr style=\"text-align: right;\">\n",
              "      <th></th>\n",
              "      <th>Unnamed: 0</th>\n",
              "      <th>Unnamed: 0.1</th>\n",
              "      <th>Source Port</th>\n",
              "      <th>Destination Port</th>\n",
              "      <th>Protocol</th>\n",
              "      <th>Flow Duration</th>\n",
              "      <th>Total Fwd Packets</th>\n",
              "      <th>Total Backward Packets</th>\n",
              "      <th>Total Length of Fwd Packets</th>\n",
              "      <th>Total Length of Bwd Packets</th>\n",
              "      <th>Fwd Packet Length Max</th>\n",
              "      <th>Fwd Packet Length Min</th>\n",
              "      <th>Fwd Packet Length Mean</th>\n",
              "      <th>Fwd Packet Length Std</th>\n",
              "      <th>Bwd Packet Length Max</th>\n",
              "      <th>Bwd Packet Length Min</th>\n",
              "      <th>Bwd Packet Length Mean</th>\n",
              "      <th>Bwd Packet Length Std</th>\n",
              "      <th>Flow Bytes/s</th>\n",
              "      <th>Flow Packets/s</th>\n",
              "      <th>Flow IAT Mean</th>\n",
              "      <th>Flow IAT Std</th>\n",
              "      <th>Flow IAT Max</th>\n",
              "      <th>Flow IAT Min</th>\n",
              "      <th>Fwd IAT Total</th>\n",
              "      <th>Fwd IAT Mean</th>\n",
              "      <th>Fwd IAT Std</th>\n",
              "      <th>Fwd IAT Max</th>\n",
              "      <th>Fwd IAT Min</th>\n",
              "      <th>Bwd IAT Total</th>\n",
              "      <th>Bwd IAT Mean</th>\n",
              "      <th>Bwd IAT Std</th>\n",
              "      <th>Bwd IAT Max</th>\n",
              "      <th>Bwd IAT Min</th>\n",
              "      <th>Fwd PSH Flags</th>\n",
              "      <th>Bwd PSH Flags</th>\n",
              "      <th>Fwd URG Flags</th>\n",
              "      <th>Bwd URG Flags</th>\n",
              "      <th>Fwd Header Length</th>\n",
              "      <th>Bwd Header Length</th>\n",
              "      <th>...</th>\n",
              "      <th>Max Packet Length</th>\n",
              "      <th>Packet Length Mean</th>\n",
              "      <th>Packet Length Std</th>\n",
              "      <th>Packet Length Variance</th>\n",
              "      <th>FIN Flag Count</th>\n",
              "      <th>SYN Flag Count</th>\n",
              "      <th>RST Flag Count</th>\n",
              "      <th>PSH Flag Count</th>\n",
              "      <th>ACK Flag Count</th>\n",
              "      <th>URG Flag Count</th>\n",
              "      <th>CWE Flag Count</th>\n",
              "      <th>ECE Flag Count</th>\n",
              "      <th>Down/Up Ratio</th>\n",
              "      <th>Average Packet Size</th>\n",
              "      <th>Avg Fwd Segment Size</th>\n",
              "      <th>Avg Bwd Segment Size</th>\n",
              "      <th>Fwd Header Length.1</th>\n",
              "      <th>Fwd Avg Bytes/Bulk</th>\n",
              "      <th>Fwd Avg Packets/Bulk</th>\n",
              "      <th>Fwd Avg Bulk Rate</th>\n",
              "      <th>Bwd Avg Bytes/Bulk</th>\n",
              "      <th>Bwd Avg Packets/Bulk</th>\n",
              "      <th>Bwd Avg Bulk Rate</th>\n",
              "      <th>Subflow Fwd Packets</th>\n",
              "      <th>Subflow Fwd Bytes</th>\n",
              "      <th>Subflow Bwd Packets</th>\n",
              "      <th>Subflow Bwd Bytes</th>\n",
              "      <th>Init_Win_bytes_forward</th>\n",
              "      <th>Init_Win_bytes_backward</th>\n",
              "      <th>act_data_pkt_fwd</th>\n",
              "      <th>min_seg_size_forward</th>\n",
              "      <th>Active Mean</th>\n",
              "      <th>Active Std</th>\n",
              "      <th>Active Max</th>\n",
              "      <th>Active Min</th>\n",
              "      <th>Idle Mean</th>\n",
              "      <th>Idle Std</th>\n",
              "      <th>Idle Max</th>\n",
              "      <th>Idle Min</th>\n",
              "      <th>Inbound</th>\n",
              "    </tr>\n",
              "  </thead>\n",
              "  <tbody>\n",
              "    <tr>\n",
              "      <th>count</th>\n",
              "      <td>1.029900e+06</td>\n",
              "      <td>1.029900e+06</td>\n",
              "      <td>1.029900e+06</td>\n",
              "      <td>1.029900e+06</td>\n",
              "      <td>1.029900e+06</td>\n",
              "      <td>1.029900e+06</td>\n",
              "      <td>1.029900e+06</td>\n",
              "      <td>1.029900e+06</td>\n",
              "      <td>1.029900e+06</td>\n",
              "      <td>1.029900e+06</td>\n",
              "      <td>1.029900e+06</td>\n",
              "      <td>1.029900e+06</td>\n",
              "      <td>1.029900e+06</td>\n",
              "      <td>1.029900e+06</td>\n",
              "      <td>1.029900e+06</td>\n",
              "      <td>1.029900e+06</td>\n",
              "      <td>1.029900e+06</td>\n",
              "      <td>1.029900e+06</td>\n",
              "      <td>1.002269e+06</td>\n",
              "      <td>1.029900e+06</td>\n",
              "      <td>1.029900e+06</td>\n",
              "      <td>1.029900e+06</td>\n",
              "      <td>1.029900e+06</td>\n",
              "      <td>1.029900e+06</td>\n",
              "      <td>1.029900e+06</td>\n",
              "      <td>1.029900e+06</td>\n",
              "      <td>1.029900e+06</td>\n",
              "      <td>1.029900e+06</td>\n",
              "      <td>1.029900e+06</td>\n",
              "      <td>1.029900e+06</td>\n",
              "      <td>1.029900e+06</td>\n",
              "      <td>1.029900e+06</td>\n",
              "      <td>1.029900e+06</td>\n",
              "      <td>1.029900e+06</td>\n",
              "      <td>1.029900e+06</td>\n",
              "      <td>1029900.0</td>\n",
              "      <td>1029900.0</td>\n",
              "      <td>1029900.0</td>\n",
              "      <td>1.029900e+06</td>\n",
              "      <td>1.029900e+06</td>\n",
              "      <td>...</td>\n",
              "      <td>1.029900e+06</td>\n",
              "      <td>1.029900e+06</td>\n",
              "      <td>1.029900e+06</td>\n",
              "      <td>1.029900e+06</td>\n",
              "      <td>1029900.0</td>\n",
              "      <td>1.029900e+06</td>\n",
              "      <td>1.029900e+06</td>\n",
              "      <td>1029900.0</td>\n",
              "      <td>1.029900e+06</td>\n",
              "      <td>1.029900e+06</td>\n",
              "      <td>1.029900e+06</td>\n",
              "      <td>1029900.0</td>\n",
              "      <td>1.029900e+06</td>\n",
              "      <td>1.029900e+06</td>\n",
              "      <td>1.029900e+06</td>\n",
              "      <td>1.029900e+06</td>\n",
              "      <td>1.029900e+06</td>\n",
              "      <td>1029900.0</td>\n",
              "      <td>1029900.0</td>\n",
              "      <td>1029900.0</td>\n",
              "      <td>1029900.0</td>\n",
              "      <td>1029900.0</td>\n",
              "      <td>1029900.0</td>\n",
              "      <td>1.029900e+06</td>\n",
              "      <td>1.029900e+06</td>\n",
              "      <td>1.029900e+06</td>\n",
              "      <td>1.029900e+06</td>\n",
              "      <td>1.029900e+06</td>\n",
              "      <td>1.029900e+06</td>\n",
              "      <td>1.029900e+06</td>\n",
              "      <td>1.029900e+06</td>\n",
              "      <td>1.029900e+06</td>\n",
              "      <td>1.029900e+06</td>\n",
              "      <td>1.029900e+06</td>\n",
              "      <td>1.029900e+06</td>\n",
              "      <td>1.029900e+06</td>\n",
              "      <td>1.029900e+06</td>\n",
              "      <td>1.029900e+06</td>\n",
              "      <td>1.029900e+06</td>\n",
              "      <td>1.029900e+06</td>\n",
              "    </tr>\n",
              "    <tr>\n",
              "      <th>mean</th>\n",
              "      <td>9.979878e+05</td>\n",
              "      <td>9.895769e+04</td>\n",
              "      <td>2.189884e+04</td>\n",
              "      <td>3.225543e+04</td>\n",
              "      <td>1.465539e+01</td>\n",
              "      <td>3.737991e+05</td>\n",
              "      <td>9.579296e+00</td>\n",
              "      <td>2.392174e-01</td>\n",
              "      <td>4.117855e+03</td>\n",
              "      <td>1.945249e+02</td>\n",
              "      <td>6.162013e+02</td>\n",
              "      <td>5.986116e+02</td>\n",
              "      <td>6.093229e+02</td>\n",
              "      <td>6.563420e+00</td>\n",
              "      <td>9.470230e+00</td>\n",
              "      <td>1.078010e+00</td>\n",
              "      <td>2.918735e+00</td>\n",
              "      <td>2.402461e+00</td>\n",
              "      <td>inf</td>\n",
              "      <td>inf</td>\n",
              "      <td>4.447396e+04</td>\n",
              "      <td>8.552921e+04</td>\n",
              "      <td>2.146979e+05</td>\n",
              "      <td>4.392380e+02</td>\n",
              "      <td>3.651818e+05</td>\n",
              "      <td>5.025311e+04</td>\n",
              "      <td>9.222946e+04</td>\n",
              "      <td>2.099935e+05</td>\n",
              "      <td>3.911396e+02</td>\n",
              "      <td>1.902931e+05</td>\n",
              "      <td>1.037441e+04</td>\n",
              "      <td>2.475026e+04</td>\n",
              "      <td>8.282384e+04</td>\n",
              "      <td>1.608680e-01</td>\n",
              "      <td>3.852801e-03</td>\n",
              "      <td>0.0</td>\n",
              "      <td>0.0</td>\n",
              "      <td>0.0</td>\n",
              "      <td>-9.384805e+07</td>\n",
              "      <td>-2.445470e+05</td>\n",
              "      <td>...</td>\n",
              "      <td>6.225498e+02</td>\n",
              "      <td>6.099508e+02</td>\n",
              "      <td>7.830837e+00</td>\n",
              "      <td>2.329565e+03</td>\n",
              "      <td>0.0</td>\n",
              "      <td>1.582678e-04</td>\n",
              "      <td>3.852801e-03</td>\n",
              "      <td>0.0</td>\n",
              "      <td>1.991659e-01</td>\n",
              "      <td>1.253520e-02</td>\n",
              "      <td>5.749102e-03</td>\n",
              "      <td>0.0</td>\n",
              "      <td>4.682591e-02</td>\n",
              "      <td>8.860262e+02</td>\n",
              "      <td>6.093229e+02</td>\n",
              "      <td>2.918735e+00</td>\n",
              "      <td>-9.384805e+07</td>\n",
              "      <td>0.0</td>\n",
              "      <td>0.0</td>\n",
              "      <td>0.0</td>\n",
              "      <td>0.0</td>\n",
              "      <td>0.0</td>\n",
              "      <td>0.0</td>\n",
              "      <td>9.579296e+00</td>\n",
              "      <td>4.117855e+03</td>\n",
              "      <td>2.392174e-01</td>\n",
              "      <td>1.945249e+02</td>\n",
              "      <td>1.361448e+03</td>\n",
              "      <td>9.981261e+01</td>\n",
              "      <td>7.456808e+00</td>\n",
              "      <td>-3.173396e+07</td>\n",
              "      <td>2.203580e+03</td>\n",
              "      <td>6.079803e+02</td>\n",
              "      <td>2.981308e+03</td>\n",
              "      <td>1.812157e+03</td>\n",
              "      <td>1.834389e+05</td>\n",
              "      <td>7.738261e+03</td>\n",
              "      <td>1.899143e+05</td>\n",
              "      <td>1.772172e+05</td>\n",
              "      <td>9.757190e-01</td>\n",
              "    </tr>\n",
              "    <tr>\n",
              "      <th>std</th>\n",
              "      <td>5.426345e+05</td>\n",
              "      <td>1.420830e+05</td>\n",
              "      <td>2.359369e+04</td>\n",
              "      <td>1.931670e+04</td>\n",
              "      <td>4.516206e+00</td>\n",
              "      <td>5.008578e+06</td>\n",
              "      <td>2.777032e+02</td>\n",
              "      <td>7.961542e+00</td>\n",
              "      <td>2.201105e+04</td>\n",
              "      <td>2.533793e+04</td>\n",
              "      <td>5.668482e+02</td>\n",
              "      <td>5.719212e+02</td>\n",
              "      <td>5.661528e+02</td>\n",
              "      <td>2.779779e+01</td>\n",
              "      <td>2.250043e+02</td>\n",
              "      <td>1.227724e+01</td>\n",
              "      <td>4.549548e+01</td>\n",
              "      <td>4.972738e+01</td>\n",
              "      <td>NaN</td>\n",
              "      <td>NaN</td>\n",
              "      <td>4.516766e+05</td>\n",
              "      <td>8.609752e+05</td>\n",
              "      <td>2.518550e+06</td>\n",
              "      <td>4.078605e+04</td>\n",
              "      <td>4.990373e+06</td>\n",
              "      <td>5.031863e+05</td>\n",
              "      <td>9.525241e+05</td>\n",
              "      <td>2.505459e+06</td>\n",
              "      <td>4.136071e+04</td>\n",
              "      <td>4.257553e+06</td>\n",
              "      <td>2.449348e+05</td>\n",
              "      <td>5.736353e+05</td>\n",
              "      <td>1.981286e+06</td>\n",
              "      <td>2.331345e+00</td>\n",
              "      <td>6.195128e-02</td>\n",
              "      <td>0.0</td>\n",
              "      <td>0.0</td>\n",
              "      <td>0.0</td>\n",
              "      <td>1.787553e+09</td>\n",
              "      <td>2.277334e+07</td>\n",
              "      <td>...</td>\n",
              "      <td>6.006416e+02</td>\n",
              "      <td>5.659232e+02</td>\n",
              "      <td>4.762610e+01</td>\n",
              "      <td>1.235626e+05</td>\n",
              "      <td>0.0</td>\n",
              "      <td>1.257946e-02</td>\n",
              "      <td>6.195128e-02</td>\n",
              "      <td>0.0</td>\n",
              "      <td>3.993733e-01</td>\n",
              "      <td>1.112568e-01</td>\n",
              "      <td>7.560460e-02</td>\n",
              "      <td>0.0</td>\n",
              "      <td>2.651229e-01</td>\n",
              "      <td>8.612734e+02</td>\n",
              "      <td>5.661528e+02</td>\n",
              "      <td>4.549548e+01</td>\n",
              "      <td>1.787553e+09</td>\n",
              "      <td>0.0</td>\n",
              "      <td>0.0</td>\n",
              "      <td>0.0</td>\n",
              "      <td>0.0</td>\n",
              "      <td>0.0</td>\n",
              "      <td>0.0</td>\n",
              "      <td>2.777032e+02</td>\n",
              "      <td>2.201105e+04</td>\n",
              "      <td>7.961542e+00</td>\n",
              "      <td>2.533793e+04</td>\n",
              "      <td>3.930193e+03</td>\n",
              "      <td>1.925144e+03</td>\n",
              "      <td>2.875460e+01</td>\n",
              "      <td>1.808793e+08</td>\n",
              "      <td>9.445673e+04</td>\n",
              "      <td>3.106141e+04</td>\n",
              "      <td>1.124423e+05</td>\n",
              "      <td>8.967870e+04</td>\n",
              "      <td>2.357704e+06</td>\n",
              "      <td>3.376461e+05</td>\n",
              "      <td>2.446808e+06</td>\n",
              "      <td>2.305678e+06</td>\n",
              "      <td>1.539203e-01</td>\n",
              "    </tr>\n",
              "    <tr>\n",
              "      <th>min</th>\n",
              "      <td>0.000000e+00</td>\n",
              "      <td>0.000000e+00</td>\n",
              "      <td>0.000000e+00</td>\n",
              "      <td>0.000000e+00</td>\n",
              "      <td>0.000000e+00</td>\n",
              "      <td>0.000000e+00</td>\n",
              "      <td>1.000000e+00</td>\n",
              "      <td>0.000000e+00</td>\n",
              "      <td>0.000000e+00</td>\n",
              "      <td>0.000000e+00</td>\n",
              "      <td>0.000000e+00</td>\n",
              "      <td>0.000000e+00</td>\n",
              "      <td>0.000000e+00</td>\n",
              "      <td>0.000000e+00</td>\n",
              "      <td>0.000000e+00</td>\n",
              "      <td>0.000000e+00</td>\n",
              "      <td>0.000000e+00</td>\n",
              "      <td>0.000000e+00</td>\n",
              "      <td>0.000000e+00</td>\n",
              "      <td>3.669343e-02</td>\n",
              "      <td>0.000000e+00</td>\n",
              "      <td>0.000000e+00</td>\n",
              "      <td>0.000000e+00</td>\n",
              "      <td>0.000000e+00</td>\n",
              "      <td>0.000000e+00</td>\n",
              "      <td>0.000000e+00</td>\n",
              "      <td>0.000000e+00</td>\n",
              "      <td>0.000000e+00</td>\n",
              "      <td>0.000000e+00</td>\n",
              "      <td>0.000000e+00</td>\n",
              "      <td>0.000000e+00</td>\n",
              "      <td>0.000000e+00</td>\n",
              "      <td>0.000000e+00</td>\n",
              "      <td>0.000000e+00</td>\n",
              "      <td>0.000000e+00</td>\n",
              "      <td>0.0</td>\n",
              "      <td>0.0</td>\n",
              "      <td>0.0</td>\n",
              "      <td>-2.125438e+11</td>\n",
              "      <td>-2.125438e+09</td>\n",
              "      <td>...</td>\n",
              "      <td>0.000000e+00</td>\n",
              "      <td>0.000000e+00</td>\n",
              "      <td>0.000000e+00</td>\n",
              "      <td>0.000000e+00</td>\n",
              "      <td>0.0</td>\n",
              "      <td>0.000000e+00</td>\n",
              "      <td>0.000000e+00</td>\n",
              "      <td>0.0</td>\n",
              "      <td>0.000000e+00</td>\n",
              "      <td>0.000000e+00</td>\n",
              "      <td>0.000000e+00</td>\n",
              "      <td>0.0</td>\n",
              "      <td>0.000000e+00</td>\n",
              "      <td>0.000000e+00</td>\n",
              "      <td>0.000000e+00</td>\n",
              "      <td>0.000000e+00</td>\n",
              "      <td>-2.125438e+11</td>\n",
              "      <td>0.0</td>\n",
              "      <td>0.0</td>\n",
              "      <td>0.0</td>\n",
              "      <td>0.0</td>\n",
              "      <td>0.0</td>\n",
              "      <td>0.0</td>\n",
              "      <td>1.000000e+00</td>\n",
              "      <td>0.000000e+00</td>\n",
              "      <td>0.000000e+00</td>\n",
              "      <td>0.000000e+00</td>\n",
              "      <td>-1.000000e+00</td>\n",
              "      <td>-1.000000e+00</td>\n",
              "      <td>0.000000e+00</td>\n",
              "      <td>-1.062719e+09</td>\n",
              "      <td>0.000000e+00</td>\n",
              "      <td>0.000000e+00</td>\n",
              "      <td>0.000000e+00</td>\n",
              "      <td>0.000000e+00</td>\n",
              "      <td>0.000000e+00</td>\n",
              "      <td>0.000000e+00</td>\n",
              "      <td>0.000000e+00</td>\n",
              "      <td>0.000000e+00</td>\n",
              "      <td>0.000000e+00</td>\n",
              "    </tr>\n",
              "    <tr>\n",
              "      <th>25%</th>\n",
              "      <td>5.298358e+05</td>\n",
              "      <td>1.240600e+04</td>\n",
              "      <td>7.500000e+02</td>\n",
              "      <td>1.549400e+04</td>\n",
              "      <td>1.700000e+01</td>\n",
              "      <td>1.000000e+00</td>\n",
              "      <td>2.000000e+00</td>\n",
              "      <td>0.000000e+00</td>\n",
              "      <td>4.580000e+02</td>\n",
              "      <td>0.000000e+00</td>\n",
              "      <td>2.290000e+02</td>\n",
              "      <td>2.110000e+02</td>\n",
              "      <td>2.290000e+02</td>\n",
              "      <td>0.000000e+00</td>\n",
              "      <td>0.000000e+00</td>\n",
              "      <td>0.000000e+00</td>\n",
              "      <td>0.000000e+00</td>\n",
              "      <td>0.000000e+00</td>\n",
              "      <td>1.310584e+04</td>\n",
              "      <td>4.347826e+04</td>\n",
              "      <td>1.000000e+00</td>\n",
              "      <td>0.000000e+00</td>\n",
              "      <td>1.000000e+00</td>\n",
              "      <td>1.000000e+00</td>\n",
              "      <td>1.000000e+00</td>\n",
              "      <td>1.000000e+00</td>\n",
              "      <td>0.000000e+00</td>\n",
              "      <td>1.000000e+00</td>\n",
              "      <td>1.000000e+00</td>\n",
              "      <td>0.000000e+00</td>\n",
              "      <td>0.000000e+00</td>\n",
              "      <td>0.000000e+00</td>\n",
              "      <td>0.000000e+00</td>\n",
              "      <td>0.000000e+00</td>\n",
              "      <td>0.000000e+00</td>\n",
              "      <td>0.0</td>\n",
              "      <td>0.0</td>\n",
              "      <td>0.0</td>\n",
              "      <td>0.000000e+00</td>\n",
              "      <td>0.000000e+00</td>\n",
              "      <td>...</td>\n",
              "      <td>2.290000e+02</td>\n",
              "      <td>2.290000e+02</td>\n",
              "      <td>0.000000e+00</td>\n",
              "      <td>0.000000e+00</td>\n",
              "      <td>0.0</td>\n",
              "      <td>0.000000e+00</td>\n",
              "      <td>0.000000e+00</td>\n",
              "      <td>0.0</td>\n",
              "      <td>0.000000e+00</td>\n",
              "      <td>0.000000e+00</td>\n",
              "      <td>0.000000e+00</td>\n",
              "      <td>0.0</td>\n",
              "      <td>0.000000e+00</td>\n",
              "      <td>3.435000e+02</td>\n",
              "      <td>2.290000e+02</td>\n",
              "      <td>0.000000e+00</td>\n",
              "      <td>0.000000e+00</td>\n",
              "      <td>0.0</td>\n",
              "      <td>0.0</td>\n",
              "      <td>0.0</td>\n",
              "      <td>0.0</td>\n",
              "      <td>0.0</td>\n",
              "      <td>0.0</td>\n",
              "      <td>2.000000e+00</td>\n",
              "      <td>4.580000e+02</td>\n",
              "      <td>0.000000e+00</td>\n",
              "      <td>0.000000e+00</td>\n",
              "      <td>-1.000000e+00</td>\n",
              "      <td>-1.000000e+00</td>\n",
              "      <td>1.000000e+00</td>\n",
              "      <td>0.000000e+00</td>\n",
              "      <td>0.000000e+00</td>\n",
              "      <td>0.000000e+00</td>\n",
              "      <td>0.000000e+00</td>\n",
              "      <td>0.000000e+00</td>\n",
              "      <td>0.000000e+00</td>\n",
              "      <td>0.000000e+00</td>\n",
              "      <td>0.000000e+00</td>\n",
              "      <td>0.000000e+00</td>\n",
              "      <td>1.000000e+00</td>\n",
              "    </tr>\n",
              "    <tr>\n",
              "      <th>50%</th>\n",
              "      <td>9.511555e+05</td>\n",
              "      <td>4.064300e+04</td>\n",
              "      <td>6.933500e+03</td>\n",
              "      <td>3.229300e+04</td>\n",
              "      <td>1.700000e+01</td>\n",
              "      <td>1.000000e+00</td>\n",
              "      <td>2.000000e+00</td>\n",
              "      <td>0.000000e+00</td>\n",
              "      <td>1.234000e+03</td>\n",
              "      <td>0.000000e+00</td>\n",
              "      <td>4.010000e+02</td>\n",
              "      <td>3.830000e+02</td>\n",
              "      <td>4.010000e+02</td>\n",
              "      <td>0.000000e+00</td>\n",
              "      <td>0.000000e+00</td>\n",
              "      <td>0.000000e+00</td>\n",
              "      <td>0.000000e+00</td>\n",
              "      <td>0.000000e+00</td>\n",
              "      <td>4.580000e+08</td>\n",
              "      <td>2.000000e+06</td>\n",
              "      <td>1.000000e+00</td>\n",
              "      <td>0.000000e+00</td>\n",
              "      <td>1.000000e+00</td>\n",
              "      <td>1.000000e+00</td>\n",
              "      <td>1.000000e+00</td>\n",
              "      <td>1.000000e+00</td>\n",
              "      <td>0.000000e+00</td>\n",
              "      <td>1.000000e+00</td>\n",
              "      <td>1.000000e+00</td>\n",
              "      <td>0.000000e+00</td>\n",
              "      <td>0.000000e+00</td>\n",
              "      <td>0.000000e+00</td>\n",
              "      <td>0.000000e+00</td>\n",
              "      <td>0.000000e+00</td>\n",
              "      <td>0.000000e+00</td>\n",
              "      <td>0.0</td>\n",
              "      <td>0.0</td>\n",
              "      <td>0.0</td>\n",
              "      <td>4.000000e+01</td>\n",
              "      <td>0.000000e+00</td>\n",
              "      <td>...</td>\n",
              "      <td>4.010000e+02</td>\n",
              "      <td>4.010000e+02</td>\n",
              "      <td>0.000000e+00</td>\n",
              "      <td>0.000000e+00</td>\n",
              "      <td>0.0</td>\n",
              "      <td>0.000000e+00</td>\n",
              "      <td>0.000000e+00</td>\n",
              "      <td>0.0</td>\n",
              "      <td>0.000000e+00</td>\n",
              "      <td>0.000000e+00</td>\n",
              "      <td>0.000000e+00</td>\n",
              "      <td>0.0</td>\n",
              "      <td>0.000000e+00</td>\n",
              "      <td>4.766667e+02</td>\n",
              "      <td>4.010000e+02</td>\n",
              "      <td>0.000000e+00</td>\n",
              "      <td>4.000000e+01</td>\n",
              "      <td>0.0</td>\n",
              "      <td>0.0</td>\n",
              "      <td>0.0</td>\n",
              "      <td>0.0</td>\n",
              "      <td>0.0</td>\n",
              "      <td>0.0</td>\n",
              "      <td>2.000000e+00</td>\n",
              "      <td>1.234000e+03</td>\n",
              "      <td>0.000000e+00</td>\n",
              "      <td>0.000000e+00</td>\n",
              "      <td>-1.000000e+00</td>\n",
              "      <td>-1.000000e+00</td>\n",
              "      <td>1.000000e+00</td>\n",
              "      <td>2.000000e+01</td>\n",
              "      <td>0.000000e+00</td>\n",
              "      <td>0.000000e+00</td>\n",
              "      <td>0.000000e+00</td>\n",
              "      <td>0.000000e+00</td>\n",
              "      <td>0.000000e+00</td>\n",
              "      <td>0.000000e+00</td>\n",
              "      <td>0.000000e+00</td>\n",
              "      <td>0.000000e+00</td>\n",
              "      <td>1.000000e+00</td>\n",
              "    </tr>\n",
              "    <tr>\n",
              "      <th>75%</th>\n",
              "      <td>1.503077e+06</td>\n",
              "      <td>1.155410e+05</td>\n",
              "      <td>4.432600e+04</td>\n",
              "      <td>4.914325e+04</td>\n",
              "      <td>1.700000e+01</td>\n",
              "      <td>5.000000e+01</td>\n",
              "      <td>2.000000e+00</td>\n",
              "      <td>0.000000e+00</td>\n",
              "      <td>2.944000e+03</td>\n",
              "      <td>0.000000e+00</td>\n",
              "      <td>1.448000e+03</td>\n",
              "      <td>1.448000e+03</td>\n",
              "      <td>1.448000e+03</td>\n",
              "      <td>0.000000e+00</td>\n",
              "      <td>0.000000e+00</td>\n",
              "      <td>0.000000e+00</td>\n",
              "      <td>0.000000e+00</td>\n",
              "      <td>0.000000e+00</td>\n",
              "      <td>1.472000e+09</td>\n",
              "      <td>2.000000e+06</td>\n",
              "      <td>3.266667e+01</td>\n",
              "      <td>0.000000e+00</td>\n",
              "      <td>4.900000e+01</td>\n",
              "      <td>1.000000e+00</td>\n",
              "      <td>4.800000e+01</td>\n",
              "      <td>1.017100e+01</td>\n",
              "      <td>0.000000e+00</td>\n",
              "      <td>4.700000e+01</td>\n",
              "      <td>1.000000e+00</td>\n",
              "      <td>0.000000e+00</td>\n",
              "      <td>0.000000e+00</td>\n",
              "      <td>0.000000e+00</td>\n",
              "      <td>0.000000e+00</td>\n",
              "      <td>0.000000e+00</td>\n",
              "      <td>0.000000e+00</td>\n",
              "      <td>0.0</td>\n",
              "      <td>0.0</td>\n",
              "      <td>0.0</td>\n",
              "      <td>4.000000e+01</td>\n",
              "      <td>0.000000e+00</td>\n",
              "      <td>...</td>\n",
              "      <td>1.448000e+03</td>\n",
              "      <td>1.448000e+03</td>\n",
              "      <td>0.000000e+00</td>\n",
              "      <td>0.000000e+00</td>\n",
              "      <td>0.0</td>\n",
              "      <td>0.000000e+00</td>\n",
              "      <td>0.000000e+00</td>\n",
              "      <td>0.0</td>\n",
              "      <td>0.000000e+00</td>\n",
              "      <td>0.000000e+00</td>\n",
              "      <td>0.000000e+00</td>\n",
              "      <td>0.0</td>\n",
              "      <td>0.000000e+00</td>\n",
              "      <td>2.172000e+03</td>\n",
              "      <td>1.448000e+03</td>\n",
              "      <td>0.000000e+00</td>\n",
              "      <td>4.000000e+01</td>\n",
              "      <td>0.0</td>\n",
              "      <td>0.0</td>\n",
              "      <td>0.0</td>\n",
              "      <td>0.0</td>\n",
              "      <td>0.0</td>\n",
              "      <td>0.0</td>\n",
              "      <td>2.000000e+00</td>\n",
              "      <td>2.944000e+03</td>\n",
              "      <td>0.000000e+00</td>\n",
              "      <td>0.000000e+00</td>\n",
              "      <td>-1.000000e+00</td>\n",
              "      <td>-1.000000e+00</td>\n",
              "      <td>1.000000e+00</td>\n",
              "      <td>2.000000e+01</td>\n",
              "      <td>0.000000e+00</td>\n",
              "      <td>0.000000e+00</td>\n",
              "      <td>0.000000e+00</td>\n",
              "      <td>0.000000e+00</td>\n",
              "      <td>0.000000e+00</td>\n",
              "      <td>0.000000e+00</td>\n",
              "      <td>0.000000e+00</td>\n",
              "      <td>0.000000e+00</td>\n",
              "      <td>1.000000e+00</td>\n",
              "    </tr>\n",
              "    <tr>\n",
              "      <th>max</th>\n",
              "      <td>5.161376e+06</td>\n",
              "      <td>8.027950e+05</td>\n",
              "      <td>6.553200e+04</td>\n",
              "      <td>6.553500e+04</td>\n",
              "      <td>1.700000e+01</td>\n",
              "      <td>1.199959e+08</td>\n",
              "      <td>9.975100e+04</td>\n",
              "      <td>3.988000e+03</td>\n",
              "      <td>1.526642e+07</td>\n",
              "      <td>1.099376e+07</td>\n",
              "      <td>3.212000e+04</td>\n",
              "      <td>2.020000e+03</td>\n",
              "      <td>3.015291e+03</td>\n",
              "      <td>2.221556e+03</td>\n",
              "      <td>3.796000e+04</td>\n",
              "      <td>1.460000e+03</td>\n",
              "      <td>5.011060e+03</td>\n",
              "      <td>7.045095e+03</td>\n",
              "      <td>inf</td>\n",
              "      <td>inf</td>\n",
              "      <td>3.633711e+07</td>\n",
              "      <td>6.293758e+07</td>\n",
              "      <td>1.199480e+08</td>\n",
              "      <td>1.234823e+07</td>\n",
              "      <td>1.199959e+08</td>\n",
              "      <td>2.816640e+07</td>\n",
              "      <td>5.602064e+07</td>\n",
              "      <td>1.199480e+08</td>\n",
              "      <td>1.234823e+07</td>\n",
              "      <td>1.198410e+08</td>\n",
              "      <td>5.450558e+07</td>\n",
              "      <td>7.708253e+07</td>\n",
              "      <td>1.090112e+08</td>\n",
              "      <td>2.490000e+02</td>\n",
              "      <td>1.000000e+00</td>\n",
              "      <td>0.0</td>\n",
              "      <td>0.0</td>\n",
              "      <td>0.0</td>\n",
              "      <td>1.012600e+05</td>\n",
              "      <td>7.978400e+04</td>\n",
              "      <td>...</td>\n",
              "      <td>3.796000e+04</td>\n",
              "      <td>4.023945e+03</td>\n",
              "      <td>6.616562e+03</td>\n",
              "      <td>4.377889e+07</td>\n",
              "      <td>0.0</td>\n",
              "      <td>1.000000e+00</td>\n",
              "      <td>1.000000e+00</td>\n",
              "      <td>0.0</td>\n",
              "      <td>1.000000e+00</td>\n",
              "      <td>1.000000e+00</td>\n",
              "      <td>1.000000e+00</td>\n",
              "      <td>0.0</td>\n",
              "      <td>2.300000e+01</td>\n",
              "      <td>4.025779e+03</td>\n",
              "      <td>3.015291e+03</td>\n",
              "      <td>5.011060e+03</td>\n",
              "      <td>1.012600e+05</td>\n",
              "      <td>0.0</td>\n",
              "      <td>0.0</td>\n",
              "      <td>0.0</td>\n",
              "      <td>0.0</td>\n",
              "      <td>0.0</td>\n",
              "      <td>0.0</td>\n",
              "      <td>9.975100e+04</td>\n",
              "      <td>1.526642e+07</td>\n",
              "      <td>3.988000e+03</td>\n",
              "      <td>1.099376e+07</td>\n",
              "      <td>6.553500e+04</td>\n",
              "      <td>6.553500e+04</td>\n",
              "      <td>5.043000e+03</td>\n",
              "      <td>1.480000e+03</td>\n",
              "      <td>2.123695e+07</td>\n",
              "      <td>1.100562e+07</td>\n",
              "      <td>2.123695e+07</td>\n",
              "      <td>2.123695e+07</td>\n",
              "      <td>1.192194e+08</td>\n",
              "      <td>6.600292e+07</td>\n",
              "      <td>1.192194e+08</td>\n",
              "      <td>1.192194e+08</td>\n",
              "      <td>1.000000e+00</td>\n",
              "    </tr>\n",
              "  </tbody>\n",
              "</table>\n",
              "<p>8 rows × 83 columns</p>\n",
              "</div>"
            ],
            "text/plain": [
              "         Unnamed: 0  Unnamed: 0.1  ...      Idle Min       Inbound\n",
              "count  1.029900e+06  1.029900e+06  ...  1.029900e+06  1.029900e+06\n",
              "mean   9.979878e+05  9.895769e+04  ...  1.772172e+05  9.757190e-01\n",
              "std    5.426345e+05  1.420830e+05  ...  2.305678e+06  1.539203e-01\n",
              "min    0.000000e+00  0.000000e+00  ...  0.000000e+00  0.000000e+00\n",
              "25%    5.298358e+05  1.240600e+04  ...  0.000000e+00  1.000000e+00\n",
              "50%    9.511555e+05  4.064300e+04  ...  0.000000e+00  1.000000e+00\n",
              "75%    1.503077e+06  1.155410e+05  ...  0.000000e+00  1.000000e+00\n",
              "max    5.161376e+06  8.027950e+05  ...  1.192194e+08  1.000000e+00\n",
              "\n",
              "[8 rows x 83 columns]"
            ]
          },
          "metadata": {},
          "execution_count": 5
        }
      ],
      "source": [
        "df.describe()"
      ],
      "id": "aa17f503"
    },
    {
      "cell_type": "code",
      "execution_count": null,
      "metadata": {
        "id": "kpRpNiEMxSm6"
      },
      "outputs": [],
      "source": [
        "df = df.drop(columns = ['Unnamed: 0','Unnamed: 0.1'])"
      ],
      "id": "kpRpNiEMxSm6"
    },
    {
      "cell_type": "code",
      "execution_count": null,
      "metadata": {
        "colab": {
          "base_uri": "https://localhost:8080/",
          "height": 912
        },
        "id": "67a6a928",
        "outputId": "1f026a42-91b1-40f5-f6e1-87e294c8a2fa"
      },
      "outputs": [
        {
          "output_type": "execute_result",
          "data": {
            "text/html": [
              "<div>\n",
              "<style scoped>\n",
              "    .dataframe tbody tr th:only-of-type {\n",
              "        vertical-align: middle;\n",
              "    }\n",
              "\n",
              "    .dataframe tbody tr th {\n",
              "        vertical-align: top;\n",
              "    }\n",
              "\n",
              "    .dataframe thead th {\n",
              "        text-align: right;\n",
              "    }\n",
              "</style>\n",
              "<table border=\"1\" class=\"dataframe\">\n",
              "  <thead>\n",
              "    <tr style=\"text-align: right;\">\n",
              "      <th></th>\n",
              "      <th>Flow ID</th>\n",
              "      <th>Source IP</th>\n",
              "      <th>Source Port</th>\n",
              "      <th>Destination IP</th>\n",
              "      <th>Destination Port</th>\n",
              "      <th>Protocol</th>\n",
              "      <th>Timestamp</th>\n",
              "      <th>Flow Duration</th>\n",
              "      <th>Total Fwd Packets</th>\n",
              "      <th>Total Backward Packets</th>\n",
              "      <th>Total Length of Fwd Packets</th>\n",
              "      <th>Total Length of Bwd Packets</th>\n",
              "      <th>Fwd Packet Length Max</th>\n",
              "      <th>Fwd Packet Length Min</th>\n",
              "      <th>Fwd Packet Length Mean</th>\n",
              "      <th>Fwd Packet Length Std</th>\n",
              "      <th>Bwd Packet Length Max</th>\n",
              "      <th>Bwd Packet Length Min</th>\n",
              "      <th>Bwd Packet Length Mean</th>\n",
              "      <th>Bwd Packet Length Std</th>\n",
              "      <th>Flow Bytes/s</th>\n",
              "      <th>Flow Packets/s</th>\n",
              "      <th>Flow IAT Mean</th>\n",
              "      <th>Flow IAT Std</th>\n",
              "      <th>Flow IAT Max</th>\n",
              "      <th>Flow IAT Min</th>\n",
              "      <th>Fwd IAT Total</th>\n",
              "      <th>Fwd IAT Mean</th>\n",
              "      <th>Fwd IAT Std</th>\n",
              "      <th>Fwd IAT Max</th>\n",
              "      <th>Fwd IAT Min</th>\n",
              "      <th>Bwd IAT Total</th>\n",
              "      <th>Bwd IAT Mean</th>\n",
              "      <th>Bwd IAT Std</th>\n",
              "      <th>Bwd IAT Max</th>\n",
              "      <th>Bwd IAT Min</th>\n",
              "      <th>Fwd PSH Flags</th>\n",
              "      <th>Bwd PSH Flags</th>\n",
              "      <th>Fwd URG Flags</th>\n",
              "      <th>Bwd URG Flags</th>\n",
              "      <th>...</th>\n",
              "      <th>Packet Length Std</th>\n",
              "      <th>Packet Length Variance</th>\n",
              "      <th>FIN Flag Count</th>\n",
              "      <th>SYN Flag Count</th>\n",
              "      <th>RST Flag Count</th>\n",
              "      <th>PSH Flag Count</th>\n",
              "      <th>ACK Flag Count</th>\n",
              "      <th>URG Flag Count</th>\n",
              "      <th>CWE Flag Count</th>\n",
              "      <th>ECE Flag Count</th>\n",
              "      <th>Down/Up Ratio</th>\n",
              "      <th>Average Packet Size</th>\n",
              "      <th>Avg Fwd Segment Size</th>\n",
              "      <th>Avg Bwd Segment Size</th>\n",
              "      <th>Fwd Header Length.1</th>\n",
              "      <th>Fwd Avg Bytes/Bulk</th>\n",
              "      <th>Fwd Avg Packets/Bulk</th>\n",
              "      <th>Fwd Avg Bulk Rate</th>\n",
              "      <th>Bwd Avg Bytes/Bulk</th>\n",
              "      <th>Bwd Avg Packets/Bulk</th>\n",
              "      <th>Bwd Avg Bulk Rate</th>\n",
              "      <th>Subflow Fwd Packets</th>\n",
              "      <th>Subflow Fwd Bytes</th>\n",
              "      <th>Subflow Bwd Packets</th>\n",
              "      <th>Subflow Bwd Bytes</th>\n",
              "      <th>Init_Win_bytes_forward</th>\n",
              "      <th>Init_Win_bytes_backward</th>\n",
              "      <th>act_data_pkt_fwd</th>\n",
              "      <th>min_seg_size_forward</th>\n",
              "      <th>Active Mean</th>\n",
              "      <th>Active Std</th>\n",
              "      <th>Active Max</th>\n",
              "      <th>Active Min</th>\n",
              "      <th>Idle Mean</th>\n",
              "      <th>Idle Std</th>\n",
              "      <th>Idle Max</th>\n",
              "      <th>Idle Min</th>\n",
              "      <th>SimillarHTTP</th>\n",
              "      <th>Inbound</th>\n",
              "      <th>Label</th>\n",
              "    </tr>\n",
              "  </thead>\n",
              "  <tbody>\n",
              "    <tr>\n",
              "      <th>0</th>\n",
              "      <td>192.168.50.7-54.192.49.191-52243-443-6</td>\n",
              "      <td>192.168.50.7</td>\n",
              "      <td>52243</td>\n",
              "      <td>54.192.49.191</td>\n",
              "      <td>443</td>\n",
              "      <td>6</td>\n",
              "      <td>2018-12-01 13:13:19.483154</td>\n",
              "      <td>1</td>\n",
              "      <td>2</td>\n",
              "      <td>0</td>\n",
              "      <td>31.0</td>\n",
              "      <td>0.0</td>\n",
              "      <td>31.0</td>\n",
              "      <td>0.0</td>\n",
              "      <td>15.500000</td>\n",
              "      <td>21.920310</td>\n",
              "      <td>0.0</td>\n",
              "      <td>0.0</td>\n",
              "      <td>0.000000</td>\n",
              "      <td>0.000000</td>\n",
              "      <td>3.100000e+07</td>\n",
              "      <td>2.000000e+06</td>\n",
              "      <td>1.000000e+00</td>\n",
              "      <td>0.000000e+00</td>\n",
              "      <td>1.0</td>\n",
              "      <td>1.0</td>\n",
              "      <td>1.0</td>\n",
              "      <td>1.000000e+00</td>\n",
              "      <td>0.000000e+00</td>\n",
              "      <td>1.0</td>\n",
              "      <td>1.0</td>\n",
              "      <td>0.0</td>\n",
              "      <td>0.000000e+00</td>\n",
              "      <td>0.000000e+00</td>\n",
              "      <td>0.0</td>\n",
              "      <td>0.0</td>\n",
              "      <td>1</td>\n",
              "      <td>0</td>\n",
              "      <td>0</td>\n",
              "      <td>0</td>\n",
              "      <td>...</td>\n",
              "      <td>17.897858</td>\n",
              "      <td>320.333333</td>\n",
              "      <td>0</td>\n",
              "      <td>0</td>\n",
              "      <td>1</td>\n",
              "      <td>0</td>\n",
              "      <td>0</td>\n",
              "      <td>1</td>\n",
              "      <td>0</td>\n",
              "      <td>0</td>\n",
              "      <td>0.0</td>\n",
              "      <td>31.000000</td>\n",
              "      <td>15.500000</td>\n",
              "      <td>0.000000</td>\n",
              "      <td>40</td>\n",
              "      <td>0</td>\n",
              "      <td>0</td>\n",
              "      <td>0</td>\n",
              "      <td>0</td>\n",
              "      <td>0</td>\n",
              "      <td>0</td>\n",
              "      <td>2</td>\n",
              "      <td>31</td>\n",
              "      <td>0</td>\n",
              "      <td>0</td>\n",
              "      <td>255</td>\n",
              "      <td>-1</td>\n",
              "      <td>0</td>\n",
              "      <td>20</td>\n",
              "      <td>0.0</td>\n",
              "      <td>0.000000</td>\n",
              "      <td>0.0</td>\n",
              "      <td>0.0</td>\n",
              "      <td>0.0</td>\n",
              "      <td>0.000000</td>\n",
              "      <td>0.0</td>\n",
              "      <td>0.0</td>\n",
              "      <td>0</td>\n",
              "      <td>0</td>\n",
              "      <td>BENIGN</td>\n",
              "    </tr>\n",
              "    <tr>\n",
              "      <th>1</th>\n",
              "      <td>172.217.10.18-192.168.50.7-443-52305-6</td>\n",
              "      <td>192.168.50.7</td>\n",
              "      <td>52305</td>\n",
              "      <td>172.217.10.18</td>\n",
              "      <td>443</td>\n",
              "      <td>6</td>\n",
              "      <td>2018-12-01 13:20:12.667595</td>\n",
              "      <td>117322669</td>\n",
              "      <td>34</td>\n",
              "      <td>29</td>\n",
              "      <td>2518.0</td>\n",
              "      <td>7222.0</td>\n",
              "      <td>517.0</td>\n",
              "      <td>0.0</td>\n",
              "      <td>74.058824</td>\n",
              "      <td>136.943904</td>\n",
              "      <td>2705.0</td>\n",
              "      <td>0.0</td>\n",
              "      <td>249.034483</td>\n",
              "      <td>583.630600</td>\n",
              "      <td>8.301891e+01</td>\n",
              "      <td>5.369806e-01</td>\n",
              "      <td>1.892301e+06</td>\n",
              "      <td>1.039341e+07</td>\n",
              "      <td>58621056.0</td>\n",
              "      <td>1.0</td>\n",
              "      <td>117322669.0</td>\n",
              "      <td>3.555232e+06</td>\n",
              "      <td>1.414518e+07</td>\n",
              "      <td>58693130.0</td>\n",
              "      <td>1.0</td>\n",
              "      <td>117235616.0</td>\n",
              "      <td>4.186986e+06</td>\n",
              "      <td>1.531565e+07</td>\n",
              "      <td>58653435.0</td>\n",
              "      <td>2.0</td>\n",
              "      <td>0</td>\n",
              "      <td>0</td>\n",
              "      <td>0</td>\n",
              "      <td>0</td>\n",
              "      <td>...</td>\n",
              "      <td>411.328891</td>\n",
              "      <td>169191.456349</td>\n",
              "      <td>0</td>\n",
              "      <td>0</td>\n",
              "      <td>0</td>\n",
              "      <td>0</td>\n",
              "      <td>1</td>\n",
              "      <td>0</td>\n",
              "      <td>0</td>\n",
              "      <td>0</td>\n",
              "      <td>0.0</td>\n",
              "      <td>154.603175</td>\n",
              "      <td>74.058824</td>\n",
              "      <td>249.034483</td>\n",
              "      <td>704</td>\n",
              "      <td>0</td>\n",
              "      <td>0</td>\n",
              "      <td>0</td>\n",
              "      <td>0</td>\n",
              "      <td>0</td>\n",
              "      <td>0</td>\n",
              "      <td>34</td>\n",
              "      <td>2518</td>\n",
              "      <td>29</td>\n",
              "      <td>7222</td>\n",
              "      <td>64240</td>\n",
              "      <td>250</td>\n",
              "      <td>16</td>\n",
              "      <td>20</td>\n",
              "      <td>264804.0</td>\n",
              "      <td>264416.923970</td>\n",
              "      <td>451775.0</td>\n",
              "      <td>77833.0</td>\n",
              "      <td>58357612.0</td>\n",
              "      <td>372566.077726</td>\n",
              "      <td>58621056.0</td>\n",
              "      <td>58094168.0</td>\n",
              "      <td>0</td>\n",
              "      <td>0</td>\n",
              "      <td>BENIGN</td>\n",
              "    </tr>\n",
              "    <tr>\n",
              "      <th>2</th>\n",
              "      <td>192.168.50.7-4.2.2.4-58824-53-17</td>\n",
              "      <td>192.168.50.7</td>\n",
              "      <td>58824</td>\n",
              "      <td>4.2.2.4</td>\n",
              "      <td>53</td>\n",
              "      <td>17</td>\n",
              "      <td>2018-12-01 13:20:12.666543</td>\n",
              "      <td>20910</td>\n",
              "      <td>2</td>\n",
              "      <td>2</td>\n",
              "      <td>180.0</td>\n",
              "      <td>212.0</td>\n",
              "      <td>90.0</td>\n",
              "      <td>90.0</td>\n",
              "      <td>90.000000</td>\n",
              "      <td>0.000000</td>\n",
              "      <td>106.0</td>\n",
              "      <td>106.0</td>\n",
              "      <td>106.000000</td>\n",
              "      <td>0.000000</td>\n",
              "      <td>1.874701e+04</td>\n",
              "      <td>1.912960e+02</td>\n",
              "      <td>6.970000e+03</td>\n",
              "      <td>1.206720e+04</td>\n",
              "      <td>20904.0</td>\n",
              "      <td>3.0</td>\n",
              "      <td>3.0</td>\n",
              "      <td>3.000000e+00</td>\n",
              "      <td>0.000000e+00</td>\n",
              "      <td>3.0</td>\n",
              "      <td>3.0</td>\n",
              "      <td>3.0</td>\n",
              "      <td>3.000000e+00</td>\n",
              "      <td>0.000000e+00</td>\n",
              "      <td>3.0</td>\n",
              "      <td>3.0</td>\n",
              "      <td>0</td>\n",
              "      <td>0</td>\n",
              "      <td>0</td>\n",
              "      <td>0</td>\n",
              "      <td>...</td>\n",
              "      <td>8.763561</td>\n",
              "      <td>76.800000</td>\n",
              "      <td>0</td>\n",
              "      <td>0</td>\n",
              "      <td>0</td>\n",
              "      <td>0</td>\n",
              "      <td>0</td>\n",
              "      <td>0</td>\n",
              "      <td>0</td>\n",
              "      <td>0</td>\n",
              "      <td>1.0</td>\n",
              "      <td>120.500000</td>\n",
              "      <td>90.000000</td>\n",
              "      <td>106.000000</td>\n",
              "      <td>64</td>\n",
              "      <td>0</td>\n",
              "      <td>0</td>\n",
              "      <td>0</td>\n",
              "      <td>0</td>\n",
              "      <td>0</td>\n",
              "      <td>0</td>\n",
              "      <td>2</td>\n",
              "      <td>180</td>\n",
              "      <td>2</td>\n",
              "      <td>212</td>\n",
              "      <td>-1</td>\n",
              "      <td>-1</td>\n",
              "      <td>1</td>\n",
              "      <td>32</td>\n",
              "      <td>0.0</td>\n",
              "      <td>0.000000</td>\n",
              "      <td>0.0</td>\n",
              "      <td>0.0</td>\n",
              "      <td>0.0</td>\n",
              "      <td>0.000000</td>\n",
              "      <td>0.0</td>\n",
              "      <td>0.0</td>\n",
              "      <td>0</td>\n",
              "      <td>0</td>\n",
              "      <td>BENIGN</td>\n",
              "    </tr>\n",
              "    <tr>\n",
              "      <th>3</th>\n",
              "      <td>192.168.50.7-216.58.219.210-52304-443-6</td>\n",
              "      <td>192.168.50.7</td>\n",
              "      <td>52304</td>\n",
              "      <td>216.58.219.210</td>\n",
              "      <td>443</td>\n",
              "      <td>6</td>\n",
              "      <td>2018-12-01 13:20:12.665971</td>\n",
              "      <td>117324294</td>\n",
              "      <td>34</td>\n",
              "      <td>29</td>\n",
              "      <td>2520.0</td>\n",
              "      <td>7222.0</td>\n",
              "      <td>517.0</td>\n",
              "      <td>0.0</td>\n",
              "      <td>74.117647</td>\n",
              "      <td>137.042299</td>\n",
              "      <td>2705.0</td>\n",
              "      <td>0.0</td>\n",
              "      <td>249.034483</td>\n",
              "      <td>583.756155</td>\n",
              "      <td>8.303481e+01</td>\n",
              "      <td>5.369732e-01</td>\n",
              "      <td>1.892327e+06</td>\n",
              "      <td>1.040847e+07</td>\n",
              "      <td>58784203.0</td>\n",
              "      <td>1.0</td>\n",
              "      <td>117324294.0</td>\n",
              "      <td>3.555282e+06</td>\n",
              "      <td>1.416646e+07</td>\n",
              "      <td>58857481.0</td>\n",
              "      <td>1.0</td>\n",
              "      <td>117238043.0</td>\n",
              "      <td>4.187073e+06</td>\n",
              "      <td>1.533874e+07</td>\n",
              "      <td>58816720.0</td>\n",
              "      <td>2.0</td>\n",
              "      <td>0</td>\n",
              "      <td>0</td>\n",
              "      <td>0</td>\n",
              "      <td>0</td>\n",
              "      <td>...</td>\n",
              "      <td>411.419203</td>\n",
              "      <td>169265.760913</td>\n",
              "      <td>0</td>\n",
              "      <td>0</td>\n",
              "      <td>0</td>\n",
              "      <td>0</td>\n",
              "      <td>1</td>\n",
              "      <td>0</td>\n",
              "      <td>0</td>\n",
              "      <td>0</td>\n",
              "      <td>0.0</td>\n",
              "      <td>154.634921</td>\n",
              "      <td>74.117647</td>\n",
              "      <td>249.034483</td>\n",
              "      <td>704</td>\n",
              "      <td>0</td>\n",
              "      <td>0</td>\n",
              "      <td>0</td>\n",
              "      <td>0</td>\n",
              "      <td>0</td>\n",
              "      <td>0</td>\n",
              "      <td>34</td>\n",
              "      <td>2520</td>\n",
              "      <td>29</td>\n",
              "      <td>7222</td>\n",
              "      <td>64240</td>\n",
              "      <td>250</td>\n",
              "      <td>16</td>\n",
              "      <td>20</td>\n",
              "      <td>184056.5</td>\n",
              "      <td>150177.459509</td>\n",
              "      <td>290248.0</td>\n",
              "      <td>77865.0</td>\n",
              "      <td>58439170.0</td>\n",
              "      <td>487950.348066</td>\n",
              "      <td>58784203.0</td>\n",
              "      <td>58094137.0</td>\n",
              "      <td>0</td>\n",
              "      <td>0</td>\n",
              "      <td>BENIGN</td>\n",
              "    </tr>\n",
              "    <tr>\n",
              "      <th>4</th>\n",
              "      <td>192.168.50.7-8.8.8.8-65247-53-17</td>\n",
              "      <td>192.168.50.7</td>\n",
              "      <td>65247</td>\n",
              "      <td>8.8.8.8</td>\n",
              "      <td>53</td>\n",
              "      <td>17</td>\n",
              "      <td>2018-12-01 13:20:12.659341</td>\n",
              "      <td>46150</td>\n",
              "      <td>2</td>\n",
              "      <td>2</td>\n",
              "      <td>180.0</td>\n",
              "      <td>212.0</td>\n",
              "      <td>90.0</td>\n",
              "      <td>90.0</td>\n",
              "      <td>90.000000</td>\n",
              "      <td>0.000000</td>\n",
              "      <td>106.0</td>\n",
              "      <td>106.0</td>\n",
              "      <td>106.000000</td>\n",
              "      <td>0.000000</td>\n",
              "      <td>8.494041e+03</td>\n",
              "      <td>8.667389e+01</td>\n",
              "      <td>1.538333e+04</td>\n",
              "      <td>2.663952e+04</td>\n",
              "      <td>46144.0</td>\n",
              "      <td>3.0</td>\n",
              "      <td>3.0</td>\n",
              "      <td>3.000000e+00</td>\n",
              "      <td>0.000000e+00</td>\n",
              "      <td>3.0</td>\n",
              "      <td>3.0</td>\n",
              "      <td>3.0</td>\n",
              "      <td>3.000000e+00</td>\n",
              "      <td>0.000000e+00</td>\n",
              "      <td>3.0</td>\n",
              "      <td>3.0</td>\n",
              "      <td>0</td>\n",
              "      <td>0</td>\n",
              "      <td>0</td>\n",
              "      <td>0</td>\n",
              "      <td>...</td>\n",
              "      <td>8.763561</td>\n",
              "      <td>76.800000</td>\n",
              "      <td>0</td>\n",
              "      <td>0</td>\n",
              "      <td>0</td>\n",
              "      <td>0</td>\n",
              "      <td>0</td>\n",
              "      <td>0</td>\n",
              "      <td>0</td>\n",
              "      <td>0</td>\n",
              "      <td>1.0</td>\n",
              "      <td>120.500000</td>\n",
              "      <td>90.000000</td>\n",
              "      <td>106.000000</td>\n",
              "      <td>64</td>\n",
              "      <td>0</td>\n",
              "      <td>0</td>\n",
              "      <td>0</td>\n",
              "      <td>0</td>\n",
              "      <td>0</td>\n",
              "      <td>0</td>\n",
              "      <td>2</td>\n",
              "      <td>180</td>\n",
              "      <td>2</td>\n",
              "      <td>212</td>\n",
              "      <td>-1</td>\n",
              "      <td>-1</td>\n",
              "      <td>1</td>\n",
              "      <td>32</td>\n",
              "      <td>0.0</td>\n",
              "      <td>0.000000</td>\n",
              "      <td>0.0</td>\n",
              "      <td>0.0</td>\n",
              "      <td>0.0</td>\n",
              "      <td>0.000000</td>\n",
              "      <td>0.0</td>\n",
              "      <td>0.0</td>\n",
              "      <td>0</td>\n",
              "      <td>0</td>\n",
              "      <td>BENIGN</td>\n",
              "    </tr>\n",
              "    <tr>\n",
              "      <th>...</th>\n",
              "      <td>...</td>\n",
              "      <td>...</td>\n",
              "      <td>...</td>\n",
              "      <td>...</td>\n",
              "      <td>...</td>\n",
              "      <td>...</td>\n",
              "      <td>...</td>\n",
              "      <td>...</td>\n",
              "      <td>...</td>\n",
              "      <td>...</td>\n",
              "      <td>...</td>\n",
              "      <td>...</td>\n",
              "      <td>...</td>\n",
              "      <td>...</td>\n",
              "      <td>...</td>\n",
              "      <td>...</td>\n",
              "      <td>...</td>\n",
              "      <td>...</td>\n",
              "      <td>...</td>\n",
              "      <td>...</td>\n",
              "      <td>...</td>\n",
              "      <td>...</td>\n",
              "      <td>...</td>\n",
              "      <td>...</td>\n",
              "      <td>...</td>\n",
              "      <td>...</td>\n",
              "      <td>...</td>\n",
              "      <td>...</td>\n",
              "      <td>...</td>\n",
              "      <td>...</td>\n",
              "      <td>...</td>\n",
              "      <td>...</td>\n",
              "      <td>...</td>\n",
              "      <td>...</td>\n",
              "      <td>...</td>\n",
              "      <td>...</td>\n",
              "      <td>...</td>\n",
              "      <td>...</td>\n",
              "      <td>...</td>\n",
              "      <td>...</td>\n",
              "      <td>...</td>\n",
              "      <td>...</td>\n",
              "      <td>...</td>\n",
              "      <td>...</td>\n",
              "      <td>...</td>\n",
              "      <td>...</td>\n",
              "      <td>...</td>\n",
              "      <td>...</td>\n",
              "      <td>...</td>\n",
              "      <td>...</td>\n",
              "      <td>...</td>\n",
              "      <td>...</td>\n",
              "      <td>...</td>\n",
              "      <td>...</td>\n",
              "      <td>...</td>\n",
              "      <td>...</td>\n",
              "      <td>...</td>\n",
              "      <td>...</td>\n",
              "      <td>...</td>\n",
              "      <td>...</td>\n",
              "      <td>...</td>\n",
              "      <td>...</td>\n",
              "      <td>...</td>\n",
              "      <td>...</td>\n",
              "      <td>...</td>\n",
              "      <td>...</td>\n",
              "      <td>...</td>\n",
              "      <td>...</td>\n",
              "      <td>...</td>\n",
              "      <td>...</td>\n",
              "      <td>...</td>\n",
              "      <td>...</td>\n",
              "      <td>...</td>\n",
              "      <td>...</td>\n",
              "      <td>...</td>\n",
              "      <td>...</td>\n",
              "      <td>...</td>\n",
              "      <td>...</td>\n",
              "      <td>...</td>\n",
              "      <td>...</td>\n",
              "      <td>...</td>\n",
              "    </tr>\n",
              "    <tr>\n",
              "      <th>1029895</th>\n",
              "      <td>172.16.0.5-192.168.50.1-51153-63811-17</td>\n",
              "      <td>172.16.0.5</td>\n",
              "      <td>51153</td>\n",
              "      <td>192.168.50.1</td>\n",
              "      <td>63811</td>\n",
              "      <td>17</td>\n",
              "      <td>2018-12-01 12:58:27.178844</td>\n",
              "      <td>105703</td>\n",
              "      <td>4</td>\n",
              "      <td>0</td>\n",
              "      <td>1398.0</td>\n",
              "      <td>0.0</td>\n",
              "      <td>369.0</td>\n",
              "      <td>330.0</td>\n",
              "      <td>349.500000</td>\n",
              "      <td>22.516660</td>\n",
              "      <td>0.0</td>\n",
              "      <td>0.0</td>\n",
              "      <td>0.000000</td>\n",
              "      <td>0.000000</td>\n",
              "      <td>1.322574e+04</td>\n",
              "      <td>3.784188e+01</td>\n",
              "      <td>3.523433e+04</td>\n",
              "      <td>6.102592e+04</td>\n",
              "      <td>105701.0</td>\n",
              "      <td>1.0</td>\n",
              "      <td>105703.0</td>\n",
              "      <td>3.523433e+04</td>\n",
              "      <td>6.102592e+04</td>\n",
              "      <td>105701.0</td>\n",
              "      <td>1.0</td>\n",
              "      <td>0.0</td>\n",
              "      <td>0.000000e+00</td>\n",
              "      <td>0.000000e+00</td>\n",
              "      <td>0.0</td>\n",
              "      <td>0.0</td>\n",
              "      <td>0</td>\n",
              "      <td>0</td>\n",
              "      <td>0</td>\n",
              "      <td>0</td>\n",
              "      <td>...</td>\n",
              "      <td>21.361180</td>\n",
              "      <td>456.300000</td>\n",
              "      <td>0</td>\n",
              "      <td>0</td>\n",
              "      <td>0</td>\n",
              "      <td>0</td>\n",
              "      <td>0</td>\n",
              "      <td>0</td>\n",
              "      <td>0</td>\n",
              "      <td>0</td>\n",
              "      <td>0.0</td>\n",
              "      <td>432.000000</td>\n",
              "      <td>349.500000</td>\n",
              "      <td>0.000000</td>\n",
              "      <td>64</td>\n",
              "      <td>0</td>\n",
              "      <td>0</td>\n",
              "      <td>0</td>\n",
              "      <td>0</td>\n",
              "      <td>0</td>\n",
              "      <td>0</td>\n",
              "      <td>4</td>\n",
              "      <td>1398</td>\n",
              "      <td>0</td>\n",
              "      <td>0</td>\n",
              "      <td>-1</td>\n",
              "      <td>-1</td>\n",
              "      <td>3</td>\n",
              "      <td>0</td>\n",
              "      <td>0.0</td>\n",
              "      <td>0.000000</td>\n",
              "      <td>0.0</td>\n",
              "      <td>0.0</td>\n",
              "      <td>0.0</td>\n",
              "      <td>0.000000</td>\n",
              "      <td>0.0</td>\n",
              "      <td>0.0</td>\n",
              "      <td>0</td>\n",
              "      <td>1</td>\n",
              "      <td>DrDoS_UDP</td>\n",
              "    </tr>\n",
              "    <tr>\n",
              "      <th>1029896</th>\n",
              "      <td>172.16.0.5-192.168.50.1-42303-55239-17</td>\n",
              "      <td>172.16.0.5</td>\n",
              "      <td>42303</td>\n",
              "      <td>192.168.50.1</td>\n",
              "      <td>55239</td>\n",
              "      <td>17</td>\n",
              "      <td>2018-12-01 12:58:27.178972</td>\n",
              "      <td>108342</td>\n",
              "      <td>4</td>\n",
              "      <td>0</td>\n",
              "      <td>1398.0</td>\n",
              "      <td>0.0</td>\n",
              "      <td>369.0</td>\n",
              "      <td>330.0</td>\n",
              "      <td>349.500000</td>\n",
              "      <td>22.516660</td>\n",
              "      <td>0.0</td>\n",
              "      <td>0.0</td>\n",
              "      <td>0.000000</td>\n",
              "      <td>0.000000</td>\n",
              "      <td>1.290358e+04</td>\n",
              "      <td>3.692012e+01</td>\n",
              "      <td>3.611400e+04</td>\n",
              "      <td>6.254955e+04</td>\n",
              "      <td>108340.0</td>\n",
              "      <td>1.0</td>\n",
              "      <td>108342.0</td>\n",
              "      <td>3.611400e+04</td>\n",
              "      <td>6.254955e+04</td>\n",
              "      <td>108340.0</td>\n",
              "      <td>1.0</td>\n",
              "      <td>0.0</td>\n",
              "      <td>0.000000e+00</td>\n",
              "      <td>0.000000e+00</td>\n",
              "      <td>0.0</td>\n",
              "      <td>0.0</td>\n",
              "      <td>0</td>\n",
              "      <td>0</td>\n",
              "      <td>0</td>\n",
              "      <td>0</td>\n",
              "      <td>...</td>\n",
              "      <td>21.361180</td>\n",
              "      <td>456.300000</td>\n",
              "      <td>0</td>\n",
              "      <td>0</td>\n",
              "      <td>0</td>\n",
              "      <td>0</td>\n",
              "      <td>0</td>\n",
              "      <td>0</td>\n",
              "      <td>0</td>\n",
              "      <td>0</td>\n",
              "      <td>0.0</td>\n",
              "      <td>432.000000</td>\n",
              "      <td>349.500000</td>\n",
              "      <td>0.000000</td>\n",
              "      <td>802</td>\n",
              "      <td>0</td>\n",
              "      <td>0</td>\n",
              "      <td>0</td>\n",
              "      <td>0</td>\n",
              "      <td>0</td>\n",
              "      <td>0</td>\n",
              "      <td>4</td>\n",
              "      <td>1398</td>\n",
              "      <td>0</td>\n",
              "      <td>0</td>\n",
              "      <td>-1</td>\n",
              "      <td>-1</td>\n",
              "      <td>3</td>\n",
              "      <td>0</td>\n",
              "      <td>0.0</td>\n",
              "      <td>0.000000</td>\n",
              "      <td>0.0</td>\n",
              "      <td>0.0</td>\n",
              "      <td>0.0</td>\n",
              "      <td>0.000000</td>\n",
              "      <td>0.0</td>\n",
              "      <td>0.0</td>\n",
              "      <td>0</td>\n",
              "      <td>1</td>\n",
              "      <td>DrDoS_UDP</td>\n",
              "    </tr>\n",
              "    <tr>\n",
              "      <th>1029897</th>\n",
              "      <td>172.16.0.5-192.168.50.1-55951-24022-17</td>\n",
              "      <td>172.16.0.5</td>\n",
              "      <td>55951</td>\n",
              "      <td>192.168.50.1</td>\n",
              "      <td>24022</td>\n",
              "      <td>17</td>\n",
              "      <td>2018-12-01 12:58:27.179685</td>\n",
              "      <td>46</td>\n",
              "      <td>2</td>\n",
              "      <td>0</td>\n",
              "      <td>766.0</td>\n",
              "      <td>0.0</td>\n",
              "      <td>383.0</td>\n",
              "      <td>383.0</td>\n",
              "      <td>383.000000</td>\n",
              "      <td>0.000000</td>\n",
              "      <td>0.0</td>\n",
              "      <td>0.0</td>\n",
              "      <td>0.000000</td>\n",
              "      <td>0.000000</td>\n",
              "      <td>1.665217e+07</td>\n",
              "      <td>4.347826e+04</td>\n",
              "      <td>4.600000e+01</td>\n",
              "      <td>0.000000e+00</td>\n",
              "      <td>46.0</td>\n",
              "      <td>46.0</td>\n",
              "      <td>46.0</td>\n",
              "      <td>4.600000e+01</td>\n",
              "      <td>0.000000e+00</td>\n",
              "      <td>46.0</td>\n",
              "      <td>46.0</td>\n",
              "      <td>0.0</td>\n",
              "      <td>0.000000e+00</td>\n",
              "      <td>0.000000e+00</td>\n",
              "      <td>0.0</td>\n",
              "      <td>0.0</td>\n",
              "      <td>0</td>\n",
              "      <td>0</td>\n",
              "      <td>0</td>\n",
              "      <td>0</td>\n",
              "      <td>...</td>\n",
              "      <td>0.000000</td>\n",
              "      <td>0.000000</td>\n",
              "      <td>0</td>\n",
              "      <td>0</td>\n",
              "      <td>0</td>\n",
              "      <td>0</td>\n",
              "      <td>0</td>\n",
              "      <td>0</td>\n",
              "      <td>0</td>\n",
              "      <td>0</td>\n",
              "      <td>0.0</td>\n",
              "      <td>574.500000</td>\n",
              "      <td>383.000000</td>\n",
              "      <td>0.000000</td>\n",
              "      <td>0</td>\n",
              "      <td>0</td>\n",
              "      <td>0</td>\n",
              "      <td>0</td>\n",
              "      <td>0</td>\n",
              "      <td>0</td>\n",
              "      <td>0</td>\n",
              "      <td>2</td>\n",
              "      <td>766</td>\n",
              "      <td>0</td>\n",
              "      <td>0</td>\n",
              "      <td>-1</td>\n",
              "      <td>-1</td>\n",
              "      <td>1</td>\n",
              "      <td>0</td>\n",
              "      <td>0.0</td>\n",
              "      <td>0.000000</td>\n",
              "      <td>0.0</td>\n",
              "      <td>0.0</td>\n",
              "      <td>0.0</td>\n",
              "      <td>0.000000</td>\n",
              "      <td>0.0</td>\n",
              "      <td>0.0</td>\n",
              "      <td>0</td>\n",
              "      <td>1</td>\n",
              "      <td>DrDoS_UDP</td>\n",
              "    </tr>\n",
              "    <tr>\n",
              "      <th>1029898</th>\n",
              "      <td>172.16.0.5-192.168.50.1-42513-18039-17</td>\n",
              "      <td>172.16.0.5</td>\n",
              "      <td>42513</td>\n",
              "      <td>192.168.50.1</td>\n",
              "      <td>18039</td>\n",
              "      <td>17</td>\n",
              "      <td>2018-12-01 12:58:27.177832</td>\n",
              "      <td>1</td>\n",
              "      <td>2</td>\n",
              "      <td>0</td>\n",
              "      <td>766.0</td>\n",
              "      <td>0.0</td>\n",
              "      <td>383.0</td>\n",
              "      <td>383.0</td>\n",
              "      <td>383.000000</td>\n",
              "      <td>0.000000</td>\n",
              "      <td>0.0</td>\n",
              "      <td>0.0</td>\n",
              "      <td>0.000000</td>\n",
              "      <td>0.000000</td>\n",
              "      <td>7.660000e+08</td>\n",
              "      <td>2.000000e+06</td>\n",
              "      <td>1.000000e+00</td>\n",
              "      <td>0.000000e+00</td>\n",
              "      <td>1.0</td>\n",
              "      <td>1.0</td>\n",
              "      <td>1.0</td>\n",
              "      <td>1.000000e+00</td>\n",
              "      <td>0.000000e+00</td>\n",
              "      <td>1.0</td>\n",
              "      <td>1.0</td>\n",
              "      <td>0.0</td>\n",
              "      <td>0.000000e+00</td>\n",
              "      <td>0.000000e+00</td>\n",
              "      <td>0.0</td>\n",
              "      <td>0.0</td>\n",
              "      <td>0</td>\n",
              "      <td>0</td>\n",
              "      <td>0</td>\n",
              "      <td>0</td>\n",
              "      <td>...</td>\n",
              "      <td>0.000000</td>\n",
              "      <td>0.000000</td>\n",
              "      <td>0</td>\n",
              "      <td>0</td>\n",
              "      <td>0</td>\n",
              "      <td>0</td>\n",
              "      <td>0</td>\n",
              "      <td>0</td>\n",
              "      <td>0</td>\n",
              "      <td>0</td>\n",
              "      <td>0.0</td>\n",
              "      <td>574.500000</td>\n",
              "      <td>383.000000</td>\n",
              "      <td>0.000000</td>\n",
              "      <td>0</td>\n",
              "      <td>0</td>\n",
              "      <td>0</td>\n",
              "      <td>0</td>\n",
              "      <td>0</td>\n",
              "      <td>0</td>\n",
              "      <td>0</td>\n",
              "      <td>2</td>\n",
              "      <td>766</td>\n",
              "      <td>0</td>\n",
              "      <td>0</td>\n",
              "      <td>-1</td>\n",
              "      <td>-1</td>\n",
              "      <td>1</td>\n",
              "      <td>0</td>\n",
              "      <td>0.0</td>\n",
              "      <td>0.000000</td>\n",
              "      <td>0.0</td>\n",
              "      <td>0.0</td>\n",
              "      <td>0.0</td>\n",
              "      <td>0.000000</td>\n",
              "      <td>0.0</td>\n",
              "      <td>0.0</td>\n",
              "      <td>0</td>\n",
              "      <td>1</td>\n",
              "      <td>DrDoS_UDP</td>\n",
              "    </tr>\n",
              "    <tr>\n",
              "      <th>1029899</th>\n",
              "      <td>172.16.0.5-192.168.50.1-53125-65428-17</td>\n",
              "      <td>172.16.0.5</td>\n",
              "      <td>53125</td>\n",
              "      <td>192.168.50.1</td>\n",
              "      <td>65428</td>\n",
              "      <td>17</td>\n",
              "      <td>2018-12-01 13:04:45.928382</td>\n",
              "      <td>1</td>\n",
              "      <td>2</td>\n",
              "      <td>0</td>\n",
              "      <td>750.0</td>\n",
              "      <td>0.0</td>\n",
              "      <td>375.0</td>\n",
              "      <td>375.0</td>\n",
              "      <td>375.000000</td>\n",
              "      <td>0.000000</td>\n",
              "      <td>0.0</td>\n",
              "      <td>0.0</td>\n",
              "      <td>0.000000</td>\n",
              "      <td>0.000000</td>\n",
              "      <td>7.500000e+08</td>\n",
              "      <td>2.000000e+06</td>\n",
              "      <td>1.000000e+00</td>\n",
              "      <td>0.000000e+00</td>\n",
              "      <td>1.0</td>\n",
              "      <td>1.0</td>\n",
              "      <td>1.0</td>\n",
              "      <td>1.000000e+00</td>\n",
              "      <td>0.000000e+00</td>\n",
              "      <td>1.0</td>\n",
              "      <td>1.0</td>\n",
              "      <td>0.0</td>\n",
              "      <td>0.000000e+00</td>\n",
              "      <td>0.000000e+00</td>\n",
              "      <td>0.0</td>\n",
              "      <td>0.0</td>\n",
              "      <td>0</td>\n",
              "      <td>0</td>\n",
              "      <td>0</td>\n",
              "      <td>0</td>\n",
              "      <td>...</td>\n",
              "      <td>0.000000</td>\n",
              "      <td>0.000000</td>\n",
              "      <td>0</td>\n",
              "      <td>0</td>\n",
              "      <td>0</td>\n",
              "      <td>0</td>\n",
              "      <td>0</td>\n",
              "      <td>0</td>\n",
              "      <td>0</td>\n",
              "      <td>0</td>\n",
              "      <td>0.0</td>\n",
              "      <td>562.500000</td>\n",
              "      <td>375.000000</td>\n",
              "      <td>0.000000</td>\n",
              "      <td>40</td>\n",
              "      <td>0</td>\n",
              "      <td>0</td>\n",
              "      <td>0</td>\n",
              "      <td>0</td>\n",
              "      <td>0</td>\n",
              "      <td>0</td>\n",
              "      <td>2</td>\n",
              "      <td>750</td>\n",
              "      <td>0</td>\n",
              "      <td>0</td>\n",
              "      <td>-1</td>\n",
              "      <td>-1</td>\n",
              "      <td>1</td>\n",
              "      <td>20</td>\n",
              "      <td>0.0</td>\n",
              "      <td>0.000000</td>\n",
              "      <td>0.0</td>\n",
              "      <td>0.0</td>\n",
              "      <td>0.0</td>\n",
              "      <td>0.000000</td>\n",
              "      <td>0.0</td>\n",
              "      <td>0.0</td>\n",
              "      <td>0</td>\n",
              "      <td>1</td>\n",
              "      <td>DrDoS_UDP</td>\n",
              "    </tr>\n",
              "  </tbody>\n",
              "</table>\n",
              "<p>1029900 rows × 87 columns</p>\n",
              "</div>"
            ],
            "text/plain": [
              "                                         Flow ID  ...      Label\n",
              "0         192.168.50.7-54.192.49.191-52243-443-6  ...     BENIGN\n",
              "1         172.217.10.18-192.168.50.7-443-52305-6  ...     BENIGN\n",
              "2               192.168.50.7-4.2.2.4-58824-53-17  ...     BENIGN\n",
              "3        192.168.50.7-216.58.219.210-52304-443-6  ...     BENIGN\n",
              "4               192.168.50.7-8.8.8.8-65247-53-17  ...     BENIGN\n",
              "...                                          ...  ...        ...\n",
              "1029895   172.16.0.5-192.168.50.1-51153-63811-17  ...  DrDoS_UDP\n",
              "1029896   172.16.0.5-192.168.50.1-42303-55239-17  ...  DrDoS_UDP\n",
              "1029897   172.16.0.5-192.168.50.1-55951-24022-17  ...  DrDoS_UDP\n",
              "1029898   172.16.0.5-192.168.50.1-42513-18039-17  ...  DrDoS_UDP\n",
              "1029899   172.16.0.5-192.168.50.1-53125-65428-17  ...  DrDoS_UDP\n",
              "\n",
              "[1029900 rows x 87 columns]"
            ]
          },
          "metadata": {},
          "execution_count": 7
        }
      ],
      "source": [
        "df"
      ],
      "id": "67a6a928"
    },
    {
      "cell_type": "code",
      "execution_count": null,
      "metadata": {
        "colab": {
          "base_uri": "https://localhost:8080/"
        },
        "id": "184dc790",
        "outputId": "ea11f7c2-f175-45b3-b4d0-a2940baaca27"
      },
      "outputs": [
        {
          "output_type": "execute_result",
          "data": {
            "text/plain": [
              "Flow ID               object\n",
              " Source IP            object\n",
              " Source Port           int64\n",
              " Destination IP       object\n",
              " Destination Port      int64\n",
              "                      ...   \n",
              " Idle Max            float64\n",
              " Idle Min            float64\n",
              "SimillarHTTP          object\n",
              " Inbound               int64\n",
              " Label                object\n",
              "Length: 87, dtype: object"
            ]
          },
          "metadata": {},
          "execution_count": 8
        }
      ],
      "source": [
        "df.dtypes"
      ],
      "id": "184dc790"
    },
    {
      "cell_type": "markdown",
      "metadata": {
        "id": "7c6028da"
      },
      "source": [
        "## Data Preprocessing"
      ],
      "id": "7c6028da"
    },
    {
      "cell_type": "markdown",
      "metadata": {
        "id": "d56dd42b"
      },
      "source": [
        "### Removing spaces from cols names"
      ],
      "id": "d56dd42b"
    },
    {
      "cell_type": "code",
      "execution_count": null,
      "metadata": {
        "id": "38db09d5"
      },
      "outputs": [],
      "source": [
        "df.columns = df.columns.str.replace(' ', '')"
      ],
      "id": "38db09d5"
    },
    {
      "cell_type": "markdown",
      "metadata": {
        "id": "35be273f"
      },
      "source": [
        "### Remove Nans and inf"
      ],
      "id": "35be273f"
    },
    {
      "cell_type": "code",
      "execution_count": null,
      "metadata": {
        "id": "0b0ea688"
      },
      "outputs": [],
      "source": [
        "df.replace([np.inf, -np.inf], np.nan, inplace=True)\n",
        "df = df.dropna(axis = 0)"
      ],
      "id": "0b0ea688"
    },
    {
      "cell_type": "code",
      "execution_count": null,
      "metadata": {
        "colab": {
          "base_uri": "https://localhost:8080/"
        },
        "id": "61950bd8",
        "outputId": "454d0e1a-edb0-4a0e-e6b9-40ba28b9136e"
      },
      "outputs": [
        {
          "output_type": "execute_result",
          "data": {
            "text/plain": [
              "(983484, 87)"
            ]
          },
          "metadata": {},
          "execution_count": 11
        }
      ],
      "source": [
        "df.shape"
      ],
      "id": "61950bd8"
    },
    {
      "cell_type": "markdown",
      "metadata": {
        "id": "aYdxDebdow92"
      },
      "source": [
        "### Encoding"
      ],
      "id": "aYdxDebdow92"
    },
    {
      "cell_type": "code",
      "execution_count": null,
      "metadata": {
        "id": "1fc72037"
      },
      "outputs": [],
      "source": [
        "le = preprocessing.LabelEncoder()\n",
        "df['Label'] = le.fit_transform(df.Label)"
      ],
      "id": "1fc72037"
    },
    {
      "cell_type": "markdown",
      "metadata": {
        "id": "NbiHK1flo3c8"
      },
      "source": [
        "### Feature Selection"
      ],
      "id": "NbiHK1flo3c8"
    },
    {
      "cell_type": "code",
      "execution_count": null,
      "metadata": {
        "colab": {
          "base_uri": "https://localhost:8080/"
        },
        "id": "9aYSCefcsQGC",
        "outputId": "1b23de95-310c-4b52-f6be-32492b627e40"
      },
      "outputs": [
        {
          "output_type": "stream",
          "name": "stdout",
          "text": [
            "SourcePort                 0.460805\n",
            "DestinationPort            0.069427\n",
            "Protocol                  -0.550438\n",
            "FlowDuration              -0.047752\n",
            "TotalFwdPackets           -0.012455\n",
            "TotalBackwardPackets      -0.037325\n",
            "TotalLengthofFwdPackets   -0.081963\n",
            "TotalLengthofBwdPackets   -0.014029\n",
            "FwdPacketLengthMax        -0.586635\n",
            "FwdPacketLengthMin        -0.570552\n",
            "FwdPacketLengthMean       -0.581529\n",
            "FwdPacketLengthStd        -0.030631\n",
            "BwdPacketLengthMax        -0.076706\n",
            "BwdPacketLengthMin        -0.160539\n",
            "BwdPacketLengthMean       -0.116955\n",
            "BwdPacketLengthStd        -0.087875\n",
            "FlowBytes/s               -0.549675\n",
            "FlowPackets/s             -0.064324\n",
            "FlowIATMean                0.086601\n",
            "FlowIATStd                 0.060021\n",
            "FlowIATMax                -0.003723\n",
            "FlowIATMin                -0.019485\n",
            "FwdIATTotal               -0.044797\n",
            "FwdIATMean                 0.072715\n",
            "FwdIATStd                  0.048681\n",
            "FwdIATMax                 -0.000359\n",
            "FwdIATMin                 -0.017038\n",
            "BwdIATTotal               -0.080235\n",
            "BwdIATMean                -0.069556\n",
            "BwdIATStd                 -0.073079\n",
            "dtype: float64\n"
          ]
        }
      ],
      "source": [
        "print(df.corrwith(df[\"Label\"])[0:30])"
      ],
      "id": "9aYSCefcsQGC"
    },
    {
      "cell_type": "code",
      "execution_count": null,
      "metadata": {
        "colab": {
          "base_uri": "https://localhost:8080/"
        },
        "id": "AU50ESL1s681",
        "outputId": "9e012a99-7f9e-4460-8b71-2fbfdd27d37d"
      },
      "outputs": [
        {
          "output_type": "stream",
          "name": "stdout",
          "text": [
            "BwdIATMax                 -0.073462\n",
            "BwdIATMin                  0.014253\n",
            "FwdPSHFlags               -0.110992\n",
            "BwdPSHFlags                     NaN\n",
            "FwdURGFlags                     NaN\n",
            "BwdURGFlags                     NaN\n",
            "FwdHeaderLength            0.010409\n",
            "BwdHeaderLength            0.019632\n",
            "FwdPackets/s              -0.064895\n",
            "BwdPackets/s               0.048869\n",
            "MinPacketLength           -0.570468\n",
            "MaxPacketLength           -0.571959\n",
            "PacketLengthMean          -0.585615\n",
            "PacketLengthStd           -0.075453\n",
            "PacketLengthVariance      -0.030225\n",
            "FINFlagCount                    NaN\n",
            "SYNFlagCount              -0.014365\n",
            "RSTFlagCount              -0.110992\n",
            "PSHFlagCount                    NaN\n",
            "ACKFlagCount               0.634567\n",
            "URGFlagCount              -0.202082\n",
            "CWEFlagCount              -0.137474\n",
            "ECEFlagCount                    NaN\n",
            "Down/UpRatio              -0.078469\n",
            "AveragePacketSize         -0.574306\n",
            "AvgFwdSegmentSize         -0.581529\n",
            "AvgBwdSegmentSize         -0.116955\n",
            "FwdHeaderLength.1          0.010409\n",
            "FwdAvgBytes/Bulk                NaN\n",
            "FwdAvgPackets/Bulk              NaN\n",
            "FwdAvgBulkRate                  NaN\n",
            "BwdAvgBytes/Bulk                NaN\n",
            "BwdAvgPackets/Bulk              NaN\n",
            "BwdAvgBulkRate                  NaN\n",
            "SubflowFwdPackets         -0.012455\n",
            "SubflowFwdBytes           -0.081963\n",
            "SubflowBwdPackets         -0.037325\n",
            "SubflowBwdBytes           -0.014029\n",
            "Init_Win_bytes_forward     0.269115\n",
            "Init_Win_bytes_backward   -0.095563\n",
            "act_data_pkt_fwd          -0.096351\n",
            "min_seg_size_forward       0.036882\n",
            "ActiveMean                -0.039274\n",
            "ActiveStd                 -0.035056\n",
            "ActiveMax                 -0.045495\n",
            "ActiveMin                 -0.033565\n",
            "IdleMean                   0.000595\n",
            "IdleStd                   -0.013858\n",
            "IdleMax                   -0.001503\n",
            "IdleMin                    0.002631\n",
            "Inbound                    0.284507\n",
            "Label                      1.000000\n",
            "dtype: float64\n"
          ]
        }
      ],
      "source": [
        "print(df.corrwith(df[\"Label\"])[30:])"
      ],
      "id": "AU50ESL1s681"
    },
    {
      "cell_type": "markdown",
      "metadata": {
        "id": "jhhb3xEzsOoQ"
      },
      "source": [
        "#### Removing unwanted data"
      ],
      "id": "jhhb3xEzsOoQ"
    },
    {
      "cell_type": "code",
      "execution_count": null,
      "metadata": {
        "id": "604c79ba"
      },
      "outputs": [],
      "source": [
        "df = df.drop(columns = ['FlowID', 'SourceIP', 'SourcePort','DestinationIP', 'DestinationPort', 'Protocol', 'Timestamp'])"
      ],
      "id": "604c79ba"
    },
    {
      "cell_type": "markdown",
      "metadata": {
        "id": "TnevrJt_sDsQ"
      },
      "source": [
        "#### Removing features with max values of zero and features with low correlations"
      ],
      "id": "TnevrJt_sDsQ"
    },
    {
      "cell_type": "code",
      "execution_count": null,
      "metadata": {
        "id": "239d9d33"
      },
      "outputs": [],
      "source": [
        "df = df.drop(columns = ['BwdPSHFlags', 'FwdURGFlags', 'BwdURGFlags', 'FINFlagCount', 'PSHFlagCount', 'ECEFlagCount', 'FwdAvgBytes/Bulk', 'FwdAvgPackets/Bulk', 'FwdAvgBulkRate', 'BwdAvgBytes/Bulk', 'BwdAvgPackets/Bulk', 'BwdAvgBulkRate'])"
      ],
      "id": "239d9d33"
    },
    {
      "cell_type": "code",
      "execution_count": null,
      "metadata": {
        "colab": {
          "base_uri": "https://localhost:8080/"
        },
        "id": "e317103b",
        "outputId": "573e354b-eade-4c53-9ed2-03dd6165a14c"
      },
      "outputs": [
        {
          "output_type": "execute_result",
          "data": {
            "text/plain": [
              "(983484, 68)"
            ]
          },
          "metadata": {},
          "execution_count": 17
        }
      ],
      "source": [
        "df.shape"
      ],
      "id": "e317103b"
    },
    {
      "cell_type": "markdown",
      "metadata": {
        "id": "hBRkLeN5o8JT"
      },
      "source": [
        "### Preparing X and y"
      ],
      "id": "hBRkLeN5o8JT"
    },
    {
      "cell_type": "code",
      "execution_count": null,
      "metadata": {
        "id": "4f93f52f"
      },
      "outputs": [],
      "source": [
        "y = df[\"Label\"] #labels\n",
        "X = df.drop(columns = ['Label'])"
      ],
      "id": "4f93f52f"
    },
    {
      "cell_type": "code",
      "execution_count": null,
      "metadata": {
        "id": "8ed5601a"
      },
      "outputs": [],
      "source": [
        "X = X.drop(columns = ['SimillarHTTP'])\n",
        "X = X.apply(pd.to_numeric)"
      ],
      "id": "8ed5601a"
    },
    {
      "cell_type": "code",
      "execution_count": null,
      "metadata": {
        "colab": {
          "base_uri": "https://localhost:8080/"
        },
        "id": "594sFQvpyHb1",
        "outputId": "c6f03135-af41-432a-c229-347b1f887684"
      },
      "outputs": [
        {
          "output_type": "execute_result",
          "data": {
            "text/plain": [
              "(983484, 66)"
            ]
          },
          "metadata": {},
          "execution_count": 20
        }
      ],
      "source": [
        "X.shape"
      ],
      "id": "594sFQvpyHb1"
    },
    {
      "cell_type": "markdown",
      "metadata": {
        "id": "85l0VJ18pKLt"
      },
      "source": [
        "### Saving X and y in csv files"
      ],
      "id": "85l0VJ18pKLt"
    },
    {
      "cell_type": "code",
      "execution_count": null,
      "metadata": {
        "id": "-lBNhq_Aa-9H"
      },
      "outputs": [],
      "source": [
        "X.to_csv('X_preprocessed.csv')"
      ],
      "id": "-lBNhq_Aa-9H"
    },
    {
      "cell_type": "code",
      "execution_count": null,
      "metadata": {
        "id": "jUAGALA6bJs3"
      },
      "outputs": [],
      "source": [
        "!cp X_preprocessed.csv \"/content/gdrive/MyDrive/AI_for_CS\""
      ],
      "id": "jUAGALA6bJs3"
    },
    {
      "cell_type": "code",
      "execution_count": null,
      "metadata": {
        "id": "MdIcWtYEbgTp"
      },
      "outputs": [],
      "source": [
        "y.to_csv('y_preprocessed.csv')"
      ],
      "id": "MdIcWtYEbgTp"
    },
    {
      "cell_type": "code",
      "execution_count": null,
      "metadata": {
        "id": "8wjqTqUmbl7b"
      },
      "outputs": [],
      "source": [
        "!cp y_preprocessed.csv \"/content/gdrive/MyDrive/AI_for_CS\""
      ],
      "id": "8wjqTqUmbl7b"
    },
    {
      "cell_type": "markdown",
      "metadata": {
        "id": "uSmsOMw_pPEs"
      },
      "source": [
        "## Training"
      ],
      "id": "uSmsOMw_pPEs"
    },
    {
      "cell_type": "markdown",
      "metadata": {
        "id": "hUR6DHuHpRss"
      },
      "source": [
        "### Spliting Data"
      ],
      "id": "hUR6DHuHpRss"
    },
    {
      "cell_type": "code",
      "execution_count": null,
      "metadata": {
        "id": "42bd4756"
      },
      "outputs": [],
      "source": [
        "X_train, X_test, y_train, y_test = train_test_split(X, y, test_size=0.2, random_state=1, stratify=y)"
      ],
      "id": "42bd4756"
    },
    {
      "cell_type": "markdown",
      "metadata": {
        "id": "VzlyFko_pYXz"
      },
      "source": [
        "### Training Using Decision Tree"
      ],
      "id": "VzlyFko_pYXz"
    },
    {
      "cell_type": "markdown",
      "metadata": {
        "id": "kfQi3raipiH-"
      },
      "source": [
        "#### Multiclass"
      ],
      "id": "kfQi3raipiH-"
    },
    {
      "cell_type": "code",
      "execution_count": null,
      "metadata": {
        "colab": {
          "background_save": true
        },
        "id": "pW_DaAWPxegZ"
      },
      "outputs": [],
      "source": [
        "DT = DecisionTreeClassifier()\n",
        "DT = DT.fit(X_train,y_train)"
      ],
      "id": "pW_DaAWPxegZ"
    },
    {
      "cell_type": "code",
      "execution_count": null,
      "metadata": {
        "colab": {
          "background_save": true
        },
        "id": "FXrjgD6Zx8QG"
      },
      "outputs": [],
      "source": [
        "y_pred = DT.predict(X_test)"
      ],
      "id": "FXrjgD6Zx8QG"
    },
    {
      "cell_type": "code",
      "execution_count": null,
      "metadata": {
        "colab": {
          "background_save": true
        },
        "id": "67fce06c",
        "outputId": "29e3ad15-045b-4eb8-c5ed-8d6383ee2687"
      },
      "outputs": [
        {
          "name": "stdout",
          "output_type": "stream",
          "text": [
            "0.7942317371388481\n"
          ]
        }
      ],
      "source": [
        "acc = accuracy_score(y_test, y_pred)\n",
        "print(acc)"
      ],
      "id": "67fce06c"
    },
    {
      "cell_type": "code",
      "execution_count": null,
      "metadata": {
        "colab": {
          "background_save": true
        },
        "id": "e934c287",
        "outputId": "0340b055-8082-4285-d6ea-29175c9ef5f6"
      },
      "outputs": [
        {
          "name": "stdout",
          "output_type": "stream",
          "text": [
            "Report : \n",
            "               precision    recall  f1-score   support\n",
            "\n",
            "           0       1.00      1.00      1.00      5927\n",
            "           1       0.92      0.89      0.90     19241\n",
            "           2       0.82      0.75      0.79     19583\n",
            "           3       0.96      0.96      0.96     19309\n",
            "           4       1.00      1.00      1.00     19905\n",
            "           5       1.00      1.00      1.00     19012\n",
            "           6       0.81      0.91      0.86     19925\n",
            "           7       0.65      0.56      0.60     19744\n",
            "           8       0.61      0.69      0.65     19561\n",
            "           9       0.52      0.94      0.66     17166\n",
            "          10       0.67      0.13      0.21     17324\n",
            "\n",
            "    accuracy                           0.79    196697\n",
            "   macro avg       0.81      0.80      0.79    196697\n",
            "weighted avg       0.81      0.79      0.78    196697\n",
            "\n"
          ]
        }
      ],
      "source": [
        "print(\"Report : \\n\",classification_report(y_test, y_pred))"
      ],
      "id": "e934c287"
    },
    {
      "cell_type": "markdown",
      "metadata": {
        "id": "-l0IRP_lpmXb"
      },
      "source": [
        "#### Binary Classification"
      ],
      "id": "-l0IRP_lpmXb"
    },
    {
      "cell_type": "code",
      "execution_count": null,
      "metadata": {
        "colab": {
          "background_save": true
        },
        "id": "PZrYmByP3g1q"
      },
      "outputs": [],
      "source": [
        "yB = (y == 0)"
      ],
      "id": "PZrYmByP3g1q"
    },
    {
      "cell_type": "code",
      "execution_count": null,
      "metadata": {
        "colab": {
          "background_save": true
        },
        "id": "opBniRQR58-m",
        "outputId": "20b0d0c8-666f-403b-acda-6dd733cfb6ad"
      },
      "outputs": [
        {
          "data": {
            "text/plain": [
              "0           True\n",
              "1           True\n",
              "2           True\n",
              "3           True\n",
              "4           True\n",
              "           ...  \n",
              "1029895    False\n",
              "1029896    False\n",
              "1029897    False\n",
              "1029898    False\n",
              "1029899    False\n",
              "Name: Label, Length: 983484, dtype: bool"
            ]
          },
          "execution_count": null,
          "metadata": {},
          "output_type": "execute_result"
        }
      ],
      "source": [
        "yB"
      ],
      "id": "opBniRQR58-m"
    },
    {
      "cell_type": "code",
      "execution_count": null,
      "metadata": {
        "colab": {
          "background_save": true
        },
        "id": "Gz4frklH6KIV"
      },
      "outputs": [],
      "source": [
        "X_train, X_test, y_train, y_test = train_test_split(X, yB, test_size=0.2, random_state=1, stratify=y)"
      ],
      "id": "Gz4frklH6KIV"
    },
    {
      "cell_type": "code",
      "execution_count": null,
      "metadata": {
        "colab": {
          "background_save": true
        },
        "id": "DfhyILt3i0Fo",
        "outputId": "b79abf72-33b9-4162-c3fd-fd038b6dab9e"
      },
      "outputs": [
        {
          "data": {
            "text/plain": [
              "349971    False\n",
              "178153    False\n",
              "404128    False\n",
              "553377    False\n",
              "723611    False\n",
              "          ...  \n",
              "86913     False\n",
              "364651    False\n",
              "670624    False\n",
              "996973    False\n",
              "317494     True\n",
              "Name: Label, Length: 786787, dtype: bool"
            ]
          },
          "execution_count": null,
          "metadata": {},
          "output_type": "execute_result"
        }
      ],
      "source": [
        "y_train"
      ],
      "id": "DfhyILt3i0Fo"
    },
    {
      "cell_type": "code",
      "execution_count": null,
      "metadata": {
        "colab": {
          "background_save": true
        },
        "id": "ZZ2eGcSQ6F4f"
      },
      "outputs": [],
      "source": [
        "DT_binary = DecisionTreeClassifier()\n",
        "DT_binary = DT_binary.fit(X_train,y_train)"
      ],
      "id": "ZZ2eGcSQ6F4f"
    },
    {
      "cell_type": "code",
      "execution_count": null,
      "metadata": {
        "colab": {
          "background_save": true
        },
        "id": "8PQKHj2Z6exx"
      },
      "outputs": [],
      "source": [
        "y_pred = DT_binary.predict(X_test)"
      ],
      "id": "8PQKHj2Z6exx"
    },
    {
      "cell_type": "code",
      "execution_count": null,
      "metadata": {
        "colab": {
          "background_save": true
        },
        "id": "cUa0V5xy6nXn",
        "outputId": "13d75d99-be2f-417f-b5c9-74f8d1acd9cb"
      },
      "outputs": [
        {
          "name": "stdout",
          "output_type": "stream",
          "text": [
            "0.9999339084988587\n"
          ]
        }
      ],
      "source": [
        "acc = accuracy_score(y_test, y_pred)\n",
        "print(acc)"
      ],
      "id": "cUa0V5xy6nXn"
    },
    {
      "cell_type": "code",
      "execution_count": null,
      "metadata": {
        "colab": {
          "background_save": true
        },
        "id": "ngWf8Yv96sPn",
        "outputId": "6a6626c6-4092-47be-857a-351bcd675e7d"
      },
      "outputs": [
        {
          "name": "stdout",
          "output_type": "stream",
          "text": [
            "Report : \n",
            "               precision    recall  f1-score   support\n",
            "\n",
            "       False       1.00      1.00      1.00    190770\n",
            "        True       1.00      1.00      1.00      5927\n",
            "\n",
            "    accuracy                           1.00    196697\n",
            "   macro avg       1.00      1.00      1.00    196697\n",
            "weighted avg       1.00      1.00      1.00    196697\n",
            "\n"
          ]
        }
      ],
      "source": [
        "print(\"Report : \\n\",classification_report(y_test, y_pred))"
      ],
      "id": "ngWf8Yv96sPn"
    },
    {
      "cell_type": "markdown",
      "metadata": {
        "id": "X8akpufNpuck"
      },
      "source": [
        "#### Training using Multi layer perceptron"
      ],
      "id": "X8akpufNpuck"
    },
    {
      "cell_type": "markdown",
      "metadata": {
        "id": "ExoX4TRypzwa"
      },
      "source": [
        "#### Multiclass"
      ],
      "id": "ExoX4TRypzwa"
    },
    {
      "cell_type": "code",
      "execution_count": null,
      "metadata": {
        "id": "U-zutuyiymwC"
      },
      "outputs": [],
      "source": [
        "MLP = MLPClassifier(random_state=42)\n",
        "MLP.fit(X_train,y_train)"
      ],
      "id": "U-zutuyiymwC"
    },
    {
      "cell_type": "code",
      "execution_count": null,
      "metadata": {
        "id": "Ghiu3eYty-LI"
      },
      "outputs": [],
      "source": [
        "y_pred2 = MLP.predict(X_test)"
      ],
      "id": "Ghiu3eYty-LI"
    },
    {
      "cell_type": "code",
      "execution_count": null,
      "metadata": {
        "id": "IYn6h4_z0LwS"
      },
      "outputs": [],
      "source": [
        "acc2 = accuracy_score(y_test, y_pred2)\n",
        "print(acc2)"
      ],
      "id": "IYn6h4_z0LwS"
    },
    {
      "cell_type": "code",
      "execution_count": null,
      "metadata": {
        "id": "wz2ojnDO0Sv4"
      },
      "outputs": [],
      "source": [
        "print(\"Report : \\n\",classification_report(y_test, y_pred2))"
      ],
      "id": "wz2ojnDO0Sv4"
    },
    {
      "cell_type": "code",
      "execution_count": null,
      "metadata": {
        "id": "dQw8IiQmHhuW"
      },
      "outputs": [],
      "source": [
        "y_pred_train = MLP.predict(X_train)"
      ],
      "id": "dQw8IiQmHhuW"
    },
    {
      "cell_type": "code",
      "execution_count": null,
      "metadata": {
        "id": "kBmwIZR3Hqb3"
      },
      "outputs": [],
      "source": [
        "acc_train = accuracy_score(y_train, y_pred_train)\n",
        "print(acc_train)"
      ],
      "id": "kBmwIZR3Hqb3"
    },
    {
      "cell_type": "markdown",
      "metadata": {
        "id": "jBh0sojvp4RS"
      },
      "source": [
        "### Training Using SGD SVM"
      ],
      "id": "jBh0sojvp4RS"
    },
    {
      "cell_type": "markdown",
      "metadata": {
        "id": "M3BuFpsap8QL"
      },
      "source": [
        "#### Multiclass"
      ],
      "id": "M3BuFpsap8QL"
    },
    {
      "cell_type": "code",
      "execution_count": null,
      "metadata": {
        "id": "871no2cNb7Wf"
      },
      "outputs": [],
      "source": [
        "from sklearn.linear_model import SGDClassifier\n",
        "\n",
        "sgd_clf = SGDClassifier(random_state=42)\n",
        "sgd_clf.fit(X_train, y_train)"
      ],
      "id": "871no2cNb7Wf"
    },
    {
      "cell_type": "code",
      "execution_count": null,
      "metadata": {
        "id": "Eb1mAEbhIyYG"
      },
      "outputs": [],
      "source": [
        "y_pred = sgd_clf.predict(X_test)"
      ],
      "id": "Eb1mAEbhIyYG"
    },
    {
      "cell_type": "code",
      "execution_count": null,
      "metadata": {
        "id": "qCPcjQN8U4D9"
      },
      "outputs": [],
      "source": [
        "acc = accuracy_score(y_test, y_pred)\n",
        "print(acc)"
      ],
      "id": "qCPcjQN8U4D9"
    },
    {
      "cell_type": "code",
      "execution_count": null,
      "metadata": {
        "id": "H7D_eQX-VBVL"
      },
      "outputs": [],
      "source": [
        "print(\"Report : \\n\",classification_report(y_test, y_pred))"
      ],
      "id": "H7D_eQX-VBVL"
    },
    {
      "cell_type": "markdown",
      "metadata": {
        "id": "iy4gW362jwLN"
      },
      "source": [
        "## Using Feature Extraction on DT"
      ],
      "id": "iy4gW362jwLN"
    },
    {
      "cell_type": "markdown",
      "metadata": {
        "id": "Mf_6uUVWmc-2"
      },
      "source": [
        "### LDA"
      ],
      "id": "Mf_6uUVWmc-2"
    },
    {
      "cell_type": "code",
      "execution_count": null,
      "metadata": {
        "id": "nSZ6y00-j0UP",
        "colab": {
          "base_uri": "https://localhost:8080/"
        },
        "outputId": "835172e7-784a-46be-cd5e-30b344e9f9dc"
      },
      "outputs": [
        {
          "output_type": "stream",
          "name": "stdout",
          "text": [
            "Original number of features: 66\n",
            "Reduced number of features: 10\n"
          ]
        }
      ],
      "source": [
        "from sklearn.discriminant_analysis import LinearDiscriminantAnalysis\n",
        "\n",
        "lda = LinearDiscriminantAnalysis(n_components=10)\n",
        "\n",
        "# run an LDA and use it to transform the features\n",
        "X_lda = lda.fit(X, y).transform(X)\n",
        "print('Original number of features:', X.shape[1])\n",
        "print('Reduced number of features:', X_lda.shape[1])"
      ],
      "id": "nSZ6y00-j0UP"
    },
    {
      "cell_type": "code",
      "execution_count": null,
      "metadata": {
        "id": "yGv98TckkKDT"
      },
      "outputs": [],
      "source": [
        "X_train, X_test, y_train, y_test = train_test_split(X_lda, y, test_size=0.2, random_state=1, stratify=y)"
      ],
      "id": "yGv98TckkKDT"
    },
    {
      "cell_type": "code",
      "execution_count": null,
      "metadata": {
        "id": "COgO3_culMMa"
      },
      "outputs": [],
      "source": [
        "DT_lda = DecisionTreeClassifier()\n",
        "DT_lda = DT_lda.fit(X_train,y_train)"
      ],
      "id": "COgO3_culMMa"
    },
    {
      "cell_type": "code",
      "execution_count": null,
      "metadata": {
        "id": "E7imkbHhlbPy"
      },
      "outputs": [],
      "source": [
        "y_pred = DT_lda.predict(X_test)"
      ],
      "id": "E7imkbHhlbPy"
    },
    {
      "cell_type": "code",
      "execution_count": null,
      "metadata": {
        "id": "HiZ563ZWliBR",
        "colab": {
          "base_uri": "https://localhost:8080/"
        },
        "outputId": "e58d99a6-ddf6-46bd-de02-6dfd4147e4d3"
      },
      "outputs": [
        {
          "output_type": "stream",
          "name": "stdout",
          "text": [
            "0.724357768547563\n"
          ]
        }
      ],
      "source": [
        "acc = accuracy_score(y_test, y_pred)\n",
        "print(acc)"
      ],
      "id": "HiZ563ZWliBR"
    },
    {
      "cell_type": "code",
      "execution_count": null,
      "metadata": {
        "id": "LA54W14cloDY",
        "colab": {
          "base_uri": "https://localhost:8080/"
        },
        "outputId": "44213955-bb9a-45d4-9f65-3c50ef2f11e0"
      },
      "outputs": [
        {
          "output_type": "stream",
          "name": "stdout",
          "text": [
            "Report : \n",
            "               precision    recall  f1-score   support\n",
            "\n",
            "           0       1.00      1.00      1.00      5927\n",
            "           1       0.56      0.80      0.66     19241\n",
            "           2       0.69      0.26      0.38     19583\n",
            "           3       0.95      0.96      0.95     19309\n",
            "           4       1.00      1.00      1.00     19905\n",
            "           5       1.00      1.00      1.00     19012\n",
            "           6       0.74      0.90      0.81     19925\n",
            "           7       0.60      0.47      0.53     19744\n",
            "           8       0.57      0.68      0.62     19561\n",
            "           9       0.52      0.94      0.67     17166\n",
            "          10       0.67      0.13      0.21     17324\n",
            "\n",
            "    accuracy                           0.72    196697\n",
            "   macro avg       0.75      0.74      0.71    196697\n",
            "weighted avg       0.74      0.72      0.70    196697\n",
            "\n"
          ]
        }
      ],
      "source": [
        "print(\"Report : \\n\",classification_report(y_test, y_pred))"
      ],
      "id": "LA54W14cloDY"
    },
    {
      "cell_type": "markdown",
      "metadata": {
        "id": "Vdh5va9EmfrZ"
      },
      "source": [
        "### PCA"
      ],
      "id": "Vdh5va9EmfrZ"
    },
    {
      "cell_type": "code",
      "execution_count": null,
      "metadata": {
        "id": "_omQ5VOEmlJD",
        "colab": {
          "base_uri": "https://localhost:8080/"
        },
        "outputId": "476e51a6-c347-4a77-9c82-cc9928b36b84"
      },
      "outputs": [
        {
          "output_type": "stream",
          "name": "stdout",
          "text": [
            "[6.68894955e+18 1.04548491e+18 3.04269744e+16 5.42936944e+14\n",
            " 9.46715622e+13 8.52631876e+12 3.83736659e+12 1.14372452e+12\n",
            " 6.74384362e+11 4.38469458e+11 2.01548882e+11 1.77999148e+11\n",
            " 8.40265237e+10 2.61257837e+10 2.51336807e+10 1.60900009e+10\n",
            " 8.93310893e+09 7.30518090e+09 3.64837379e+09 3.22508589e+09]\n"
          ]
        }
      ],
      "source": [
        "from sklearn.decomposition import PCA\n",
        "\n",
        "pca = PCA(n_components=20,svd_solver='full')\n",
        "X_pca = pca.fit_transform(X)\n",
        "print(pca.explained_variance_)"
      ],
      "id": "_omQ5VOEmlJD"
    },
    {
      "cell_type": "code",
      "execution_count": null,
      "metadata": {
        "id": "AHsdi-yVnRn6"
      },
      "outputs": [],
      "source": [
        "X_train, X_test, y_train, y_test = train_test_split(X_pca, y, test_size=0.2, random_state=1, stratify=y)"
      ],
      "id": "AHsdi-yVnRn6"
    },
    {
      "cell_type": "code",
      "execution_count": null,
      "metadata": {
        "id": "Y_gpXcCjnHRa"
      },
      "outputs": [],
      "source": [
        "DT_pca = DecisionTreeClassifier()\n",
        "DT_pca = DT_pca.fit(X_train,y_train)"
      ],
      "id": "Y_gpXcCjnHRa"
    },
    {
      "cell_type": "code",
      "execution_count": null,
      "metadata": {
        "id": "P18oio8HnXEc"
      },
      "outputs": [],
      "source": [
        "y_pred = DT_pca.predict(X_test)"
      ],
      "id": "P18oio8HnXEc"
    },
    {
      "cell_type": "code",
      "execution_count": null,
      "metadata": {
        "id": "8IdhiDgXne5A",
        "colab": {
          "base_uri": "https://localhost:8080/"
        },
        "outputId": "e1d75c55-56e5-4261-bf4e-27a3d6c90ac5"
      },
      "outputs": [
        {
          "output_type": "stream",
          "name": "stdout",
          "text": [
            "0.790855986619013\n"
          ]
        }
      ],
      "source": [
        "acc = accuracy_score(y_test, y_pred)\n",
        "print(acc)"
      ],
      "id": "8IdhiDgXne5A"
    },
    {
      "cell_type": "code",
      "execution_count": null,
      "metadata": {
        "id": "zJSt4O0WnjJN",
        "colab": {
          "base_uri": "https://localhost:8080/"
        },
        "outputId": "aec8941c-b63d-4958-a945-830c3f2a6f48"
      },
      "outputs": [
        {
          "output_type": "stream",
          "name": "stdout",
          "text": [
            "Report : \n",
            "               precision    recall  f1-score   support\n",
            "\n",
            "           0       0.99      0.99      0.99      5927\n",
            "           1       0.91      0.88      0.89     19241\n",
            "           2       0.82      0.74      0.78     19583\n",
            "           3       0.96      0.95      0.96     19309\n",
            "           4       0.99      1.00      0.99     19905\n",
            "           5       1.00      1.00      1.00     19012\n",
            "           6       0.80      0.91      0.85     19925\n",
            "           7       0.64      0.56      0.60     19744\n",
            "           8       0.61      0.69      0.65     19561\n",
            "           9       0.52      0.94      0.66     17166\n",
            "          10       0.67      0.13      0.21     17324\n",
            "\n",
            "    accuracy                           0.79    196697\n",
            "   macro avg       0.81      0.80      0.78    196697\n",
            "weighted avg       0.80      0.79      0.77    196697\n",
            "\n"
          ]
        }
      ],
      "source": [
        "print(\"Report : \\n\",classification_report(y_test, y_pred))"
      ],
      "id": "zJSt4O0WnjJN"
    },
    {
      "cell_type": "markdown",
      "source": [
        "### LDA"
      ],
      "metadata": {
        "id": "8l3qTbsY5Jcx"
      },
      "id": "8l3qTbsY5Jcx"
    },
    {
      "cell_type": "code",
      "execution_count": null,
      "metadata": {
        "id": "QFu0wdhd3DYX"
      },
      "outputs": [],
      "source": [
        "from sklearn.decomposition import FastICA\n",
        "\n",
        "ica = FastICA(n_components=30)\n",
        "X_ica = ica.fit_transform(X)"
      ],
      "id": "QFu0wdhd3DYX"
    },
    {
      "cell_type": "code",
      "execution_count": null,
      "metadata": {
        "id": "EBFZqxcbqLUZ"
      },
      "outputs": [],
      "source": [
        "X_train, X_test, y_train, y_test = train_test_split(X_ica, y, test_size=0.2, random_state=1, stratify=y)"
      ],
      "id": "EBFZqxcbqLUZ"
    },
    {
      "cell_type": "code",
      "execution_count": null,
      "metadata": {
        "id": "PLD99XxwqTS3"
      },
      "outputs": [],
      "source": [
        "DT_ica = DecisionTreeClassifier()\n",
        "DT_ica = DT_ica.fit(X_train,y_train)"
      ],
      "id": "PLD99XxwqTS3"
    },
    {
      "cell_type": "code",
      "execution_count": null,
      "metadata": {
        "id": "qFUx-dXbqn-M"
      },
      "outputs": [],
      "source": [
        "y_pred = DT_ica.predict(X_test)"
      ],
      "id": "qFUx-dXbqn-M"
    },
    {
      "cell_type": "code",
      "execution_count": null,
      "metadata": {
        "id": "YAobn3abqbAi",
        "colab": {
          "base_uri": "https://localhost:8080/"
        },
        "outputId": "9d1b4435-b73c-4fdb-c54d-a4a4ffa2e9fb"
      },
      "outputs": [
        {
          "output_type": "stream",
          "name": "stdout",
          "text": [
            "0.715043950848259\n"
          ]
        }
      ],
      "source": [
        "acc = accuracy_score(y_test, y_pred)\n",
        "print(acc)"
      ],
      "id": "YAobn3abqbAi"
    },
    {
      "cell_type": "code",
      "execution_count": null,
      "metadata": {
        "id": "DBzuEfQiqfCX",
        "colab": {
          "base_uri": "https://localhost:8080/"
        },
        "outputId": "656ba921-dff7-43ad-e4c2-c2a0cbcc9efb"
      },
      "outputs": [
        {
          "output_type": "stream",
          "name": "stdout",
          "text": [
            "Report : \n",
            "               precision    recall  f1-score   support\n",
            "\n",
            "           0       0.99      0.99      0.99      5927\n",
            "           1       0.79      0.27      0.41     19241\n",
            "           2       0.52      0.72      0.61     19583\n",
            "           3       0.90      0.96      0.93     19309\n",
            "           4       1.00      1.00      1.00     19905\n",
            "           5       1.00      1.00      1.00     19012\n",
            "           6       0.73      0.91      0.81     19925\n",
            "           7       0.69      0.25      0.36     19744\n",
            "           8       0.54      0.85      0.66     19561\n",
            "           9       0.52      0.93      0.66     17166\n",
            "          10       0.66      0.13      0.22     17324\n",
            "\n",
            "    accuracy                           0.72    196697\n",
            "   macro avg       0.76      0.73      0.70    196697\n",
            "weighted avg       0.74      0.72      0.68    196697\n",
            "\n"
          ]
        }
      ],
      "source": [
        "print(\"Report : \\n\",classification_report(y_test, y_pred))"
      ],
      "id": "DBzuEfQiqfCX"
    },
    {
      "cell_type": "code",
      "execution_count": null,
      "metadata": {
        "id": "9tSiqX07qjaA"
      },
      "outputs": [],
      "source": [
        ""
      ],
      "id": "9tSiqX07qjaA"
    }
  ],
  "metadata": {
    "accelerator": "GPU",
    "colab": {
      "machine_shape": "hm",
      "name": "Copy of AiforCs_project.ipynb",
      "provenance": [],
      "collapsed_sections": [
        "-l0IRP_lpmXb",
        "X8akpufNpuck",
        "ExoX4TRypzwa",
        "jBh0sojvp4RS",
        "Mf_6uUVWmc-2",
        "8l3qTbsY5Jcx"
      ]
    },
    "kernelspec": {
      "display_name": "Python 3 (ipykernel)",
      "language": "python",
      "name": "python3"
    },
    "language_info": {
      "codemirror_mode": {
        "name": "ipython",
        "version": 3
      },
      "file_extension": ".py",
      "mimetype": "text/x-python",
      "name": "python",
      "nbconvert_exporter": "python",
      "pygments_lexer": "ipython3",
      "version": "3.8.11"
    }
  },
  "nbformat": 4,
  "nbformat_minor": 5
}